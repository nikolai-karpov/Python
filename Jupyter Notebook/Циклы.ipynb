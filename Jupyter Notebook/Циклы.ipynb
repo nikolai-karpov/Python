{
  "nbformat": 4,
  "nbformat_minor": 0,
  "metadata": {
    "colab": {
      "name": "sf_cycles_11_12_21.ipynb",
      "provenance": [],
      "collapsed_sections": []
    },
    "kernelspec": {
      "display_name": "Python 3",
      "language": "python",
      "name": "python3"
    },
    "language_info": {
      "codemirror_mode": {
        "name": "ipython",
        "version": 3
      },
      "file_extension": ".py",
      "mimetype": "text/x-python",
      "name": "python",
      "nbconvert_exporter": "python",
      "pygments_lexer": "ipython3",
      "version": "3.8.5"
    }
  },
  "cells": [
    {
      "cell_type": "markdown",
      "metadata": {
        "id": "E1ZR1FHYMsJh"
      },
      "source": [
        "# Циклы "
      ]
    },
    {
      "cell_type": "markdown",
      "metadata": {
        "id": "8ONOFUcIEeYK"
      },
      "source": [
        "Булыгин Олег  \n",
        "\n",
        "* [LinkedIn](linkedin.com/in/obulygin)  \n",
        "* [Telegram](https://t.me/obulygin91)  \n",
        "* [facebook](fb.com/obulygin91)  \n",
        "* [Vk](vk.com/obulygin91)  \n",
        "* email: obulygin91@ya.ru  \n",
        "\n",
        "[Сообщество по Python](https://yandex.ru/q/loves/pythontalk/) на Кью  \n",
        "[Сообщество по Data Science и анализу данных](https://yandex.ru/q/loves/datatalk/) на Кью "
      ]
    },
    {
      "cell_type": "markdown",
      "metadata": {
        "id": "Vw4ia5wCEeYL"
      },
      "source": [
        "## План\n",
        "- цикл for  \n",
        "- функции range и enumerate  \n",
        "- цикл while\n",
        "- операторы break и continue\n",
        "- вложенные циклы "
      ]
    },
    {
      "cell_type": "markdown",
      "source": [
        ""
      ],
      "metadata": {
        "id": "f16jOH2EnxZ4"
      }
    },
    {
      "cell_type": "markdown",
      "metadata": {
        "id": "TO6qJiIUPdTy"
      },
      "source": [
        "## Циклы\n",
        "Циклы позволяют организовать повторение выполнения участков кода. В Python существует два типа циклов: цикл **for** и цикл **while**.\n"
      ]
    },
    {
      "cell_type": "markdown",
      "metadata": {
        "id": "mTox4sr2MsKs"
      },
      "source": [
        "## Цикл **for**\n",
        "\n",
        "Цикл for проходится по элементам любого итерируемого объекта (строки, списка и т.д.) и во время каждого прохода выполняет заданную последовательность действий.\n",
        "\n",
        "Внутри цикла могут быть любые другие конструкции языка.\n"
      ]
    },
    {
      "cell_type": "code",
      "metadata": {
        "id": "kwPNp-WzEeYT",
        "colab": {
          "base_uri": "https://localhost:8080/"
        },
        "outputId": "933a6483-d5bf-45fa-bb23-974250bad0af"
      },
      "source": [
        "# итерация по строкам\n",
        "company_name = 'SkillFactory'\n",
        "# мы сами задаем имя переменной в которую будут последовательно помещаться каждый элемент нашего объекта\n",
        "for letter in company_name: \n",
        "    letter = letter.upper()\n",
        "    print(f'*{letter}*', end='')"
      ],
      "execution_count": null,
      "outputs": [
        {
          "output_type": "stream",
          "name": "stdout",
          "text": [
            "*S**K**I**L**L**F**A**C**T**O**R**Y*"
          ]
        }
      ]
    },
    {
      "cell_type": "markdown",
      "metadata": {
        "id": "pc1MUfRFEeYQ"
      },
      "source": [
        "\n",
        "У нас есть фургон, в котором мы перевозим грузы. Установлено ограничение на максимальный вес груза в 100кг. Необходимо произвести фильтрацию данных грузов"
      ]
    },
    {
      "cell_type": "code",
      "metadata": {
        "id": "mq0hMqEt9Jyx",
        "scrolled": false,
        "colab": {
          "base_uri": "https://localhost:8080/"
        },
        "outputId": "c1705dfb-1d1c-4fc3-df5a-0b25d5ff82c0"
      },
      "source": [
        "items = [1, 5, 76, 12, 123, 333, 5, 6, 7]\n",
        "ok_items = []\n",
        "\n",
        "for item in items:\n",
        "    print('Груз весит ', item, ' килограмм')\n",
        "    if item <= 100:\n",
        "        ok_items.append(item) \n",
        "        print('Груз прошел проверку')\n",
        "    else:\n",
        "        print('Груз слишком большой')\n",
        "print(ok_items)"
      ],
      "execution_count": null,
      "outputs": [
        {
          "output_type": "stream",
          "name": "stdout",
          "text": [
            "Груз весит  1  килограмм\n",
            "Груз прошел проверку\n",
            "Груз весит  5  килограмм\n",
            "Груз прошел проверку\n",
            "Груз весит  76  килограмм\n",
            "Груз прошел проверку\n",
            "Груз весит  12  килограмм\n",
            "Груз прошел проверку\n",
            "Груз весит  123  килограмм\n",
            "Груз слишком большой\n",
            "Груз весит  333  килограмм\n",
            "Груз слишком большой\n",
            "Груз весит  5  килограмм\n",
            "Груз прошел проверку\n",
            "Груз весит  6  килограмм\n",
            "Груз прошел проверку\n",
            "Груз весит  7  килограмм\n",
            "Груз прошел проверку\n",
            "[1, 5, 76, 12, 5, 6, 7]\n"
          ]
        }
      ]
    },
    {
      "cell_type": "markdown",
      "metadata": {
        "id": "MuIrVPjv4Awm"
      },
      "source": [
        "Выведем информацию о компаниях, которые харанятся во вложенных списках в виде:  \n",
        "`Company's capitalizations is ***`"
      ]
    },
    {
      "cell_type": "code",
      "metadata": {
        "id": "zIIJF5BZfzo0",
        "colab": {
          "base_uri": "https://localhost:8080/"
        },
        "outputId": "f016be78-7b60-4dc0-8165-48de2251733a"
      },
      "source": [
        "companies_capitalization = [\n",
        "    ['Orange', 1.3],\n",
        "    ['Maxisoft', 1.5],\n",
        "    ['Headbook', 0.8],\n",
        "    ['Nicola', 2.2]\n",
        "]\n",
        "for company in companies_capitalization:\n",
        "    # print(company)\n",
        "    print(f\"{company[0]}'s capitalization is {company[1]}\")"
      ],
      "execution_count": null,
      "outputs": [
        {
          "output_type": "stream",
          "name": "stdout",
          "text": [
            "Orange's capitalization is 1.3\n",
            "Maxisoft's capitalization is 1.5\n",
            "Headbook's capitalization is 0.8\n",
            "Nicola's capitalization is 2.2\n"
          ]
        }
      ]
    },
    {
      "cell_type": "markdown",
      "metadata": {
        "id": "T6ovLfhv4G33"
      },
      "source": [
        "Мы можем распаковать элементы прямо в списке"
      ]
    },
    {
      "cell_type": "code",
      "metadata": {
        "id": "z63fHl3mfzo1",
        "colab": {
          "base_uri": "https://localhost:8080/",
          "height": 278
        },
        "outputId": "97e2baa1-07ec-45b8-f88f-ac5f22e9a1d1"
      },
      "source": [
        "companies_capitalization = [\n",
        "    ['Orange', 1.3],\n",
        "    ['Maxisoft', 1.5],\n",
        "    ['Headbook', 0.8],\n",
        "    ['Nicola', 2.2]\n",
        "]\n",
        "for company_name, cap in companies_capitalization:\n",
        "    print(f\"{company_name}'s capitalization is {cap}\")"
      ],
      "execution_count": null,
      "outputs": [
        {
          "output_type": "stream",
          "name": "stdout",
          "text": [
            "Orange's capitalization is 1.3\n",
            "Maxisoft's capitalization is 1.5\n",
            "Headbook's capitalization is 0.8\n"
          ]
        },
        {
          "output_type": "error",
          "ename": "ValueError",
          "evalue": "ignored",
          "traceback": [
            "\u001b[0;31m---------------------------------------------------------------------------\u001b[0m",
            "\u001b[0;31mValueError\u001b[0m                                Traceback (most recent call last)",
            "\u001b[0;32m<ipython-input-7-d8ac378a658b>\u001b[0m in \u001b[0;36m<module>\u001b[0;34m()\u001b[0m\n\u001b[1;32m      5\u001b[0m     \u001b[0;34m[\u001b[0m\u001b[0;34m'Nicola'\u001b[0m\u001b[0;34m,\u001b[0m \u001b[0;36m2.2\u001b[0m\u001b[0;34m,\u001b[0m \u001b[0;36m5\u001b[0m\u001b[0;34m,\u001b[0m \u001b[0;36m45457\u001b[0m\u001b[0;34m]\u001b[0m\u001b[0;34m\u001b[0m\u001b[0;34m\u001b[0m\u001b[0m\n\u001b[1;32m      6\u001b[0m ]\n\u001b[0;32m----> 7\u001b[0;31m \u001b[0;32mfor\u001b[0m \u001b[0mcompany_name\u001b[0m\u001b[0;34m,\u001b[0m \u001b[0mcap\u001b[0m \u001b[0;32min\u001b[0m \u001b[0mcompanies_capitalization\u001b[0m\u001b[0;34m:\u001b[0m\u001b[0;34m\u001b[0m\u001b[0;34m\u001b[0m\u001b[0m\n\u001b[0m\u001b[1;32m      8\u001b[0m     \u001b[0mprint\u001b[0m\u001b[0;34m(\u001b[0m\u001b[0;34mf\"{company_name}'s capitalization is {cap}\"\u001b[0m\u001b[0;34m)\u001b[0m\u001b[0;34m\u001b[0m\u001b[0;34m\u001b[0m\u001b[0m\n",
            "\u001b[0;31mValueError\u001b[0m: too many values to unpack (expected 2)"
          ]
        }
      ]
    },
    {
      "cell_type": "markdown",
      "metadata": {
        "id": "HQ_0HW2Kfzo6"
      },
      "source": [
        "Посчитаем сумму элементов по главной диагонали квадратной матрицы"
      ]
    },
    {
      "cell_type": "code",
      "metadata": {
        "id": "aikBFIlufzo7"
      },
      "source": [
        "data = [\n",
        "    [13, 25, 23, 34],\n",
        "    [45, 32, 44, 47],\n",
        "    [12, 33, 23, 95],\n",
        "    [13, 53, 34, 35]\n",
        "]"
      ],
      "execution_count": null,
      "outputs": []
    },
    {
      "cell_type": "code",
      "metadata": {
        "id": "-N9BFu3Gfzo7",
        "colab": {
          "base_uri": "https://localhost:8080/"
        },
        "outputId": "f23c5544-b1a4-42ed-fe1f-fcdd62613db3"
      },
      "source": [
        "sum_ = 0\n",
        "index = 0\n",
        "for row in data:\n",
        "    # print(row)\n",
        "    sum_ += row[index]\n",
        "    index += 1\n",
        "print(sum_)"
      ],
      "execution_count": null,
      "outputs": [
        {
          "output_type": "stream",
          "name": "stdout",
          "text": [
            "103\n"
          ]
        }
      ]
    },
    {
      "cell_type": "code",
      "source": [
        "sum_ = 0\n",
        "index = 0\n",
        "for row in data:\n",
        "    print(row[index])\n",
        "    index += 1\n"
      ],
      "metadata": {
        "colab": {
          "base_uri": "https://localhost:8080/"
        },
        "id": "q-D-XTS6r4Y5",
        "outputId": "f2663cb3-7975-4df1-d0bc-8cfd8139d928"
      },
      "execution_count": null,
      "outputs": [
        {
          "output_type": "stream",
          "name": "stdout",
          "text": [
            "13\n",
            "32\n",
            "23\n",
            "35\n"
          ]
        }
      ]
    },
    {
      "cell_type": "code",
      "source": [
        "sum_ = 0\n",
        "index = 1\n",
        "for row in data[:-1]:\n",
        "    print(row[index])\n",
        "    index += 1"
      ],
      "metadata": {
        "colab": {
          "base_uri": "https://localhost:8080/"
        },
        "id": "FhYaFN3tsGpX",
        "outputId": "3ab3350b-d7f8-423e-de49-18f67d55dd88"
      },
      "execution_count": null,
      "outputs": [
        {
          "output_type": "stream",
          "name": "stdout",
          "text": [
            "25\n",
            "44\n",
            "95\n"
          ]
        }
      ]
    },
    {
      "cell_type": "code",
      "source": [
        "sum_ = 0\n",
        "index = 1\n",
        "for row in data:\n",
        "    try:\n",
        "        print(row[index])\n",
        "        index += 1\n",
        "    except:\n",
        "        break"
      ],
      "metadata": {
        "colab": {
          "base_uri": "https://localhost:8080/"
        },
        "id": "TR1Rs3mAsgR-",
        "outputId": "c1d79934-8ecd-4a47-9d30-454abdb9b9c2"
      },
      "execution_count": null,
      "outputs": [
        {
          "output_type": "stream",
          "name": "stdout",
          "text": [
            "25\n",
            "44\n",
            "95\n"
          ]
        }
      ]
    },
    {
      "cell_type": "markdown",
      "metadata": {
        "id": "ieqdcwQHWCL3"
      },
      "source": [
        "**Практика** \n",
        "\n",
        "Внести правки в код выше, чтобы посчитать сумму элементов по обратной диагонали в матрице"
      ]
    },
    {
      "cell_type": "code",
      "metadata": {
        "id": "H9cGdhDTWBzJ",
        "colab": {
          "base_uri": "https://localhost:8080/"
        },
        "outputId": "6b284033-fb0c-425b-9d18-8b8a1153339a"
      },
      "source": [
        "sum_ = 0 \n",
        "index = -1\n",
        "for row in data: \n",
        "    # print(row) \n",
        "    sum_ += row[index] \n",
        "    index -= 1 \n",
        "print(sum_) "
      ],
      "execution_count": null,
      "outputs": [
        {
          "output_type": "stream",
          "name": "stdout",
          "text": [
            "124\n"
          ]
        }
      ]
    },
    {
      "cell_type": "code",
      "source": [
        "my_list_1 = [1, 2, 3, 4 ,5, 6]\n",
        "my_list_2 = [4, 5, 6, 7]\n",
        "\n",
        "for number in my_list_1:\n",
        "    if number in my_list_2:\n",
        "        print('Такое число есть')\n",
        "    else:\n",
        "        print('Такое число не найдено')"
      ],
      "metadata": {
        "colab": {
          "base_uri": "https://localhost:8080/"
        },
        "id": "cQqzYTkPs1sr",
        "outputId": "adb944f6-59ea-48a4-d830-58f519778b86"
      },
      "execution_count": null,
      "outputs": [
        {
          "output_type": "stream",
          "name": "stdout",
          "text": [
            "Такое число не найдено\n",
            "Такое число не найдено\n",
            "Такое число не найдено\n",
            "Такое число есть\n",
            "Такое число есть\n",
            "Такое число есть\n"
          ]
        }
      ]
    },
    {
      "cell_type": "markdown",
      "metadata": {
        "id": "1NeEO4Npfzo_"
      },
      "source": [
        "Пример вычисления метрики из набора списков. Столбцы в каждой строке:\n",
        "- дата\n",
        "- номер счетчика\n",
        "- количество визитов\n",
        "\n",
        "Найдем среднее количество визитов по нашим данным"
      ]
    },
    {
      "cell_type": "code",
      "metadata": {
        "id": "QKwhOXK3fzpA"
      },
      "source": [
        "api_response = [\n",
        "    ['2017-12-26', '777', 184],\n",
        "    ['2017-12-27', '111', 146],\n",
        "    ['2017-12-28', '777', 98],\n",
        "    ['2017-12-29', '777', 206],\n",
        "    ['2017-12-30', '111', 254],\n",
        "    ['2017-12-31', '777', 89],\n",
        "    ['2018-01-01', '111', 54],\n",
        "    ['2018-01-02', '777', 68],\n",
        "    ['2018-01-03', '777', 74],\n",
        "    ['2018-01-04', '111', 89],\n",
        "    ['2018-01-05', '777', 104],\n",
        "    ['2018-01-06', '777', 99],\n",
        "    ['2018-01-07', '777', 145],\n",
        "    ['2018-01-08', '111', 184],\n",
        "]"
      ],
      "execution_count": null,
      "outputs": []
    },
    {
      "cell_type": "code",
      "metadata": {
        "id": "LZM9_4udfzpA",
        "colab": {
          "base_uri": "https://localhost:8080/"
        },
        "outputId": "058d9ab6-747a-4879-d081-b4d67f362c67"
      },
      "source": [
        "sum_ = 0\n",
        "for element in api_response:\n",
        "    sum_ += element[2]\n",
        "\n",
        "print(round(sum_ / len(api_response), 2))"
      ],
      "execution_count": null,
      "outputs": [
        {
          "output_type": "stream",
          "name": "stdout",
          "text": [
            "128.14\n"
          ]
        }
      ]
    },
    {
      "cell_type": "markdown",
      "metadata": {
        "id": "QoWjzgFBfzo1"
      },
      "source": [
        "**Практика**  \n",
        "У нас есть список, содержащий информацию о среднедневной температуре в Фаренгейтах за произвольный период по странам. Необходимо написать код, который рассчитает среднюю температуру за период для каждой страны.\n",
        "\n",
        "Информацию нужно вывести в следующем виде:\n",
        "\n",
        "```\n",
        "Средняя температура в Thailand — ** F  \n",
        "Средняя температура в Germany — ** F\n",
        "...\n",
        "```"
      ]
    },
    {
      "cell_type": "code",
      "metadata": {
        "id": "Fyrtic1sfzo2"
      },
      "source": [
        "countries_temperature = [\n",
        "    ['Thailand', [75.2, 77, 78.8, 73.4, 68, 75.2, 77]],\n",
        "    ['Germany', [57.2, 55.4, 59, 59, 53.6]],\n",
        "    ['Russia', [35.6, 37.4, 39.2, 41, 42.8, 39.2, 35.6]],\n",
        "    ['Poland', [50, 50, 53.6, 57.2, 55.4, 55.4]]\n",
        "]"
      ],
      "execution_count": null,
      "outputs": []
    },
    {
      "cell_type": "code",
      "metadata": {
        "id": "3MQvE0Mdfzo6",
        "colab": {
          "base_uri": "https://localhost:8080/"
        },
        "outputId": "c0268627-b81b-43b0-cd3c-773d2504509c"
      },
      "source": [
        "for country in countries_temperature:\n",
        "    avg_temp = sum(country[1]) / len(country[1])\n",
        "    print(f'Средняя температура в {country[0]} — {avg_temp :.2f} F')"
      ],
      "execution_count": null,
      "outputs": [
        {
          "output_type": "stream",
          "name": "stdout",
          "text": [
            "Средняя температура в Thailand — 74.94 F\n",
            "Средняя температура в Germany — 56.84 F\n",
            "Средняя температура в Russia — 38.69 F\n",
            "Средняя температура в Poland — 53.60 F\n"
          ]
        }
      ]
    },
    {
      "cell_type": "markdown",
      "metadata": {
        "id": "N48ikJJQApD2"
      },
      "source": [
        "Итерация по словарям. \n",
        "Выведем информацию о странах и столициах в виде:  \n",
        " `The capital of ... is ...`"
      ]
    },
    {
      "cell_type": "code",
      "metadata": {
        "id": "vCv-tCPrA2Gp"
      },
      "source": [
        "europe = {'spain': {'capital':'madrid'},\n",
        "           'france': {'capital':'paris'},\n",
        "           'germany': {'capital':'berlin'},\n",
        "           'norway': {'capital':'oslo'}}"
      ],
      "execution_count": null,
      "outputs": []
    },
    {
      "cell_type": "code",
      "metadata": {
        "id": "wWWxuvvLA7df",
        "colab": {
          "base_uri": "https://localhost:8080/"
        },
        "outputId": "243cc659-92e5-49c6-c0f6-f8bfe9340f27"
      },
      "source": [
        "for country, info in europe.items():\n",
        "    print(f'The capital of {country.title()} is {info[\"capital\"].title()}')"
      ],
      "execution_count": null,
      "outputs": [
        {
          "output_type": "stream",
          "name": "stdout",
          "text": [
            "{'capital': 'madrid'}\n",
            "The capital of Spain is Madrid\n",
            "{'capital': 'paris'}\n",
            "The capital of France is Paris\n",
            "{'capital': 'berlin'}\n",
            "The capital of Germany is Berlin\n",
            "{'capital': 'oslo'}\n",
            "The capital of Norway is Oslo\n"
          ]
        }
      ]
    },
    {
      "cell_type": "code",
      "source": [
        "for country, info in europe.items():\n",
        "    print(info)\n",
        "    print(f'The capital of {country.title()} is {list(info.values())[0].title()}')"
      ],
      "metadata": {
        "id": "pkytw23bxhkW"
      },
      "execution_count": null,
      "outputs": []
    },
    {
      "cell_type": "markdown",
      "metadata": {
        "id": "LFvTBZIK6zmP"
      },
      "source": [
        "Посчитаем средний возраст в коллективе"
      ]
    },
    {
      "cell_type": "code",
      "metadata": {
        "id": "1p9kq0qx__sL"
      },
      "source": [
        "people = {1: {'name': 'Oleg', 'age': '29', 'sex': 'Male'},\n",
        "          2: {'name': 'Kate', 'age': '21', 'sex': 'Female'},\n",
        "          3: {'name': 'Liza', 'age': '24', 'sex': 'Female'},\n",
        "          4: {'name': 'Pavel', 'age': '36', 'sex': 'Male'}}"
      ],
      "execution_count": null,
      "outputs": []
    },
    {
      "cell_type": "code",
      "metadata": {
        "id": "3X86dn5OACtD",
        "colab": {
          "base_uri": "https://localhost:8080/"
        },
        "outputId": "81c83663-e7e0-411d-890a-2326a11185ce"
      },
      "source": [
        "age = 0\n",
        "for person in people.values():\n",
        "    age += int(person['age'])\n",
        "print(age / len(people))"
      ],
      "execution_count": null,
      "outputs": [
        {
          "output_type": "stream",
          "name": "stdout",
          "text": [
            "27.5\n"
          ]
        }
      ]
    },
    {
      "cell_type": "markdown",
      "metadata": {
        "id": "JTo-w7pQfzpJ"
      },
      "source": [
        "**Практика**  \n",
        "\n",
        "Согласно сайту www.bodycounters.com в четырех частях фильма “Пираты Карибского моря” было довольно много погибших. Нужно написать код, который будет счить их общее количество. Пиратов-зомби в последней части тоже считайте живыми."
      ]
    },
    {
      "cell_type": "code",
      "metadata": {
        "id": "3sPAVrw_fzpJ"
      },
      "source": [
        "bodycount = {\n",
        "    'Проклятие Черной жемчужины': {\n",
        "        'человек': 17\n",
        "    }, \n",
        "\n",
        "    'Сундук мертвеца': {\n",
        "        'человек': 56,\n",
        "        'раков-отшельников': 1\n",
        "    },\n",
        "\n",
        "    'На краю света': {\n",
        "        'человек': 88\n",
        "    },\n",
        "\n",
        "    'На странных берегах': {\n",
        "        'человек': 56,\n",
        "        'русалок': 2,\n",
        "        'ядовитых жаб': 3,\n",
        "        'пиратов зомби': 2\n",
        "    }\n",
        "}"
      ],
      "execution_count": null,
      "outputs": []
    },
    {
      "cell_type": "code",
      "metadata": {
        "id": "IUFRStNEfzpJ",
        "colab": {
          "base_uri": "https://localhost:8080/"
        },
        "outputId": "4c832736-0728-4978-e70f-b5888d386501"
      },
      "source": [
        "dead = 0 \n",
        "for info in bodycount.values(): \n",
        "    # print(info)\n",
        "    dead += sum(info.values()) \n",
        "\n",
        "print(dead) "
      ],
      "execution_count": null,
      "outputs": [
        {
          "output_type": "stream",
          "name": "stdout",
          "text": [
            "225\n"
          ]
        }
      ]
    },
    {
      "cell_type": "code",
      "source": [
        "dead = 0 \n",
        "for info in bodycount.values(): \n",
        "    print(info)\n",
        "    for name, count in info.items():\n",
        "        if name != 'ядовитых жаб':\n",
        "            dead += count\n",
        "    # dead += sum(info.values()) \n",
        "\n",
        "print(dead) "
      ],
      "metadata": {
        "colab": {
          "base_uri": "https://localhost:8080/"
        },
        "id": "b5fqwWSvz1Me",
        "outputId": "792ace69-12ad-4749-e73b-fa605029b363"
      },
      "execution_count": null,
      "outputs": [
        {
          "output_type": "stream",
          "name": "stdout",
          "text": [
            "{'человек': 17}\n",
            "{'человек': 56, 'раков-отшельников': 1}\n",
            "{'человек': 88}\n",
            "{'человек': 56, 'русалок': 2, 'ядовитых жаб': 3, 'пиратов зомби': 2}\n",
            "222\n"
          ]
        }
      ]
    },
    {
      "cell_type": "markdown",
      "metadata": {
        "id": "z1qLRsaafzpJ"
      },
      "source": [
        "Проблема изменения длины объекта во время итерации по нему\n",
        "\n",
        "Дан список с визитами по городам и странам.  Напишем код, который возвращает отфильтрованный список geo_logs, содержащий только визиты из России.\n"
      ]
    },
    {
      "cell_type": "code",
      "metadata": {
        "id": "QIDUEySefzpK"
      },
      "source": [
        "geo_logs = [\n",
        "    {'visit1': ['Москва', 'Россия']},\n",
        "    {'visit2': ['Дели', 'Индия']},\n",
        "    {'visit3': ['Владимир', 'Россия']},\n",
        "    {'visit4': ['Лиссабон', 'Португалия']},\n",
        "    {'visit5': ['Париж', 'Франция']},\n",
        "    {'visit6': ['Тула', 'Россия']},\n",
        "    {'visit7': ['Курск', 'Россия']},\n",
        "    {'visit8': ['Архангельск', 'Россия']}\n",
        "]"
      ],
      "execution_count": null,
      "outputs": []
    },
    {
      "cell_type": "code",
      "metadata": {
        "id": "veGTqBFiisGc",
        "colab": {
          "base_uri": "https://localhost:8080/"
        },
        "outputId": "9e8094d7-e4a3-4bab-a9f8-e209c76fe252"
      },
      "source": [
        "for log in geo_logs:\n",
        "    for el in log.values():\n",
        "        if 'Россия' not in el:\n",
        "            geo_logs.remove(log)\n",
        "\n",
        "print(geo_logs)"
      ],
      "execution_count": null,
      "outputs": [
        {
          "output_type": "stream",
          "name": "stdout",
          "text": [
            "[{'visit1': ['Москва', 'Россия']}, {'visit3': ['Владимир', 'Россия']}, {'visit5': ['Париж', 'Франция']}, {'visit7': ['Тула', 'Россия']}, {'visit9': ['Курск', 'Россия']}, {'visit10': ['Архангельск', 'Россия']}]\n"
          ]
        }
      ]
    },
    {
      "cell_type": "code",
      "metadata": {
        "id": "JtCeF71zfzpL",
        "colab": {
          "base_uri": "https://localhost:8080/"
        },
        "outputId": "e4af1e41-04fa-4a0c-9574-a075c1652844"
      },
      "source": [
        "result = []\n",
        "\n",
        "for log in geo_logs:\n",
        "    # print(list(log.values())[0])\n",
        "    if 'Россия' in list(log.values())[0]:\n",
        "        result.append(log)\n",
        "\n",
        "print(result)"
      ],
      "execution_count": null,
      "outputs": [
        {
          "output_type": "stream",
          "name": "stdout",
          "text": [
            "[{'visit1': ['Москва', 'Россия']}, {'visit3': ['Владимир', 'Россия']}, {'visit6': ['Тула', 'Россия']}, {'visit7': ['Курск', 'Россия']}, {'visit8': ['Архангельск', 'Россия']}]\n"
          ]
        }
      ]
    },
    {
      "cell_type": "code",
      "metadata": {
        "id": "uOyzYHPufzpL",
        "colab": {
          "base_uri": "https://localhost:8080/"
        },
        "outputId": "223402e8-a69a-4a18-da3c-660fe54d239a"
      },
      "source": [
        "geo_logs_copy = geo_logs.copy()\n",
        "\n",
        "for log in geo_logs_copy:\n",
        "    # print(list(log.values())[0])\n",
        "    if 'Россия' not in list(log.values())[0]:\n",
        "        geo_logs.remove(log)\n",
        "\n",
        "print(geo_logs)"
      ],
      "execution_count": null,
      "outputs": [
        {
          "output_type": "stream",
          "name": "stdout",
          "text": [
            "[{'visit1': ['Москва', 'Россия']}, {'visit3': ['Владимир', 'Россия']}, {'visit6': ['Тула', 'Россия']}, {'visit7': ['Курск', 'Россия']}, {'visit8': ['Архангельск', 'Россия']}]\n"
          ]
        }
      ]
    },
    {
      "cell_type": "code",
      "source": [
        "geo_logs"
      ],
      "metadata": {
        "colab": {
          "base_uri": "https://localhost:8080/"
        },
        "id": "_ZPJRQbs4KKf",
        "outputId": "35d42e7d-ac0c-46c8-cf95-3f52893435dd"
      },
      "execution_count": null,
      "outputs": [
        {
          "output_type": "execute_result",
          "data": {
            "text/plain": [
              "[{'visit1': ['Москва', 'Россия']},\n",
              " {'visit3': ['Владимир', 'Россия']},\n",
              " {'visit6': ['Тула', 'Россия']},\n",
              " {'visit7': ['Курск', 'Россия']},\n",
              " {'visit8': ['Архангельск', 'Россия']}]"
            ]
          },
          "metadata": {},
          "execution_count": 77
        }
      ]
    },
    {
      "cell_type": "code",
      "source": [
        "for el in geo_logs:\n",
        "    print(list(el.values())[0][0], end=' ')"
      ],
      "metadata": {
        "colab": {
          "base_uri": "https://localhost:8080/"
        },
        "id": "lZIEkC184L-x",
        "outputId": "06663260-fc2a-4b61-befd-e7c4aed090d7"
      },
      "execution_count": null,
      "outputs": [
        {
          "output_type": "stream",
          "name": "stdout",
          "text": [
            "Москва Владимир Тула Курск Архангельск "
          ]
        }
      ]
    },
    {
      "cell_type": "code",
      "source": [
        "'Россия' in [['Россия', 'Москва']]"
      ],
      "metadata": {
        "colab": {
          "base_uri": "https://localhost:8080/"
        },
        "id": "n_paOmMJ4wFi",
        "outputId": "7edb0601-8544-4496-bf76-e9b0115caeef"
      },
      "execution_count": null,
      "outputs": [
        {
          "output_type": "execute_result",
          "data": {
            "text/plain": [
              "False"
            ]
          },
          "metadata": {},
          "execution_count": 85
        }
      ]
    },
    {
      "cell_type": "code",
      "source": [
        "'ff' in (['ff', 'ffa'])"
      ],
      "metadata": {
        "colab": {
          "base_uri": "https://localhost:8080/"
        },
        "id": "F9GwQCMO5PDZ",
        "outputId": "046f5a9c-77e4-4375-bf0c-04fff2a9befb"
      },
      "execution_count": null,
      "outputs": [
        {
          "output_type": "execute_result",
          "data": {
            "text/plain": [
              "True"
            ]
          },
          "metadata": {},
          "execution_count": 90
        }
      ]
    },
    {
      "cell_type": "markdown",
      "metadata": {
        "id": "sHhdgs0DEeYY"
      },
      "source": [
        "## Функция range"
      ]
    },
    {
      "cell_type": "markdown",
      "metadata": {
        "id": "zCZIEde1QeDD"
      },
      "source": [
        "range() позволяет генерировать ряд чисел в рамках заданного диапазона.\n",
        "В зависимости от того, как много аргументов вы передаете в функцию, вы можете решить, где этот ряд чисел начнется и закончится, а также сможете определить шаг последовательности."
      ]
    },
    {
      "cell_type": "markdown",
      "metadata": {
        "id": "lNvezEpOMsNV"
      },
      "source": [
        "Есть три способа вызова range():\n",
        "\n",
        "- range(стоп) берет один аргумент\n",
        "- range(старт, стоп) берет два аргумента\n",
        "- range(старт, стоп, шаг) берет три аргумента"
      ]
    },
    {
      "cell_type": "code",
      "metadata": {
        "id": "U-_X698REeYZ",
        "colab": {
          "base_uri": "https://localhost:8080/"
        },
        "outputId": "d16238b0-ad1a-4281-b93d-06f6b1259b11"
      },
      "source": [
        "range(10)"
      ],
      "execution_count": null,
      "outputs": [
        {
          "output_type": "execute_result",
          "data": {
            "text/plain": [
              "range(0, 10)"
            ]
          },
          "metadata": {},
          "execution_count": 91
        }
      ]
    },
    {
      "cell_type": "code",
      "metadata": {
        "id": "Z96EkFKaEeYZ",
        "colab": {
          "base_uri": "https://localhost:8080/"
        },
        "outputId": "e79350e3-5b5e-4e04-ddd6-c74a021c3243"
      },
      "source": [
        "for i in range(10):\n",
        "    print(i)"
      ],
      "execution_count": null,
      "outputs": [
        {
          "output_type": "stream",
          "name": "stdout",
          "text": [
            "0\n",
            "1\n",
            "2\n",
            "3\n",
            "4\n",
            "5\n",
            "6\n",
            "7\n",
            "8\n",
            "9\n"
          ]
        }
      ]
    },
    {
      "cell_type": "code",
      "metadata": {
        "id": "imfdGkRXEeYa",
        "colab": {
          "base_uri": "https://localhost:8080/"
        },
        "outputId": "6dd389f1-a134-4d39-c854-feb97190ba07"
      },
      "source": [
        "# с указанием левой и правой границы\n",
        "for i in range(3, 20):\n",
        "    print(i)"
      ],
      "execution_count": null,
      "outputs": [
        {
          "output_type": "stream",
          "name": "stdout",
          "text": [
            "3\n",
            "4\n",
            "5\n",
            "6\n",
            "7\n",
            "8\n",
            "9\n",
            "10\n",
            "11\n",
            "12\n",
            "13\n",
            "14\n",
            "15\n",
            "16\n",
            "17\n",
            "18\n",
            "19\n"
          ]
        }
      ]
    },
    {
      "cell_type": "code",
      "metadata": {
        "id": "Q5FJVw6iEeYa",
        "colab": {
          "base_uri": "https://localhost:8080/"
        },
        "outputId": "3c13fcd3-dac6-42c7-a5ef-18f5075b9dba"
      },
      "source": [
        "# третий аргумент - шаг\n",
        "for i in range(3, 20, 5):\n",
        "    print(i)"
      ],
      "execution_count": null,
      "outputs": [
        {
          "output_type": "stream",
          "name": "stdout",
          "text": [
            "3\n",
            "8\n",
            "13\n",
            "18\n"
          ]
        }
      ]
    },
    {
      "cell_type": "markdown",
      "metadata": {
        "id": "Bz8pKr5nEeYa"
      },
      "source": [
        "Напишем программу, которая считает сумму квадратов n натуральных чисел.  \n",
        "n запрашиваем у пользователя"
      ]
    },
    {
      "cell_type": "code",
      "metadata": {
        "id": "ln0fLulzEeYa",
        "colab": {
          "base_uri": "https://localhost:8080/"
        },
        "outputId": "c86c5373-fb05-4bc0-d2f6-ce32b9815c2c"
      },
      "source": [
        "n = int(input('Введите число'))\n",
        "sum_ = 0\n",
        "for num in range(1, n + 1):\n",
        "    sum_ += num ** 2\n",
        "    print(f'Сумма на шаге {num}: {sum_}')\n",
        "print(sum_)"
      ],
      "execution_count": null,
      "outputs": [
        {
          "output_type": "stream",
          "name": "stdout",
          "text": [
            "Введите число7\n",
            "Сумма на шаге 1: 1\n",
            "Сумма на шаге 2: 5\n",
            "Сумма на шаге 3: 14\n",
            "Сумма на шаге 4: 30\n",
            "Сумма на шаге 5: 55\n",
            "Сумма на шаге 6: 91\n",
            "Сумма на шаге 7: 140\n",
            "140\n"
          ]
        }
      ]
    },
    {
      "cell_type": "markdown",
      "metadata": {
        "id": "iJAkazM1EeYb"
      },
      "source": [
        "**Практика**  \n",
        "Напишите программу, которая рассчитаем факториал числа n. n запрашиваем у пользователя"
      ]
    },
    {
      "cell_type": "code",
      "metadata": {
        "id": "ye-ou4hnEeYb",
        "colab": {
          "base_uri": "https://localhost:8080/"
        },
        "outputId": "aa338cf6-c40b-456c-b59a-99dfaec0a4b2"
      },
      "source": [
        "number = 5\n",
        "total = 1 \n",
        "for factorial in range(number, 1, -1): \n",
        "    total *= factorial \n",
        "\n",
        "print('Факториал числа равен: ', total) "
      ],
      "execution_count": null,
      "outputs": [
        {
          "output_type": "stream",
          "name": "stdout",
          "text": [
            "Факториал числа равен:  120\n"
          ]
        }
      ]
    },
    {
      "cell_type": "code",
      "source": [
        "n = int(input('Введите число ')) \n",
        "sum_ = 1 \n",
        "for num in range(1, n + 1): \n",
        "    sum_ *= num \n",
        "    print(f'Сумма на шаге {num}: {sum_}') \n",
        "print(sum_) "
      ],
      "metadata": {
        "colab": {
          "base_uri": "https://localhost:8080/"
        },
        "id": "GI0mB_cZ6tnq",
        "outputId": "bf30f60b-4c4e-4b98-d04e-80181113197f"
      },
      "execution_count": null,
      "outputs": [
        {
          "output_type": "stream",
          "name": "stdout",
          "text": [
            "Введите число 5\n",
            "Сумма на шаге 1: 1\n",
            "Сумма на шаге 2: 2\n",
            "Сумма на шаге 3: 6\n",
            "Сумма на шаге 4: 24\n",
            "Сумма на шаге 5: 120\n",
            "120\n"
          ]
        }
      ]
    },
    {
      "cell_type": "markdown",
      "metadata": {
        "id": "nRL8nM6hEeYc"
      },
      "source": [
        "## Функция enumerate"
      ]
    },
    {
      "cell_type": "markdown",
      "metadata": {
        "id": "QMuWrheREeYc"
      },
      "source": [
        "enumerate позволяет получать индекс каждого элемента в объекте"
      ]
    },
    {
      "cell_type": "code",
      "metadata": {
        "id": "iZl9-joHEeYc",
        "colab": {
          "base_uri": "https://localhost:8080/"
        },
        "outputId": "ae270e57-4f05-4523-b387-bf743bf7c264"
      },
      "source": [
        "list(enumerate('1,2,3,4,5'))"
      ],
      "execution_count": null,
      "outputs": [
        {
          "output_type": "execute_result",
          "data": {
            "text/plain": [
              "[(0, '1'),\n",
              " (1, ','),\n",
              " (2, '2'),\n",
              " (3, ','),\n",
              " (4, '3'),\n",
              " (5, ','),\n",
              " (6, '4'),\n",
              " (7, ','),\n",
              " (8, '5')]"
            ]
          },
          "metadata": {},
          "execution_count": 100
        }
      ]
    },
    {
      "cell_type": "code",
      "metadata": {
        "id": "G18OpLgqEeYc",
        "colab": {
          "base_uri": "https://localhost:8080/"
        },
        "outputId": "2d702b05-e111-4f17-b813-8f78b7810224"
      },
      "source": [
        "for i, el in enumerate('1,2,3,4,5'):  # в цикле можем сразу перебирать индексы и сами элементы\n",
        "    print(i, el)"
      ],
      "execution_count": null,
      "outputs": [
        {
          "output_type": "stream",
          "name": "stdout",
          "text": [
            "0 1\n",
            "1 ,\n",
            "2 2\n",
            "3 ,\n",
            "4 3\n",
            "5 ,\n",
            "6 4\n",
            "7 ,\n",
            "8 5\n"
          ]
        }
      ]
    },
    {
      "cell_type": "code",
      "metadata": {
        "id": "fjmqpJKxEeYc",
        "colab": {
          "base_uri": "https://localhost:8080/"
        },
        "outputId": "f7ded33e-a313-4b31-bae9-9518917ad13d"
      },
      "source": [
        "company_name = 'SkillFactory'\n",
        "for i, letter in enumerate(company_name):  \n",
        "    print(f'Позиция символа \"{letter}\" - {i + 1}')"
      ],
      "execution_count": null,
      "outputs": [
        {
          "output_type": "stream",
          "name": "stdout",
          "text": [
            "Позиция символа \"S\" - 1\n",
            "Позиция символа \"k\" - 2\n",
            "Позиция символа \"i\" - 3\n",
            "Позиция символа \"l\" - 4\n",
            "Позиция символа \"l\" - 5\n",
            "Позиция символа \"F\" - 6\n",
            "Позиция символа \"a\" - 7\n",
            "Позиция символа \"c\" - 8\n",
            "Позиция символа \"t\" - 9\n",
            "Позиция символа \"o\" - 10\n",
            "Позиция символа \"r\" - 11\n",
            "Позиция символа \"y\" - 12\n"
          ]
        }
      ]
    },
    {
      "cell_type": "markdown",
      "metadata": {
        "id": "YZplGdfcfzpB"
      },
      "source": [
        "**Практика**\n",
        "\n",
        "Решим задачу с квадратной матрицей при помощи enumerate"
      ]
    },
    {
      "cell_type": "code",
      "metadata": {
        "id": "mCb2AbBpfzpB"
      },
      "source": [
        "data = [\n",
        "    [13, 25, 23, 34],\n",
        "    [45, 32, 44, 47],\n",
        "    [12, 33, 23, 95],\n",
        "    [13, 53, 34, 35]\n",
        "]"
      ],
      "execution_count": null,
      "outputs": []
    },
    {
      "cell_type": "code",
      "metadata": {
        "id": "P0o7KOdX9Q8-",
        "colab": {
          "base_uri": "https://localhost:8080/"
        },
        "outputId": "fae296ac-32ff-4da9-e16c-1b9cf7b07ac4"
      },
      "source": [
        "sum_ = 0\n",
        "\n",
        "for i, el in enumerate(data):\n",
        "    sum_ += el[i]\n",
        "\n",
        "print(sum_)"
      ],
      "execution_count": null,
      "outputs": [
        {
          "output_type": "stream",
          "name": "stdout",
          "text": [
            "103\n"
          ]
        }
      ]
    },
    {
      "cell_type": "code",
      "source": [
        "sum([el[i] for i, el in enumerate(data)])"
      ],
      "metadata": {
        "colab": {
          "base_uri": "https://localhost:8080/"
        },
        "id": "xBx41jGq7xcw",
        "outputId": "c37f7cf1-fcb0-4891-ccfd-5c8f07417879"
      },
      "execution_count": null,
      "outputs": [
        {
          "output_type": "execute_result",
          "data": {
            "text/plain": [
              "103"
            ]
          },
          "metadata": {},
          "execution_count": 107
        }
      ]
    },
    {
      "cell_type": "markdown",
      "metadata": {
        "id": "aG3CDp4cEeYP"
      },
      "source": [
        "## Цикл while"
      ]
    },
    {
      "cell_type": "markdown",
      "metadata": {
        "id": "gOerjvEAMsJp"
      },
      "source": [
        "Позволяет выполнить одну и ту же последовательность действий, пока проверяемое условие истинно. Как правило, цикл while используется, когда невозможно заранее определить точное значение количества проходов исполнения цикла.\n"
      ]
    },
    {
      "cell_type": "code",
      "metadata": {
        "id": "niZlbfI5MsJt",
        "scrolled": false,
        "colab": {
          "base_uri": "https://localhost:8080/"
        },
        "outputId": "6ae55329-856d-4819-b4a9-8aedf660bee3"
      },
      "source": [
        "money = 5 # создаем переменную money и присваиваем ей значение 5\n",
        "while money > 0: # запускаем цикл (\"пока денег больше нуля\")\n",
        "    money -= 1 # уменьшаем на один переменную money\n",
        "    print('Денег осталось: ', money) # пишем тело цикла: код, который будет исполняться, пока условие истино\n",
        "    \n",
        "print('Денег больше нет') # печатаем сообщение (уже вне цикла)"
      ],
      "execution_count": null,
      "outputs": [
        {
          "output_type": "stream",
          "name": "stdout",
          "text": [
            "Денег осталось:  4\n",
            "Денег осталось:  3\n",
            "Денег осталось:  2\n",
            "Денег осталось:  1\n",
            "Денег осталось:  0\n",
            "Денег больше нет\n"
          ]
        }
      ]
    },
    {
      "cell_type": "code",
      "metadata": {
        "id": "pkcJr-eSEeYR",
        "colab": {
          "base_uri": "https://localhost:8080/"
        },
        "outputId": "3c2f0b90-c44d-43ce-b174-f2bbc35137ed"
      },
      "source": [
        "x = 7\n",
        "while x != 0:\n",
        "    if x % 2 == 0:\n",
        "        print(x, '- четное число')\n",
        "    else:\n",
        "        print(x, '- нечетное число')\n",
        "    x -= 1"
      ],
      "execution_count": null,
      "outputs": [
        {
          "output_type": "stream",
          "name": "stdout",
          "text": [
            "7 - нечетное число\n",
            "6 - четное число\n",
            "5 - нечетное число\n",
            "4 - четное число\n",
            "3 - нечетное число\n",
            "2 - четное число\n",
            "1 - нечетное число\n"
          ]
        }
      ]
    },
    {
      "cell_type": "markdown",
      "metadata": {
        "id": "4qe61Hx5EeYR"
      },
      "source": [
        "А что будет, если мы сделаем так?"
      ]
    },
    {
      "cell_type": "code",
      "metadata": {
        "id": "NI56bvRXEeYR"
      },
      "source": [
        "x = 7\n",
        "while x != 0:\n",
        "    if x % 2 == 0:\n",
        "        print(x, '- четное число')\n",
        "    else:\n",
        "        print(x, '- нечетное число')"
      ],
      "execution_count": null,
      "outputs": []
    },
    {
      "cell_type": "markdown",
      "metadata": {
        "id": "HMobHtPeEeYS"
      },
      "source": [
        "**Практика**  \n",
        "Напишите программу, которая будет запрашивать целые числа у пользователя до тех пор, пока не будет введен 0. После чего выводится сумма всех введеных ранее чисел"
      ]
    },
    {
      "cell_type": "code",
      "metadata": {
        "id": "-S9HUlhp_TJ9",
        "colab": {
          "base_uri": "https://localhost:8080/"
        },
        "outputId": "6ebbad21-92a4-4af0-8aa8-cebac38ec2e5"
      },
      "source": [
        "x = None\n",
        "sum_ = 0\n",
        "while x != 0:\n",
        "    x = int(input('Введите число'))\n",
        "    sum_ += x\n",
        "\n",
        "print(sum_)"
      ],
      "execution_count": null,
      "outputs": [
        {
          "output_type": "stream",
          "name": "stdout",
          "text": [
            "Введите число8\n",
            "Введите число0\n",
            "8\n"
          ]
        }
      ]
    },
    {
      "cell_type": "markdown",
      "metadata": {
        "id": "_RcFSvjhEoWl"
      },
      "source": [
        "Напишем игру \"Камень-ножницы-бумага\""
      ]
    },
    {
      "cell_type": "code",
      "metadata": {
        "id": "wELJ8IGkACcw",
        "colab": {
          "base_uri": "https://localhost:8080/"
        },
        "outputId": "f3425d5e-f26e-47c7-9cce-48fc28452a69"
      },
      "source": [
        "import random\n",
        "\n",
        "player_wins = 0\n",
        "computer_wins = 0\n",
        "\n",
        "while player_wins < 3 and computer_wins < 3:\n",
        "    \n",
        "    user = input('Ваш вариант')\n",
        "    computer = random.choice(['r', 's', 'p'])\n",
        "    \n",
        "    print('Компьютер выбрал:', computer)     \n",
        "    \n",
        "    if user == computer:\n",
        "        print('Ничья')\n",
        "        \n",
        "    elif user == 'r':\n",
        "        if computer == 's':\n",
        "            print('Игрок победил! Камень ломает ножницы!')\n",
        "            player_wins += 1\n",
        "        else:\n",
        "            print('Компьютер победил! Бумага закрывает камень!')\n",
        "            computer_wins += 1\n",
        "            \n",
        "    elif user == 'p':\n",
        "        if computer == 'r':\n",
        "            print('Компьютер победил! Бумага закрывает камень!')\n",
        "            computer_wins += 1\n",
        "        else:\n",
        "            print('Игрок победил! Ножницы режут бумагу!')\n",
        "            player_wins += 1\n",
        "            \n",
        "    elif user == 's':\n",
        "        if computer == 'p':\n",
        "            print('Игрок победил! Ножницы режут бумагу!')\n",
        "            player_wins += 1\n",
        "        else:\n",
        "            print('Компьютер победил! Камень ломает ножницы!')\n",
        "            computer_wins += 1\n",
        "            \n",
        "    print('Счет: ', player_wins, ':', computer_wins)\n",
        "\n",
        "    \n",
        "if player_wins > computer_wins:\n",
        "    print('По итогам трех раундов победил игрок')\n",
        "else:\n",
        "    print('По итогам трех раундов победил компьютер')"
      ],
      "execution_count": null,
      "outputs": [
        {
          "output_type": "stream",
          "name": "stdout",
          "text": [
            "Ваш вариантr\n",
            "Компьютер выбрал: s\n",
            "Игрок победил! Камень ломает ножницы!\n",
            "Счет:  1 : 0\n",
            "Ваш вариантr\n",
            "Компьютер выбрал: r\n",
            "Ничья\n",
            "Счет:  1 : 0\n",
            "Ваш вариантr\n",
            "Компьютер выбрал: r\n",
            "Ничья\n",
            "Счет:  1 : 0\n",
            "Ваш вариантr\n",
            "Компьютер выбрал: r\n",
            "Ничья\n",
            "Счет:  1 : 0\n",
            "Ваш вариантr\n",
            "Компьютер выбрал: p\n",
            "Компьютер победил! Бумага закрывает камень!\n",
            "Счет:  1 : 1\n",
            "Ваш вариантr\n",
            "Компьютер выбрал: p\n",
            "Компьютер победил! Бумага закрывает камень!\n",
            "Счет:  1 : 2\n",
            "Ваш вариантr\n",
            "Компьютер выбрал: p\n",
            "Компьютер победил! Бумага закрывает камень!\n",
            "Счет:  1 : 3\n",
            "По итогам трех раундов победил компьютер\n"
          ]
        }
      ]
    },
    {
      "cell_type": "markdown",
      "metadata": {
        "id": "7aMMFJfPEeYV"
      },
      "source": [
        "## Операторы break и continue\n",
        "break – прерывает исполнение цикла  \n",
        "continue – прерывает только текущую итерацию и сразу переходит к следующей  \n",
        "Работают и с **while**, и с **for**"
      ]
    },
    {
      "cell_type": "code",
      "metadata": {
        "id": "cZ6fnaCREeYW"
      },
      "source": [
        "phrase = '640Кб должно хватить для любых задач. Билл Гейтс (по легенде)'"
      ],
      "execution_count": null,
      "outputs": []
    },
    {
      "cell_type": "code",
      "metadata": {
        "id": "cN40gvIvEeYW",
        "colab": {
          "base_uri": "https://localhost:8080/"
        },
        "outputId": "d962e262-bba2-4586-e8ac-f135a022c25f"
      },
      "source": [
        "for letter in phrase:\n",
        "    if letter == ' ':\n",
        "        break\n",
        "    print(letter, end='')"
      ],
      "execution_count": null,
      "outputs": [
        {
          "output_type": "stream",
          "name": "stdout",
          "text": [
            "640Кб"
          ]
        }
      ]
    },
    {
      "cell_type": "code",
      "metadata": {
        "id": "aZ2Qg_r7EeYW",
        "colab": {
          "base_uri": "https://localhost:8080/"
        },
        "outputId": "79e2591c-23ca-47d1-fee2-c8207a2368c6"
      },
      "source": [
        "for letter in phrase:\n",
        "    if letter == ' ':\n",
        "        continue\n",
        "    print(letter, end='')"
      ],
      "execution_count": null,
      "outputs": [
        {
          "output_type": "stream",
          "name": "stdout",
          "text": [
            "640Кбдолжнохватитьдлялюбыхзадач.БиллГейтс(полегенде)"
          ]
        }
      ]
    },
    {
      "cell_type": "code",
      "metadata": {
        "id": "a-IUc6vvEeYX"
      },
      "source": [
        "while True:\n",
        "    user_input = input('Введите команду')\n",
        "    if user_input == 'do':\n",
        "        pass\n",
        "    elif user_input == 'do2':\n",
        "        pass\n",
        "    elif user_input == 'quit':\n",
        "        print('Выход из программы. До свидания!')\n",
        "        break"
      ],
      "execution_count": null,
      "outputs": []
    },
    {
      "cell_type": "markdown",
      "metadata": {
        "id": "QNfWgqNZEeYb"
      },
      "source": [
        "Напишем программу для проверки логина и пароля\n",
        "\n",
        "1) логин и пароль пользователя хранится в переменной\n",
        "\n",
        "2) будем давать пользователю k попыток на ввод логина и пароля\n",
        "\n",
        "3) если после трех попыток вверного ввода не было, то заблокируем вход - вывести на экран сообщение \"Вход заблокирован\"\n",
        "\n",
        "4) если пароль и логин были введены верно, то вывести на экран сообщение \"Добро пожаловать!\""
      ]
    },
    {
      "cell_type": "code",
      "metadata": {
        "id": "WPYGThD8EeYb",
        "colab": {
          "base_uri": "https://localhost:8080/"
        },
        "outputId": "59e11142-c0d7-4152-98d8-09069c434171"
      },
      "source": [
        "login_correct = 'admin'\n",
        "pswd_correct = 'admin'\n",
        "k = 3\n",
        "for i in range(0, k):\n",
        "    login = input('Ввелите логин')\n",
        "    pswd = input('Введите пароль')\n",
        "    if login != login_correct or pswd != pswd_correct:\n",
        "        k -= 1\n",
        "        print(f'Осталось {k} попытки')\n",
        "    else:\n",
        "        print('Добро пожаловать!')\n",
        "        break\n",
        "if k == 0:\n",
        "    print('Вход заблокирован')"
      ],
      "execution_count": null,
      "outputs": [
        {
          "output_type": "stream",
          "name": "stdout",
          "text": [
            "Ввелите логинfddfgjn\n",
            "Введите парольfgfgh\n",
            "Осталось 2 попытки\n",
            "Ввелите логинadmin\n",
            "Введите парольadmin\n",
            "Добро пожаловать!\n"
          ]
        }
      ]
    },
    {
      "cell_type": "markdown",
      "metadata": {
        "id": "UBfqWckSEeYd"
      },
      "source": [
        "## Вложенные циклы\n",
        "\n",
        "Вас не должно смущать, что циклы могут находится внутри других циклов. Все элементы языка можно комбинировать друг с другом, как захотим"
      ]
    },
    {
      "cell_type": "markdown",
      "metadata": {
        "id": "pJUjBZvGfzpU"
      },
      "source": [
        "Выведем фамилии построчно с указанием профессии в формате:\n",
        "\n",
        "```\n",
        "IT:  \n",
        "Гейтс  \n",
        "Джобс  \n",
        "Возняк  \n",
        "\n",
        "Физика:  \n",
        "Эйнштейн  \n",
        "Фейнман  \n",
        "```"
      ]
    },
    {
      "cell_type": "code",
      "metadata": {
        "id": "z_vxMDG4fzpU"
      },
      "source": [
        "professions = ['IT', 'Физика', 'Математика']\n",
        "persons = [['Гейтс', 'Джобс', 'Возняк'], ['Эйнштейн', 'Фейнман'], ['Эвклид', 'Ньютон']]"
      ],
      "execution_count": null,
      "outputs": []
    },
    {
      "cell_type": "code",
      "metadata": {
        "id": "F1SypBEBfzpU",
        "colab": {
          "base_uri": "https://localhost:8080/"
        },
        "outputId": "665f2df8-e762-4237-f149-20764dca23b1"
      },
      "source": [
        "for pro, person_list in zip(professions, persons):\n",
        "    print(f'{pro}:')\n",
        "    for person in person_list:\n",
        "        print(person)\n",
        "    print()"
      ],
      "execution_count": null,
      "outputs": [
        {
          "output_type": "stream",
          "name": "stdout",
          "text": [
            "IT:\n",
            "Гейтс\n",
            "Джобс\n",
            "Возняк\n",
            "\n",
            "Физика:\n",
            "Эйнштейн\n",
            "Фейнман\n",
            "\n",
            "Математика:\n",
            "Эвклид\n",
            "Ньютон\n",
            "\n"
          ]
        }
      ]
    },
    {
      "cell_type": "code",
      "source": [
        ""
      ],
      "metadata": {
        "id": "wFjyyvhKzMYE"
      },
      "execution_count": null,
      "outputs": []
    },
    {
      "cell_type": "markdown",
      "metadata": {
        "id": "ceNE2LFpEeYf"
      },
      "source": [
        "Напишем программу, которая выведет на экран таблицу умножения (Таблица Пифагора)"
      ]
    },
    {
      "cell_type": "code",
      "metadata": {
        "scrolled": true,
        "id": "7U4WCKDFEeYf",
        "colab": {
          "base_uri": "https://localhost:8080/"
        },
        "outputId": "818839d0-beff-4b1a-f5cf-4c7722d2e0ef"
      },
      "source": [
        "for row in range(1, 10):\n",
        "    for col in range(1, 10):\n",
        "        print(row * col, end='\\t')\n",
        "    print()"
      ],
      "execution_count": null,
      "outputs": [
        {
          "output_type": "stream",
          "name": "stdout",
          "text": [
            "1\t2\t3\t4\t5\t6\t7\t8\t9\t\n",
            "2\t4\t6\t8\t10\t12\t14\t16\t18\t\n",
            "3\t6\t9\t12\t15\t18\t21\t24\t27\t\n",
            "4\t8\t12\t16\t20\t24\t28\t32\t36\t\n",
            "5\t10\t15\t20\t25\t30\t35\t40\t45\t\n",
            "6\t12\t18\t24\t30\t36\t42\t48\t54\t\n",
            "7\t14\t21\t28\t35\t42\t49\t56\t63\t\n",
            "8\t16\t24\t32\t40\t48\t56\t64\t72\t\n",
            "9\t18\t27\t36\t45\t54\t63\t72\t81\t\n"
          ]
        }
      ]
    },
    {
      "cell_type": "markdown",
      "metadata": {
        "id": "HrCwjJziO_3t"
      },
      "source": [
        "**Практика**\n",
        "\n",
        "Имеется структура данных cook_book, в которой хранится информация об ингредиентах блюд и их количестве в расчете на одну порцию.\n",
        "\n",
        "Необходимо вывести пользователю список покупок необходимого количества ингредиентов для приготовления блюд на определенное число персон в следующем виде:\n",
        "```\n",
        "Салат:\n",
        "картофель, 500гр.\n",
        "морковь, 250гр.\n",
        "огурцы, 250гр.\n",
        "горошек, 150гр.\n",
        "майонез, 350мл.\n",
        "\n",
        "Пицца:\n",
        "сыр, 250гр.\n",
        "томаты, 250гр.\n",
        "тесто, 500гр.\n",
        "бекон, 150гр.\n",
        "колбаса, 150гр.\n",
        "грибы, 100гр.\n",
        "\n",
        "Фруктовый десерт:\n",
        "хурма, 300гр.\n",
        "киви, 300гр.\n",
        "творог, 300гр.\n",
        "сахар, 50гр.\n",
        "мед, 250мл.\n",
        "```"
      ]
    },
    {
      "cell_type": "code",
      "metadata": {
        "id": "89Kjy1rpC4Ul"
      },
      "source": [
        "cook_book = [\n",
        "  ['салат',\n",
        "      [\n",
        "        ['картофель', 100, 'гр.'],\n",
        "        ['морковь', 50, 'гр.'],\n",
        "        ['огурцы', 50, 'гр.'],\n",
        "        ['горошек', 30, 'гр.'],\n",
        "        ['майонез', 70, 'мл.'],\n",
        "      ]\n",
        "  ],\n",
        "  ['пицца',  \n",
        "      [\n",
        "        ['сыр', 50, 'гр.'],\n",
        "        ['томаты', 50, 'гр.'],\n",
        "        ['тесто', 100, 'гр.'],\n",
        "        ['бекон', 30, 'гр.'],\n",
        "        ['колбаса', 30, 'гр.'],\n",
        "        ['грибы', 20, 'гр.'],\n",
        "      ],\n",
        "  ],\n",
        "  ['фруктовый десерт',\n",
        "      [\n",
        "        ['хурма', 60, 'гр.'],\n",
        "        ['киви', 60, 'гр.'],\n",
        "        ['творог', 60, 'гр.'],\n",
        "        ['сахар', 10, 'гр.'],\n",
        "        ['мед', 50, 'мл.'],  \n",
        "      ]\n",
        "  ]\n",
        "]\n",
        "\n",
        "person = 5"
      ],
      "execution_count": null,
      "outputs": []
    },
    {
      "cell_type": "code",
      "metadata": {
        "id": "r6iB5dWoPGgV",
        "colab": {
          "base_uri": "https://localhost:8080/"
        },
        "outputId": "b1d19e8c-3440-4288-db2c-39afd431b361"
      },
      "source": [
        "for dish in cook_book:\n",
        "#   print(dish)\n",
        "  print(f'\\n{dish[0].title()}:')\n",
        "  for food in dish[1]:\n",
        "    print(f'{food[0]}, {food[1] * person}{food[2]}')"
      ],
      "execution_count": null,
      "outputs": [
        {
          "output_type": "stream",
          "name": "stdout",
          "text": [
            "\n",
            "Салат:\n",
            "картофель, 500гр.\n",
            "морковь, 250гр.\n",
            "огурцы, 250гр.\n",
            "горошек, 150гр.\n",
            "майонез, 350мл.\n",
            "\n",
            "Пицца:\n",
            "сыр, 250гр.\n",
            "томаты, 250гр.\n",
            "тесто, 500гр.\n",
            "бекон, 150гр.\n",
            "колбаса, 150гр.\n",
            "грибы, 100гр.\n",
            "\n",
            "Фруктовый Десерт:\n",
            "хурма, 300гр.\n",
            "киви, 300гр.\n",
            "творог, 300гр.\n",
            "сахар, 50гр.\n",
            "мед, 250мл.\n"
          ]
        }
      ]
    },
    {
      "cell_type": "markdown",
      "metadata": {
        "id": "8n1tSQLIOsED"
      },
      "source": [
        "Дана книга рецептов с информацией о том, сколько ингредиентов нужно для приготовления блюда в расчете на одну порцию (пример данных представлен ниже).\n",
        "Напишите программу, которая будет запрашивать у пользователя количество порций для приготовления этих блюд и отображать информацию о суммарном количестве требуемых ингредиентов в указанном виде:\n",
        "\n",
        "```\n",
        "Сыр: 210 гр  \n",
        "Томаты: 6 шт  \n",
        "Огурцы: 60 гр  \n",
        "Маслины: 30 гр  \n",
        "Оливковое масло: 60 мл  \n",
        "Салат: 30 гр  \n",
        "Перец: 60 гр  \n",
        "Колбаса: 90 гр  \n",
        "Бекон: 90 гр  \n",
        "Оливки: 30 гр  \n",
        "Томаты: 60 гр  \n",
        "Тесто: 300 гр  \n",
        "Лимон: 3 шт  \n",
        "Вода: 600 мл  \n",
        "Сахар: 30 гр  \n",
        "Лайм: 60 гр\n",
        "```\n",
        "Внимание! Одинаковые ингредиенты с разными размерностями нужно считать раздельно!"
      ]
    },
    {
      "cell_type": "code",
      "metadata": {
        "id": "1eWc6XmyDGd_"
      },
      "source": [
        "cook_book = {\n",
        "  'салат': [\n",
        "     {'ingredient_name': 'сыр', 'quantity': 50, 'measure': 'гр'},\n",
        "     {'ingredient_name': 'томаты', 'quantity': 2, 'measure': 'шт'},\n",
        "     {'ingredient_name': 'огурцы', 'quantity': 20, 'measure': 'гр'},\n",
        "     {'ingredient_name': 'маслины', 'quantity': 10, 'measure': 'гр'},\n",
        "     {'ingredient_name': 'оливковое масло', 'quantity': 20, 'measure': 'мл'},\n",
        "     {'ingredient_name': 'салат', 'quantity': 10, 'measure': 'гр'},\n",
        "     {'ingredient_name': 'перец', 'quantity': 20, 'measure': 'гр'}\n",
        "    ],\n",
        "  'пицца': [\n",
        "     {'ingredient_name': 'сыр', 'quantity': 20, 'measure': 'гр'},\n",
        "     {'ingredient_name': 'колбаса', 'quantity': 30, 'measure': 'гр'},\n",
        "     {'ingredient_name': 'бекон', 'quantity': 30, 'measure': 'гр'},\n",
        "     {'ingredient_name': 'оливки', 'quantity': 10, 'measure': 'гр'},\n",
        "     {'ingredient_name': 'томаты', 'quantity': 20, 'measure': 'гр'},\n",
        "     {'ingredient_name': 'тесто', 'quantity': 100, 'measure': 'гр'},   \n",
        "    ],\n",
        "  'лимонад': [\n",
        "     {'ingredient_name': 'лимон', 'quantity': 1, 'measure': 'шт'},\n",
        "     {'ingredient_name': 'вода', 'quantity': 200, 'measure': 'мл'},\n",
        "     {'ingredient_name': 'сахар', 'quantity': 10, 'measure': 'гр'},\n",
        "     {'ingredient_name': 'лайм', 'quantity': 20, 'measure': 'гр'},    \n",
        "    ]\n",
        "}"
      ],
      "execution_count": null,
      "outputs": []
    },
    {
      "cell_type": "code",
      "metadata": {
        "id": "UG41BQ6hDLUm"
      },
      "source": [
        ""
      ],
      "execution_count": null,
      "outputs": []
    },
    {
      "cell_type": "markdown",
      "metadata": {
        "id": "28As4JUxWkVm"
      },
      "source": [
        "**Спасибо за внимание буду рад ответить на ваши вопросы!**  \n",
        "Ссылка на форму ОС:\n",
        "https://forms.gle/y8xaFwJqtbFSjUeG8"
      ]
    }
  ]
}