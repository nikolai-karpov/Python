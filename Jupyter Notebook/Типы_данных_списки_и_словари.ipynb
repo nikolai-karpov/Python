{
  "nbformat": 4,
  "nbformat_minor": 0,
  "metadata": {
    "colab": {
      "name": "Типы данных: списки и словари.ipynb",
      "provenance": [],
      "collapsed_sections": [
        "cCxQbcdB5B2r",
        "VobEJHx_5cnZ",
        "KJ8ryfXZQAnF",
        "pMa7bemd9JxZ",
        "0KQmC3aD8WnA",
        "dIVtL8uhALXi",
        "ycQx9qa0m_Dt",
        "e7_K6Qr9m_Dw",
        "9ajno0rag7Rl",
        "NLQDjX6t9J2L",
        "y9QyIRiXFhXr",
        "0rjsQq8G9J2v",
        "vVCdYjHntQJD",
        "5OlCrQFlKQU8",
        "A4xWbvXHKzyl",
        "hLu-sbC2iiZn",
        "AFRIVnWlm_EG",
        "a6lyRtrA9J4L",
        "khxMKXlX9J4k"
      ]
    },
    "kernelspec": {
      "display_name": "Python 3",
      "language": "python",
      "name": "python3"
    },
    "language_info": {
      "codemirror_mode": {
        "name": "ipython",
        "version": 3
      },
      "file_extension": ".py",
      "mimetype": "text/x-python",
      "name": "python",
      "nbconvert_exporter": "python",
      "pygments_lexer": "ipython3",
      "version": "3.8.3"
    },
    "accelerator": "GPU"
  },
  "cells": [
    {
      "cell_type": "markdown",
      "metadata": {
        "id": "-dRFXe9i4HYL"
      },
      "source": [
        "# Погружение в типы (структуры) данных"
      ]
    },
    {
      "cell_type": "markdown",
      "metadata": {
        "id": "yf2ztrfuC54H"
      },
      "source": [
        "Спикер: Андрей Рысистов\n",
        "\n",
        "Контакты(телеграм): @Rysistov\n",
        "\n",
        "Слак: @Андрей Рысистов (эксперт)"
      ]
    },
    {
      "cell_type": "markdown",
      "metadata": {
        "id": "cCxQbcdB5B2r"
      },
      "source": [
        "## 1. План занятия"
      ]
    },
    {
      "cell_type": "markdown",
      "metadata": {
        "id": "-qZUoumK4EBL"
      },
      "source": [
        "План занятия\n",
        "1. Поговорим о том, что вообще такое структуры данных и зачем они нам нужны\n",
        "2. Разберем структуру данных - список, его возможности и задачи, которые можно решить с помощью него\n",
        "3. Разберем структуру данных - словарь, его возможности и задачи, которые можно решить с помощью него\n",
        "4. Поговорим о том, как работать с комбинациями из этих структур"
      ]
    },
    {
      "cell_type": "markdown",
      "metadata": {
        "id": "VobEJHx_5cnZ"
      },
      "source": [
        "## 2. Структуры данных"
      ]
    },
    {
      "cell_type": "markdown",
      "metadata": {
        "id": "FqWF-l4q5ijJ"
      },
      "source": [
        "\n",
        "Структуры данных - это общий термин для различных методов хранения информации. \n",
        "\n",
        "Как только мы начинаем выходить за рамки написания простейших программ у нас возниает потребность в хранении коллекций или наборов данных. Для этого в языке Python предусмотрены 2 очень мощных по своим возможностям типа данных: списки и словари."
      ]
    },
    {
      "cell_type": "markdown",
      "metadata": {
        "id": "xyeCEHEC5wla"
      },
      "source": [
        "## 3. Список"
      ]
    },
    {
      "cell_type": "markdown",
      "metadata": {
        "id": "KJ8ryfXZQAnF"
      },
      "source": [
        "### 3.0 Определение списка"
      ]
    },
    {
      "cell_type": "markdown",
      "metadata": {
        "id": "xj0Dxvpk9JxW"
      },
      "source": [
        "\n",
        "\n",
        "\n",
        "\n",
        "\n",
        "\n",
        "\n",
        "\n",
        "\n",
        "\n",
        "**Список** в Python — это упорядоченная изменяемая коллекция объектов произвольных типов.\n",
        "\n",
        "\n",
        "\n",
        "\n",
        "В этом определении важна каждое слово. Мы будем к нему возвращаться по мере иллюстрации возможностей и свойств списков.\n",
        "\n",
        "\n",
        "\n",
        "* Когда мы называем список коллекцией, мы имеем в виду, что в одном списке может храниться множество объектов (например, чисел или строковых величин) \n",
        "\n",
        "\n",
        "* Говоря о том, что списки представляют собой упорядоченные коллекции, мы обращаем внимание на то, что каждый элемент в списке имеет свой порядковый номер.\n",
        "\n",
        "\n",
        "* Упоминание об изменяемости списков означает, что в процессе исполнения кода можно изменять состав элементов списка и последовательность их расположения.\n",
        "\n",
        "\n",
        "* Выражение «произвольных типов» означает, что в списке могут храниться данные, относящиеся к любым типам из тех, с которыми работает Python. *То есть это могут быть также другие списки и словари*\n",
        "\n",
        "\n",
        "\n"
      ]
    },
    {
      "cell_type": "markdown",
      "metadata": {
        "id": "pMa7bemd9JxZ"
      },
      "source": [
        "### 3.1 Создание списков"
      ]
    },
    {
      "cell_type": "code",
      "metadata": {
        "colab": {
          "base_uri": "https://localhost:8080/"
        },
        "id": "SrhOwmXrm_Df",
        "outputId": "5d41cb17-13ce-4088-efda-a72ed23f2a15"
      },
      "source": [
        "my_list = list() #первый способ создания пустого списка\n",
        "my_list"
      ],
      "execution_count": null,
      "outputs": [
        {
          "output_type": "execute_result",
          "data": {
            "text/plain": [
              "[]"
            ]
          },
          "metadata": {},
          "execution_count": 4
        }
      ]
    },
    {
      "cell_type": "code",
      "metadata": {
        "colab": {
          "base_uri": "https://localhost:8080/"
        },
        "id": "ZCWXOwT5m_Dh",
        "outputId": "c673b572-d6da-4067-f5cc-e6e6ae31df78"
      },
      "source": [
        "my_list1 = [] #второй способ создания пустого списка\n",
        "my_list1"
      ],
      "execution_count": null,
      "outputs": [
        {
          "output_type": "execute_result",
          "data": {
            "text/plain": [
              "[]"
            ]
          },
          "metadata": {},
          "execution_count": 5
        }
      ]
    },
    {
      "cell_type": "code",
      "metadata": {
        "id": "_qajMTeL9Jxd",
        "colab": {
          "base_uri": "https://localhost:8080/"
        },
        "outputId": "fbfbb2a3-778c-4d7b-de70-0d9a79fb2268"
      },
      "source": [
        "spisok = ['лебедь', 'рак', 'щука'] # в списке хранится 3 объекта \n",
        "spisok"
      ],
      "execution_count": null,
      "outputs": [
        {
          "output_type": "execute_result",
          "data": {
            "text/plain": [
              "['лебедь', 'рак', 'щука']"
            ]
          },
          "metadata": {},
          "execution_count": 6
        }
      ]
    },
    {
      "cell_type": "code",
      "metadata": {
        "colab": {
          "base_uri": "https://localhost:8080/"
        },
        "id": "W2MWA877chhi",
        "outputId": "e665f5a2-2b20-441a-bd16-e1865ba5b142"
      },
      "source": [
        "languages = ['Java', 'C', 'Python', 'C++', 'Visual Basic.NET']\n",
        "languages"
      ],
      "execution_count": null,
      "outputs": [
        {
          "output_type": "execute_result",
          "data": {
            "text/plain": [
              "['Java', 'C', 'Python', 'C++', 'Visual Basic.NET']"
            ]
          },
          "metadata": {},
          "execution_count": 7
        }
      ]
    },
    {
      "cell_type": "code",
      "metadata": {
        "colab": {
          "base_uri": "https://localhost:8080/"
        },
        "id": "vvnrAlurdHWM",
        "outputId": "c3d93884-82f6-45a2-9e29-2281f00a224a"
      },
      "source": [
        "range_list = list(range(-1, 3))\n",
        "range_list"
      ],
      "execution_count": null,
      "outputs": [
        {
          "output_type": "execute_result",
          "data": {
            "text/plain": [
              "[-1, 0, 1, 2]"
            ]
          },
          "metadata": {},
          "execution_count": 9
        }
      ]
    },
    {
      "cell_type": "markdown",
      "metadata": {
        "id": "0KQmC3aD8WnA"
      },
      "source": [
        "### 3.2 Список - последовательность"
      ]
    },
    {
      "cell_type": "markdown",
      "metadata": {
        "id": "NVxSG55f9JyH"
      },
      "source": [
        "Списки, кортежи и строки являются примерами последовательностей. Но что такое последовательности и что в них такого особенного?\n",
        "\n",
        "Основные возможности – это проверка принадлежности (т.е. выражения **“in”** и **“not in”**) и оператор индексирования, позволяющий получить напрямую некоторый элемент последовательности. "
      ]
    },
    {
      "cell_type": "markdown",
      "metadata": {
        "id": "3pJFFRtim_Dl"
      },
      "source": [
        "**Индексация в Python начинается с 0**"
      ]
    },
    {
      "cell_type": "code",
      "metadata": {
        "colab": {
          "base_uri": "https://localhost:8080/"
        },
        "id": "7M32XtV5Sfki",
        "outputId": "cdbed786-8103-4b94-e1c1-1301e1c6de3a"
      },
      "source": [
        "spisok"
      ],
      "execution_count": null,
      "outputs": [
        {
          "output_type": "execute_result",
          "data": {
            "text/plain": [
              "['лебедь', 'рак', 'щука']"
            ]
          },
          "metadata": {},
          "execution_count": 10
        }
      ]
    },
    {
      "cell_type": "code",
      "metadata": {
        "colab": {
          "base_uri": "https://localhost:8080/"
        },
        "id": "65B5KaCM-x15",
        "outputId": "282bf07e-4f2e-429c-8563-6cc75804cfac"
      },
      "source": [
        "print(spisok[2]) # так мы обратились к третьему элементу списка"
      ],
      "execution_count": null,
      "outputs": [
        {
          "output_type": "stream",
          "name": "stdout",
          "text": [
            "щука\n"
          ]
        }
      ]
    },
    {
      "cell_type": "code",
      "metadata": {
        "colab": {
          "base_uri": "https://localhost:8080/"
        },
        "id": "3-Y1VghU_L6P",
        "scrolled": true,
        "outputId": "a2607a01-b26a-4976-8272-12724db4b61d"
      },
      "source": [
        "spisok[1] = 'форель' # 3аменили второй элемент списка. \n",
        "print(spisok) # В отличие от строк нам не нужно перезаписывать весь объект, мы можем поменять часть списка"
      ],
      "execution_count": null,
      "outputs": [
        {
          "output_type": "stream",
          "name": "stdout",
          "text": [
            "['лебедь', 'форель', 'щука']\n"
          ]
        }
      ]
    },
    {
      "cell_type": "code",
      "metadata": {
        "scrolled": true,
        "colab": {
          "base_uri": "https://localhost:8080/"
        },
        "id": "JOEQg9cim_Dn",
        "outputId": "100b33b2-b653-4da6-df68-f0d598972044"
      },
      "source": [
        "len(spisok) #получение длины списка"
      ],
      "execution_count": null,
      "outputs": [
        {
          "output_type": "execute_result",
          "data": {
            "text/plain": [
              "3"
            ]
          },
          "metadata": {},
          "execution_count": 13
        }
      ]
    },
    {
      "cell_type": "code",
      "metadata": {
        "colab": {
          "base_uri": "https://localhost:8080/"
        },
        "id": "FJdgtO-Agk6A",
        "outputId": "921ab00f-b1e5-4ff9-a3df-b91a353da7a9"
      },
      "source": [
        "'щука' in spisok"
      ],
      "execution_count": null,
      "outputs": [
        {
          "output_type": "execute_result",
          "data": {
            "text/plain": [
              "True"
            ]
          },
          "metadata": {},
          "execution_count": 16
        }
      ]
    },
    {
      "cell_type": "code",
      "metadata": {
        "colab": {
          "base_uri": "https://localhost:8080/"
        },
        "id": "2S2_vH1Y_QrW",
        "outputId": "60e30ac5-1731-467a-b319-9b2cfba7bba9"
      },
      "source": [
        "if 'щука' in spisok: #проверка на принадлежность строки списку\n",
        "  print('Варим уху')\n",
        "else:\n",
        "  print('Сегодня без ухи')"
      ],
      "execution_count": null,
      "outputs": [
        {
          "output_type": "stream",
          "name": "stdout",
          "text": [
            "Варим уху\n"
          ]
        }
      ]
    },
    {
      "cell_type": "markdown",
      "metadata": {
        "id": "dIVtL8uhALXi"
      },
      "source": [
        "### 3.3 Срезы"
      ]
    },
    {
      "cell_type": "markdown",
      "metadata": {
        "id": "2dsRlZjpwz0T"
      },
      "source": [
        "Также последовательности предоставляют операцию получения вырезки, которая позволяет получить вырезку последовательности, т.е. её фрагмент."
      ]
    },
    {
      "cell_type": "markdown",
      "metadata": {
        "id": "tqX5mRZ__j7t"
      },
      "source": [
        "list[START:STOP:STEP] - берёт срез от номера START, до STOP **не включая его**, с шагом STEP. По умолчанию START = 0, STOP = длине объекта, STEP = 1. Соответственно, какие-нибудь (а возможно, и все) параметры могут быть опущены."
      ]
    },
    {
      "cell_type": "markdown",
      "metadata": {
        "id": "OX04Y_oP5xiu"
      },
      "source": [
        "\n",
        "\n",
        "\n",
        "\n",
        "Срезы позволяют выбрать часть списка, а не один отдельный элемент. \n",
        "\n"
      ]
    },
    {
      "cell_type": "code",
      "metadata": {
        "colab": {
          "base_uri": "https://localhost:8080/"
        },
        "id": "l-hgeS7QAOwf",
        "outputId": "73b70c47-d083-4b08-ccf6-e65d935ab680"
      },
      "source": [
        "vowels = ['а', 'е', 'ё', 'и', 'о', 'у', 'ы', 'э', 'ю', 'я']\n",
        "print(vowels[0:3])\n",
        "print(vowels[5:])\n",
        "print(vowels[4::2])\n",
        "print(vowels[:5])"
      ],
      "execution_count": null,
      "outputs": [
        {
          "output_type": "stream",
          "name": "stdout",
          "text": [
            "['а', 'е', 'ё']\n",
            "['у', 'ы', 'э', 'ю', 'я']\n",
            "['о', 'ы', 'ю']\n",
            "['а', 'е', 'ё', 'и', 'о']\n"
          ]
        }
      ]
    },
    {
      "cell_type": "markdown",
      "metadata": {
        "id": "AtYuPWwSc5kW"
      },
      "source": [
        "**Задача**: \n",
        "\n",
        "Выберите с помощью индексов элементы **о** & **у**"
      ]
    },
    {
      "cell_type": "code",
      "source": [
        "print(vowels[4:5])"
      ],
      "metadata": {
        "colab": {
          "base_uri": "https://localhost:8080/"
        },
        "id": "DN-PLrZA3zST",
        "outputId": "675ebc2d-69be-43bf-9f3d-23bd436cb4df"
      },
      "execution_count": null,
      "outputs": [
        {
          "output_type": "stream",
          "name": "stdout",
          "text": [
            "['о']\n"
          ]
        }
      ]
    },
    {
      "cell_type": "markdown",
      "source": [
        ""
      ],
      "metadata": {
        "id": "u-zpf60RtKLb"
      }
    },
    {
      "cell_type": "markdown",
      "metadata": {
        "id": "DRqstxGC6cCo"
      },
      "source": [
        "Отрицательные индексы"
      ]
    },
    {
      "cell_type": "code",
      "metadata": {
        "colab": {
          "base_uri": "https://localhost:8080/"
        },
        "id": "VFShM5Jc6aUS",
        "outputId": "5726745e-400c-4960-efda-9b941f77d02b"
      },
      "source": [
        "vowels[-1: -5]"
      ],
      "execution_count": null,
      "outputs": [
        {
          "output_type": "execute_result",
          "data": {
            "text/plain": [
              "[]"
            ]
          },
          "metadata": {},
          "execution_count": 26
        }
      ]
    },
    {
      "cell_type": "markdown",
      "metadata": {
        "id": "qRY4uYxidct8"
      },
      "source": [
        "**Задача**\n",
        "\n",
        "Создайте список из чисел от -1 до 25. Затем сделайте срез, чтобы в ответе был следующий список: [-1, 1, 3, 5, 7]. В качестве ответа напишите через запятую два числа, являющихся границами среза.\n"
      ]
    },
    {
      "cell_type": "code",
      "source": [
        "range_list = list(range(-1, 26))\n",
        "print(range_list[:9:2])"
      ],
      "metadata": {
        "colab": {
          "base_uri": "https://localhost:8080/"
        },
        "id": "XEu2tJLU5n_l",
        "outputId": "11dc3249-0b91-4910-9341-24c539652124"
      },
      "execution_count": null,
      "outputs": [
        {
          "output_type": "stream",
          "name": "stdout",
          "text": [
            "[-1, 1, 3, 5, 7]\n"
          ]
        }
      ]
    },
    {
      "cell_type": "markdown",
      "metadata": {
        "id": "ycQx9qa0m_Dt"
      },
      "source": [
        "### 3.4 Операции со списками"
      ]
    },
    {
      "cell_type": "markdown",
      "metadata": {
        "id": "6CWvdLH-C54G"
      },
      "source": [
        "В список можно добавлять элементы\n",
        "\n",
        "Давайте вернем щуку в наш список, но не заменим ей форель, а как бы добавим скраю. \n",
        "\n",
        "Для этой операции у нас есть метод `append()`. Он добавляет элемент справа (что делает эту операцию достаточно быстрой, в отличие от добавления элемента, например, с левого края) "
      ]
    },
    {
      "cell_type": "code",
      "metadata": {
        "colab": {
          "base_uri": "https://localhost:8080/"
        },
        "id": "V5Y2aVgeDQ5q",
        "outputId": "563c4323-ca82-4a74-f603-a46683c7ce55"
      },
      "source": [
        "spisok = ['лебедь', 'рак', 'форель']\n",
        "spisok.append('щука') \n",
        "spisok"
      ],
      "execution_count": null,
      "outputs": [
        {
          "output_type": "execute_result",
          "data": {
            "text/plain": [
              "['лебедь', 'рак', 'форель', 'щука']"
            ]
          },
          "metadata": {},
          "execution_count": 31
        }
      ]
    },
    {
      "cell_type": "markdown",
      "metadata": {
        "id": "lDptiYpUdyUm"
      },
      "source": [
        "**Задача:** \n",
        "\n",
        "Даны 3 переменные, содержащие в себе информацию о заказах, составьте пустой список orders и добавьте в него все заказы"
      ]
    },
    {
      "cell_type": "code",
      "metadata": {
        "colab": {
          "base_uri": "https://localhost:8080/"
        },
        "id": "NA1S0O03d6qU",
        "outputId": "f971b158-3e60-4796-9406-4f38a4a513aa"
      },
      "source": [
        "order1 = 'Заказ: рыба, молоко, яйца'\n",
        "order2 = 'Заказ: молоко, хлебцы, буженина'\n",
        "order3 = 'Заказ: батон, вода'\n",
        "orders = []\n",
        "orders.append(order1)\n",
        "orders.append(order2)\n",
        "orders.append(order3)\n",
        "print(orders)"
      ],
      "execution_count": null,
      "outputs": [
        {
          "output_type": "stream",
          "name": "stdout",
          "text": [
            "['Заказ: рыба, молоко, яйца', 'Заказ: молоко, хлебцы, буженина', 'Заказ: батон, вода']\n"
          ]
        }
      ]
    },
    {
      "cell_type": "markdown",
      "metadata": {
        "id": "F1hYiVKtejY8"
      },
      "source": [
        "Список можно расширять значениями из другого списка. Для этого используется метод `extend()`:"
      ]
    },
    {
      "cell_type": "code",
      "metadata": {
        "colab": {
          "base_uri": "https://localhost:8080/"
        },
        "id": "cPgQKz0qfEYZ",
        "outputId": "330c68a8-7017-4f2a-cb32-e8ebe06d4f79"
      },
      "source": [
        "a = [\"Красноярский край\", \"Саратовская область\", \"Якутия\"]\n",
        "b = [\"Республика Крым\", \"Калининградская область\"]\n",
        "a.extend(b)\n",
        "print(a)"
      ],
      "execution_count": null,
      "outputs": [
        {
          "output_type": "stream",
          "name": "stdout",
          "text": [
            "['Красноярский край', 'Саратовская область', 'Якутия', 'Республика Крым', 'Калининградская область']\n"
          ]
        }
      ]
    },
    {
      "cell_type": "markdown",
      "metadata": {
        "id": "u14YzxPmfOx-"
      },
      "source": [
        "**Задача:** \n",
        "\n",
        "Вам даны наблюдения температуры воздуха за определенный период. К вам приходят новые наблюдения. Объедините данные в единый список\n"
      ]
    },
    {
      "cell_type": "code",
      "metadata": {
        "id": "90EIzSGefbzo",
        "colab": {
          "base_uri": "https://localhost:8080/"
        },
        "outputId": "2680f5e9-11bf-41b6-db69-b9964a01d98e"
      },
      "source": [
        "temp_old = [23.3, 24.1, 26.4, 24.2, 20.3]\n",
        "temp_new = [19.8, 15.3, 18.4, 10.4, 8.1, 5.0]\n",
        "temp_old.extend(temp_new)\n",
        "temp_old"
      ],
      "execution_count": null,
      "outputs": [
        {
          "output_type": "execute_result",
          "data": {
            "text/plain": [
              "[23.3, 24.1, 26.4, 24.2, 20.3, 19.8, 15.3, 18.4, 10.4, 8.1, 5.0]"
            ]
          },
          "metadata": {},
          "execution_count": 41
        }
      ]
    },
    {
      "cell_type": "markdown",
      "metadata": {
        "id": "g6AHeIyCDprC"
      },
      "source": [
        "Итак, мы разобрались с добавлением элементов и его расширением, теперь давайте узнаем как удалять элементы списка\n",
        "\n",
        "Для этого у нас есть метод `revome()`, который принимает в качестве аргумента элемент, который мы хотим удалить\n",
        "\n"
      ]
    },
    {
      "cell_type": "code",
      "metadata": {
        "colab": {
          "base_uri": "https://localhost:8080/"
        },
        "id": "UlxR4jtGAUYp",
        "outputId": "55551d80-3976-4b03-8129-833863c078f0"
      },
      "source": [
        "spisok = ['лебедь', 'рак', 'форель', 'лебедь']\n",
        "spisok.remove('лебедь')\n",
        "spisok"
      ],
      "execution_count": null,
      "outputs": [
        {
          "output_type": "execute_result",
          "data": {
            "text/plain": [
              "['рак', 'форель', 'лебедь']"
            ]
          },
          "metadata": {},
          "execution_count": 42
        }
      ]
    },
    {
      "cell_type": "markdown",
      "metadata": {
        "id": "i9BQ1d5hvwTE"
      },
      "source": [
        "Для удаления элементов по индексу используется метод `pop()`:"
      ]
    },
    {
      "cell_type": "code",
      "metadata": {
        "colab": {
          "base_uri": "https://localhost:8080/"
        },
        "id": "UPUuf00Yv4Ku",
        "outputId": "7af04ff0-3b20-476a-f7eb-3cc88806eec3"
      },
      "source": [
        "languages = ['Java', 'C', 'Python', 'C++', 'Visual Basic.NET']\n",
        "languages.pop(3)\n",
        "#print(pop_item)\n",
        "print(languages)"
      ],
      "execution_count": null,
      "outputs": [
        {
          "output_type": "stream",
          "name": "stdout",
          "text": [
            "['Java', 'C', 'Python', 'Visual Basic.NET']\n"
          ]
        }
      ]
    },
    {
      "cell_type": "markdown",
      "metadata": {
        "id": "fZkSN2BZAwNx"
      },
      "source": [
        "Отсортируем наш список с помощью метода `sort()`. Параметр reverse обозначает сортировку по убыванию (в порядке, обратному алфавитному)"
      ]
    },
    {
      "cell_type": "code",
      "metadata": {
        "colab": {
          "base_uri": "https://localhost:8080/"
        },
        "id": "Dnm5LOkTAvcm",
        "outputId": "1ff85fce-030b-4a43-bc59-49bc42e6ba46"
      },
      "source": [
        "spisok.sort(reverse=False)\n",
        "spisok"
      ],
      "execution_count": null,
      "outputs": [
        {
          "output_type": "execute_result",
          "data": {
            "text/plain": [
              "['лебедь', 'рак', 'форель']"
            ]
          },
          "metadata": {},
          "execution_count": 44
        }
      ]
    },
    {
      "cell_type": "code",
      "metadata": {
        "colab": {
          "base_uri": "https://localhost:8080/"
        },
        "id": "DbcPp1KTZ2r4",
        "outputId": "efb6e8f4-6e0b-4877-fd50-f1755ffbe921"
      },
      "source": [
        "languages = ['Java', 'C', 'Python', 'C++', 'Visual Basic.NET']\n",
        "languages[::-1]"
      ],
      "execution_count": null,
      "outputs": [
        {
          "output_type": "execute_result",
          "data": {
            "text/plain": [
              "['Visual Basic.NET', 'C++', 'Python', 'C', 'Java']"
            ]
          },
          "metadata": {},
          "execution_count": 45
        }
      ]
    },
    {
      "cell_type": "markdown",
      "metadata": {
        "id": "USe_Gb0MBGgA"
      },
      "source": [
        "Помимо перечисленных выше методов у списка есть еще огромный арсенал возможностей. Подробнее со всеми ними вы можете познакомиться по ссылочке:https://pythonworld.ru/tipy-dannyx-v-python/spiski-list-funkcii-i-metody-spiskov.html"
      ]
    },
    {
      "cell_type": "markdown",
      "metadata": {
        "id": "I-bhnWGgH8vv"
      },
      "source": [
        "Рассмотрим еще несколько фишечек со списками:"
      ]
    },
    {
      "cell_type": "code",
      "metadata": {
        "colab": {
          "base_uri": "https://localhost:8080/"
        },
        "id": "7tnpBV0KICsH",
        "outputId": "6636877b-b317-457c-86fc-f1c2e7721ce1"
      },
      "source": [
        "a = [5, '1', '124', 'hello'] + [14, 141, 5] #конкатенация списков\n",
        "a"
      ],
      "execution_count": null,
      "outputs": [
        {
          "output_type": "execute_result",
          "data": {
            "text/plain": [
              "[5, '1', '124', 'hello', 14, 141, 5]"
            ]
          },
          "metadata": {},
          "execution_count": 46
        }
      ]
    },
    {
      "cell_type": "code",
      "metadata": {
        "colab": {
          "base_uri": "https://localhost:8080/"
        },
        "id": "Bqf50LykILyi",
        "outputId": "5a488254-bcb2-4c85-aa1e-febd8e0ca6ba"
      },
      "source": [
        "[14, 141] * 5 #умножение списка"
      ],
      "execution_count": null,
      "outputs": [
        {
          "output_type": "execute_result",
          "data": {
            "text/plain": [
              "[14, 141, 14, 141, 14, 141, 14, 141, 14, 141]"
            ]
          },
          "metadata": {},
          "execution_count": 47
        }
      ]
    },
    {
      "cell_type": "markdown",
      "metadata": {
        "id": "LPAcIQGJwTF7"
      },
      "source": [
        "Агрегирующие методы для списков\n"
      ]
    },
    {
      "cell_type": "code",
      "metadata": {
        "colab": {
          "base_uri": "https://localhost:8080/"
        },
        "id": "Q_OG3w4kwXFW",
        "outputId": "deac32da-9a3a-41de-8124-28c102a529bc"
      },
      "source": [
        "temp_new = [19.8, 15.3, 18.4, 10.4, 8.1, 5.0]\n",
        "sum(temp_new)"
      ],
      "execution_count": null,
      "outputs": [
        {
          "output_type": "execute_result",
          "data": {
            "text/plain": [
              "77.0"
            ]
          },
          "metadata": {},
          "execution_count": 48
        }
      ]
    },
    {
      "cell_type": "code",
      "metadata": {
        "colab": {
          "base_uri": "https://localhost:8080/"
        },
        "id": "_VUnE59qweOr",
        "outputId": "656ac782-4d0c-452c-db27-77058abe7cca"
      },
      "source": [
        "temp_new = [19.8, 15.3, 18.4, 10.4, 8.1, 5.0]\n",
        "sum(temp_new)/len(temp_new)"
      ],
      "execution_count": null,
      "outputs": [
        {
          "output_type": "execute_result",
          "data": {
            "text/plain": [
              "12.833333333333334"
            ]
          },
          "metadata": {},
          "execution_count": 49
        }
      ]
    },
    {
      "cell_type": "code",
      "metadata": {
        "colab": {
          "base_uri": "https://localhost:8080/"
        },
        "id": "9O9k1Q15whZh",
        "outputId": "33a0aa6d-7a92-4f56-b964-edc4cb64b4c1"
      },
      "source": [
        "temp_new = [19.8, 15.3, 18.4, 10.4, 8.1, 5.0]\n",
        "max(temp_new)"
      ],
      "execution_count": null,
      "outputs": [
        {
          "output_type": "execute_result",
          "data": {
            "text/plain": [
              "19.8"
            ]
          },
          "metadata": {},
          "execution_count": 50
        }
      ]
    },
    {
      "cell_type": "code",
      "metadata": {
        "colab": {
          "base_uri": "https://localhost:8080/"
        },
        "id": "_BpDWpMLwkzW",
        "outputId": "14197bda-62ae-4e38-ccfa-41669a42ce77"
      },
      "source": [
        "temp_new = [19.8, 15.3, 18.4, 10.4, 8.1, 5.0]\n",
        "min(temp_new)"
      ],
      "execution_count": null,
      "outputs": [
        {
          "output_type": "execute_result",
          "data": {
            "text/plain": [
              "5.0"
            ]
          },
          "metadata": {},
          "execution_count": 58
        }
      ]
    },
    {
      "cell_type": "code",
      "source": [
        "temp_new[::-1]"
      ],
      "metadata": {
        "colab": {
          "base_uri": "https://localhost:8080/"
        },
        "id": "dX2U6zK8_EBJ",
        "outputId": "53c8b54f-73a8-4176-a31d-0d627a1580d3"
      },
      "execution_count": null,
      "outputs": [
        {
          "output_type": "execute_result",
          "data": {
            "text/plain": [
              "[5.0, 8.1, 10.4, 18.4, 15.3, 19.8]"
            ]
          },
          "metadata": {},
          "execution_count": 59
        }
      ]
    },
    {
      "cell_type": "code",
      "source": [
        "temp_new.reverse()\n",
        "temp_new"
      ],
      "metadata": {
        "colab": {
          "base_uri": "https://localhost:8080/"
        },
        "id": "CC0s43qX_FuC",
        "outputId": "b0013bf6-b3ff-466c-816e-98eec98ea14a"
      },
      "execution_count": null,
      "outputs": [
        {
          "output_type": "execute_result",
          "data": {
            "text/plain": [
              "[5.0, 8.1, 10.4, 18.4, 15.3, 19.8]"
            ]
          },
          "metadata": {},
          "execution_count": 60
        }
      ]
    },
    {
      "cell_type": "code",
      "source": [
        "temp_new.index(18.4)"
      ],
      "metadata": {
        "colab": {
          "base_uri": "https://localhost:8080/"
        },
        "id": "NZ_8ducY-fEM",
        "outputId": "774094c3-42e1-42c6-8e79-a9300fd461bd"
      },
      "execution_count": null,
      "outputs": [
        {
          "output_type": "execute_result",
          "data": {
            "text/plain": [
              "2"
            ]
          },
          "metadata": {},
          "execution_count": 53
        }
      ]
    },
    {
      "cell_type": "code",
      "source": [
        "t = temp_new.pop(2)\n",
        "temp_new"
      ],
      "metadata": {
        "colab": {
          "base_uri": "https://localhost:8080/"
        },
        "id": "OK5op0QfAyK7",
        "outputId": "e96c4c21-c1ed-4c34-89f3-eff37a0d85db"
      },
      "execution_count": null,
      "outputs": [
        {
          "output_type": "execute_result",
          "data": {
            "text/plain": [
              "[5.0, 8.1, 18.4, 15.3, 19.8]"
            ]
          },
          "metadata": {},
          "execution_count": 72
        }
      ]
    },
    {
      "cell_type": "code",
      "source": [
        "t"
      ],
      "metadata": {
        "colab": {
          "base_uri": "https://localhost:8080/"
        },
        "id": "y3Qz0AI6A-Bn",
        "outputId": "a6a8e1f1-f70e-4784-eca3-8fb094c8d9c4"
      },
      "execution_count": null,
      "outputs": [
        {
          "output_type": "execute_result",
          "data": {
            "text/plain": [
              "10.4"
            ]
          },
          "metadata": {},
          "execution_count": 73
        }
      ]
    },
    {
      "cell_type": "code",
      "metadata": {
        "colab": {
          "base_uri": "https://localhost:8080/"
        },
        "id": "GaGdf4jzw0kf",
        "outputId": "e8fa7a7d-a371-42d2-b557-ee05ba79fd28"
      },
      "source": [
        "sex_feature = ['men', 'women', 'women',\n",
        "              'men', 'women', 'women',\n",
        "              'men', 'women', 'men', 'men']\n",
        "sex_feature.count('women')                     "
      ],
      "execution_count": null,
      "outputs": [
        {
          "output_type": "execute_result",
          "data": {
            "text/plain": [
              "5"
            ]
          },
          "metadata": {},
          "execution_count": 63
        }
      ]
    },
    {
      "cell_type": "markdown",
      "metadata": {
        "id": "9ajno0rag7Rl"
      },
      "source": [
        "### 3.6. Вложенные списки\n",
        "\n"
      ]
    },
    {
      "cell_type": "markdown",
      "metadata": {
        "id": "JBAn5C3XDALj"
      },
      "source": [
        "Элементом списка может быть любой объект в питоне, в том числе и другой список. Порой встречаются такие структуры как списки в списках, или \"вложенный список\". "
      ]
    },
    {
      "cell_type": "code",
      "metadata": {
        "colab": {
          "base_uri": "https://localhost:8080/"
        },
        "id": "r4HgZuJ6hNpY",
        "scrolled": true,
        "outputId": "6024f166-1485-430f-9828-5e3c9843010b"
      },
      "source": [
        "array_of_arrays = [\n",
        "                   [1, 2, 3],\n",
        "                   [4, 5, 3],\n",
        "                   [7, 2, 5]\n",
        "                   ]\n",
        "# у нас есть список array_of_arrays, который состоит из трех элементов \n",
        "# мы можем получить каждый из этих трех элементов с помощью индекса\n",
        "array_of_arrays[1][2]"
      ],
      "execution_count": null,
      "outputs": [
        {
          "output_type": "execute_result",
          "data": {
            "text/plain": [
              "3"
            ]
          },
          "metadata": {},
          "execution_count": 69
        }
      ]
    },
    {
      "cell_type": "markdown",
      "metadata": {
        "id": "wDzymhD6Lp_A"
      },
      "source": [
        "Задача: \n",
        "Cоздайте матрицу 3х3 у которой на диагонали будут стоять значение корня из 2"
      ]
    },
    {
      "cell_type": "code",
      "metadata": {
        "colab": {
          "base_uri": "https://localhost:8080/"
        },
        "id": "KqQuXDZNXs4Y",
        "outputId": "4602325c-1e92-45bc-b0b1-6571be16e4e3"
      },
      "source": [
        "array = [\n",
        "         [0]*3,\n",
        "         [0]*3 ,\n",
        "         [0]*3\n",
        "         ]\n",
        "print(array)\n",
        "array[0][0] = 2**0.5\n",
        "array[1][1] = 2**0.5\n",
        "array[2][2] = 2**0.5\n",
        "array"
      ],
      "execution_count": null,
      "outputs": [
        {
          "output_type": "stream",
          "name": "stdout",
          "text": [
            "[[0, 0, 0], [0, 0, 0], [0, 0, 0]]\n"
          ]
        },
        {
          "output_type": "execute_result",
          "data": {
            "text/plain": [
              "[[1.4142135623730951, 0, 0],\n",
              " [0, 1.4142135623730951, 0],\n",
              " [0, 0, 1.4142135623730951]]"
            ]
          },
          "metadata": {},
          "execution_count": 71
        }
      ]
    },
    {
      "cell_type": "code",
      "source": [
        ""
      ],
      "metadata": {
        "id": "8KZMtQWFAwTF"
      },
      "execution_count": null,
      "outputs": []
    },
    {
      "cell_type": "markdown",
      "metadata": {
        "id": "y9QyIRiXFhXr"
      },
      "source": [
        "### 3.7 Практический кейс на списки"
      ]
    },
    {
      "cell_type": "markdown",
      "metadata": {
        "id": "eXeS9brNyO08"
      },
      "source": [
        "В вашем распоряжении есть некоторая информация о пользователях банка и их статусе: ушли ли они от нас или нет. Необходимо организовать программу, которая:\n",
        "  * Расчитает среднее по признаку кредитного рейтинга для ушедших клиентов\n",
        "  * Средний возраст всех клиентов\n",
        "  * Долю ушедших клиентов\n",
        "  * Выведет идентификаторы клиентов, которые ушли от банка"
      ]
    },
    {
      "cell_type": "code",
      "metadata": {
        "id": "BZ-A3v8OziwY"
      },
      "source": [
        "users = [\n",
        "         [15634602, 15647311, 15619304, 15701354],#'CustomerId'\n",
        "         ['Hargrave', 'Hill', 'Onio', 'Boni'],#'Surname'\n",
        "         [ 619, 608, 502, 699], #'CreditScore'\n",
        "         ['Female', 'Female', 'Female', 'Female'], #'Gender'\n",
        "         [ 42, 41, 42, 39], #'Age'\n",
        "         [1, 0, 1, 0] #Exited\n",
        "         ]"
      ],
      "execution_count": null,
      "outputs": []
    },
    {
      "cell_type": "markdown",
      "metadata": {
        "id": "0rjsQq8G9J2v"
      },
      "source": [
        "## 4. Словарь"
      ]
    },
    {
      "cell_type": "markdown",
      "metadata": {
        "id": "vVCdYjHntQJD"
      },
      "source": [
        "### 4.0 Определение словаря"
      ]
    },
    {
      "cell_type": "markdown",
      "metadata": {
        "id": "3heTmd3E9J2w"
      },
      "source": [
        "Список хорош, когда он один. Но зачастую у нас возникает необходимость хранить несколько связанных списков. \n",
        "Например, номера телефонов и имена покупателей. Или название продуктов и их стоимость. В python есть особый тип данных для хранения такой информации в удобной форме - словарь"
      ]
    },
    {
      "cell_type": "markdown",
      "metadata": {
        "id": "7i93VWLn9J2w"
      },
      "source": [
        "Словарь в Python - неупорядоченная ассоциативная изменяемая коллекция произвольных типов \n",
        "Снова разбираем по словам:\n",
        "  1. Неупорядоченная структура означает, что элементы в словаре хранятся в произвольном порядке и не имеют номера\n",
        "  2. В отличие от последовательностей, которые индексируются диапазоном чисел, словари индексируются по ключам, которые могут быть любым **неизменяемым** типом; строки и числа всегда могут быть ключами.\n",
        "  3. Изменяемая - словари можно изменять: добавлять, удалять и заменять элементы и ключи\n",
        "  4. Произвольных типов означает, что в словаре, как и в списке хранятся элементы любой природы: числа, строки, списки, словари и.т.д.\n"
      ]
    },
    {
      "cell_type": "markdown",
      "metadata": {
        "id": "5OlCrQFlKQU8"
      },
      "source": [
        "### 4.1 Создание словаря и получение его элементов"
      ]
    },
    {
      "cell_type": "code",
      "metadata": {
        "id": "f81OTt3RxSia"
      },
      "source": [
        "my_dict = {}#создание пустого словаря"
      ],
      "execution_count": null,
      "outputs": []
    },
    {
      "cell_type": "code",
      "metadata": {
        "id": "s3NhVRZsxUeo"
      },
      "source": [
        "my_dict = dict() #другой способ создания пустого словаря"
      ],
      "execution_count": null,
      "outputs": []
    },
    {
      "cell_type": "markdown",
      "metadata": {
        "id": "58Pmt4QIaHQW"
      },
      "source": [
        "Создадим словарь продуктов и их цен\n"
      ]
    },
    {
      "cell_type": "code",
      "metadata": {
        "id": "4QvNxKUG9J2z",
        "colab": {
          "base_uri": "https://localhost:8080/"
        },
        "outputId": "6df827e3-db08-4a68-cab4-e823b696e01d"
      },
      "source": [
        "fruit_dict = {\n",
        "    'Банан': '16 рублей',\n",
        "    'Яблоко': '28 рублей', \n",
        "    'Персик': '37 рублей', \n",
        "    'Манго': '100 рублей', \n",
        "    'Апельсин': '30 рублей'\n",
        "    }\n",
        "fruit_dict"
      ],
      "execution_count": null,
      "outputs": [
        {
          "output_type": "execute_result",
          "data": {
            "text/plain": [
              "{'Апельсин': '30 рублей',\n",
              " 'Банан': '16 рублей',\n",
              " 'Манго': '100 рублей',\n",
              " 'Персик': '37 рублей',\n",
              " 'Яблоко': '28 рублей'}"
            ]
          },
          "metadata": {},
          "execution_count": 76
        }
      ]
    },
    {
      "cell_type": "markdown",
      "metadata": {
        "id": "bzh-kkuA39C0"
      },
      "source": [
        "Создание словарей из двух списков можно осуществить с помощью функции `zip`:\n"
      ]
    },
    {
      "cell_type": "code",
      "metadata": {
        "colab": {
          "base_uri": "https://localhost:8080/"
        },
        "id": "cHqS2eE74CWT",
        "outputId": "d4c70d55-d89c-45ba-94b9-56f2bcaa97e0"
      },
      "source": [
        "fruits = ['Банан', 'Яблоко', 'Персик', 'Манго', 'Апельсин']\n",
        "prices = ['16 рублей','28 рублей','37 рублей','100 рублей','30 рублей']\n",
        "fruit_dict = dict(zip(fruits, prices))\n",
        "fruit_dict"
      ],
      "execution_count": null,
      "outputs": [
        {
          "output_type": "execute_result",
          "data": {
            "text/plain": [
              "{'Банан': '16 рублей',\n",
              " 'Манго': '100 рублей',\n",
              " 'Персик': '37 рублей',\n",
              " 'Яблоко': '28 рублей'}"
            ]
          },
          "metadata": {},
          "execution_count": 66
        }
      ]
    },
    {
      "cell_type": "code",
      "metadata": {
        "colab": {
          "base_uri": "https://localhost:8080/"
        },
        "id": "1R1nL7xFK9_F",
        "outputId": "4951c7ee-ab34-42d0-f568-ee034a294a34"
      },
      "source": [
        "#Обращаемся к элементу с помощью ключа\n",
        "print(fruit_dict['Банан'])\n",
        "print(fruit_dict['Апельсин'])"
      ],
      "execution_count": null,
      "outputs": [
        {
          "output_type": "stream",
          "name": "stdout",
          "text": [
            "16 рублей\n",
            "30 рублей\n"
          ]
        }
      ]
    },
    {
      "cell_type": "code",
      "metadata": {
        "colab": {
          "base_uri": "https://localhost:8080/",
          "height": 167
        },
        "id": "WadUm5vcLVj9",
        "outputId": "83b5b725-58f0-4cf4-942c-d7e9505e5666"
      },
      "source": [
        "fruit_dict['Вишня']"
      ],
      "execution_count": null,
      "outputs": [
        {
          "output_type": "error",
          "ename": "KeyError",
          "evalue": "ignored",
          "traceback": [
            "\u001b[0;31m---------------------------------------------------------------------------\u001b[0m",
            "\u001b[0;31mKeyError\u001b[0m                                  Traceback (most recent call last)",
            "\u001b[0;32m<ipython-input-79-fbf2fb41c159>\u001b[0m in \u001b[0;36m<module>\u001b[0;34m()\u001b[0m\n\u001b[0;32m----> 1\u001b[0;31m \u001b[0mfruit_dict\u001b[0m\u001b[0;34m[\u001b[0m\u001b[0;34m'Вишня'\u001b[0m\u001b[0;34m]\u001b[0m\u001b[0;34m\u001b[0m\u001b[0;34m\u001b[0m\u001b[0m\n\u001b[0m",
            "\u001b[0;31mKeyError\u001b[0m: 'Вишня'"
          ]
        }
      ]
    },
    {
      "cell_type": "code",
      "metadata": {
        "id": "FzOkM0EbuvB0",
        "colab": {
          "base_uri": "https://localhost:8080/"
        },
        "outputId": "25df3206-5796-4d0a-a7a6-d2f399588ebd"
      },
      "source": [
        "if 'Банан' not in fruit_dict: \n",
        "    print('Нет в словаре') \n",
        "else: \n",
        "    print(fruit_dict['Банан']) "
      ],
      "execution_count": null,
      "outputs": [
        {
          "output_type": "stream",
          "name": "stdout",
          "text": [
            "16 рублей\n"
          ]
        }
      ]
    },
    {
      "cell_type": "markdown",
      "metadata": {
        "id": "A4xWbvXHKzyl"
      },
      "source": [
        "### 4.2 Ключи и значения словаря "
      ]
    },
    {
      "cell_type": "markdown",
      "metadata": {
        "id": "ln6_COB-m_D-"
      },
      "source": [
        "Получить ключи и значения словарей можно с помощью методов: keys(), values() и items()"
      ]
    },
    {
      "cell_type": "code",
      "metadata": {
        "colab": {
          "base_uri": "https://localhost:8080/"
        },
        "id": "N9P3b3uM6JN7",
        "outputId": "98eed818-4665-43bb-a9ea-3b72611261ea"
      },
      "source": [
        "user_dict = {\n",
        "    'id': 532, \n",
        "    'name': 'Ксения',\n",
        "    'surmame': 'Собчак',\n",
        "    'age': 40,\n",
        "    'gender': 'female',\n",
        "    'mail': 'sobchak@yandex.ru',\n",
        "    'count_orders': 1402\n",
        "}\n",
        "\n",
        "items = list(user_dict.values())\n",
        "items"
      ],
      "execution_count": null,
      "outputs": [
        {
          "output_type": "execute_result",
          "data": {
            "text/plain": [
              "[532, 'Ксения', 'Собчак', 40, 'female', 'sobchak@yandex.ru', 1402]"
            ]
          },
          "metadata": {},
          "execution_count": 87
        }
      ]
    },
    {
      "cell_type": "code",
      "metadata": {
        "scrolled": true,
        "colab": {
          "base_uri": "https://localhost:8080/"
        },
        "id": "m2npiEVEm_D_",
        "outputId": "c11235f9-0cf4-4954-e3cd-42935817767d"
      },
      "source": [
        "features = list(user_dict.keys())\n",
        "features"
      ],
      "execution_count": null,
      "outputs": [
        {
          "output_type": "execute_result",
          "data": {
            "text/plain": [
              "['id', 'name', 'surmame', 'age', 'gender', 'mail', 'count_orders']"
            ]
          },
          "metadata": {},
          "execution_count": 84
        }
      ]
    },
    {
      "cell_type": "code",
      "metadata": {
        "colab": {
          "base_uri": "https://localhost:8080/"
        },
        "id": "ZCPzLUVxm_D_",
        "outputId": "a8962d5a-31d8-4d69-f7bf-63c5bdc04a50"
      },
      "source": [
        "features_items = list(user_dict.items())\n",
        "features_items"
      ],
      "execution_count": null,
      "outputs": [
        {
          "output_type": "execute_result",
          "data": {
            "text/plain": [
              "[('id', 532),\n",
              " ('name', 'Ксения'),\n",
              " ('surmame', 'Собчак'),\n",
              " ('age', 40),\n",
              " ('gender', 'female'),\n",
              " ('mail', 'sobchak@yandex.ru'),\n",
              " ('count_orders', 1402)]"
            ]
          },
          "metadata": {},
          "execution_count": 85
        }
      ]
    },
    {
      "cell_type": "markdown",
      "metadata": {
        "id": "AFRIVnWlm_EG"
      },
      "source": [
        "### 4.3 Операции со словарями"
      ]
    },
    {
      "cell_type": "code",
      "metadata": {
        "id": "CcnPNRLM1C_R"
      },
      "source": [
        "employee_base = {\n",
        "    'Мария Никитина': 'менеджер', \n",
        "    'Егор Савичев': 'разработчик',\n",
        "    'Александр Пахомов': 'дизайнер',\n",
        "    'Алина Егорова': 'разработчик',\n",
        "    'Руслан Башаров': 'верстальщик'}"
      ],
      "execution_count": null,
      "outputs": []
    },
    {
      "cell_type": "markdown",
      "metadata": {
        "id": "cX4qNCJq3WLi"
      },
      "source": [
        "Рассмотрим самый базовый синтаксис добавления нового ключа и значения в словарь. Заметьте, что такой же синтаксис работает и на замену существующего значения на новое по ключу"
      ]
    },
    {
      "cell_type": "code",
      "metadata": {
        "colab": {
          "base_uri": "https://localhost:8080/"
        },
        "id": "zozYMjIkm_EG",
        "outputId": "3520bd21-67d3-4fe7-f436-1ee47e94eb6c"
      },
      "source": [
        "employee_base['Егор Зимин'] = 'разработчик' #добавление в словарь\n",
        "employee_base['Мария Никитина'] = 'старший менеджер' #замена значения по ключу\n",
        "employee_base"
      ],
      "execution_count": null,
      "outputs": [
        {
          "output_type": "execute_result",
          "data": {
            "text/plain": [
              "{'Александр Пахомов': 'дизайнер',\n",
              " 'Алина Егорова': 'разработчик',\n",
              " 'Егор Зимин': 'разработчик',\n",
              " 'Егор Савичев': 'разработчик',\n",
              " 'Мария Никитина': 'старший менеджер',\n",
              " 'Руслан Башаров': 'верстальщик'}"
            ]
          },
          "metadata": {},
          "execution_count": 91
        }
      ]
    },
    {
      "cell_type": "markdown",
      "metadata": {
        "id": "vg12puK54hqN"
      },
      "source": [
        "**Задача:**\n",
        "\n",
        "Напишите код, который бы увеличил число заказов в словаре user_dict на 10, а также заменил почту на ksobchak@mail.ru"
      ]
    },
    {
      "cell_type": "code",
      "metadata": {
        "id": "avD0Votf4tQG",
        "colab": {
          "base_uri": "https://localhost:8080/"
        },
        "outputId": "d390ea5a-f447-43ef-abd3-cda599b582ac"
      },
      "source": [
        "user_dict = {\n",
        "    'id': 532, \n",
        "    'name': 'Ксения',\n",
        "    'surmame': 'Собчак',\n",
        "    'age': 39,\n",
        "    'gender': 'female',\n",
        "    'mail': 'sobchak@yandex.ru',\n",
        "    'count_orders': 1402\n",
        "}\n",
        "user_dict['count_orders'] += 10\n",
        "user_dict['mail'] = 'ksobchak@mail.ru'\n",
        "user_dict"
      ],
      "execution_count": null,
      "outputs": [
        {
          "output_type": "execute_result",
          "data": {
            "text/plain": [
              "{'age': 39,\n",
              " 'count_orders': 1412,\n",
              " 'gender': 'female',\n",
              " 'id': 532,\n",
              " 'mail': 'ksobchak@mail.ru',\n",
              " 'name': 'Ксения',\n",
              " 'surmame': 'Собчак'}"
            ]
          },
          "metadata": {},
          "execution_count": 93
        }
      ]
    },
    {
      "cell_type": "markdown",
      "metadata": {
        "id": "HTXBHvCK3Vfs"
      },
      "source": [
        "Получить данные из словаря можно с помощью метода `get()`. Он позволяет установить значение по умолчанию, если элемент не был найдет"
      ]
    },
    {
      "cell_type": "code",
      "metadata": {
        "colab": {
          "base_uri": "https://localhost:8080/"
        },
        "id": "ycm5JBvchpbk",
        "outputId": "84958731-8af2-435f-9a63-809bd0775759"
      },
      "source": [
        "employee_base"
      ],
      "execution_count": null,
      "outputs": [
        {
          "output_type": "execute_result",
          "data": {
            "text/plain": [
              "{'Александр Пахомов': 'дизайнер',\n",
              " 'Алина Егорова': 'разработчик',\n",
              " 'Егор Зимин': 'разработчик',\n",
              " 'Егор Савичев': 'разработчик',\n",
              " 'Мария Никитина': 'старший менеджер',\n",
              " 'Руслан Башаров': 'верстальщик'}"
            ]
          },
          "metadata": {},
          "execution_count": 94
        }
      ]
    },
    {
      "cell_type": "code",
      "metadata": {
        "colab": {
          "base_uri": "https://localhost:8080/",
          "height": 35
        },
        "id": "kIa4YuGY3U6k",
        "outputId": "5ccb3fce-1878-475d-e81e-49e9da3146c3"
      },
      "source": [
        "employee_base.get(\"Мария Лобанова\", \"Такого сотрудника не было найдено\") "
      ],
      "execution_count": null,
      "outputs": [
        {
          "output_type": "execute_result",
          "data": {
            "application/vnd.google.colaboratory.intrinsic+json": {
              "type": "string"
            },
            "text/plain": [
              "'Такого сотрудника не было найдено'"
            ]
          },
          "metadata": {},
          "execution_count": 96
        }
      ]
    },
    {
      "cell_type": "code",
      "metadata": {
        "id": "Lf5XOkya3tJN",
        "colab": {
          "base_uri": "https://localhost:8080/"
        },
        "outputId": "ad7afc83-836c-4dd4-d8cb-c108f6441050"
      },
      "source": [
        "error = employee_base.get(\"Митрофан Смирнов\", -1) \n",
        "error == -1"
      ],
      "execution_count": null,
      "outputs": [
        {
          "output_type": "execute_result",
          "data": {
            "text/plain": [
              "True"
            ]
          },
          "metadata": {},
          "execution_count": 97
        }
      ]
    },
    {
      "cell_type": "markdown",
      "metadata": {
        "id": "arXb9fAJ5LXk"
      },
      "source": [
        "Часто бывает ситуация, что словарь необходимо дополнить. Тогда вам поможет метод `update()`"
      ]
    },
    {
      "cell_type": "code",
      "metadata": {
        "colab": {
          "base_uri": "https://localhost:8080/"
        },
        "id": "4WZfF4PN5W5l",
        "outputId": "a5c14e3a-3ee5-4859-b4f5-1e2b2a8ffbd3"
      },
      "source": [
        "employee_base = {\n",
        "    'Мария Никитина': 'менеджер', \n",
        "    'Егор Савичев': 'разработчик',\n",
        "    'Александр Пахомов': 'дизайнер',\n",
        "    'Алина Егорова': 'разработчик',\n",
        "    'Руслан Башаров': 'верстальщик'}\n",
        "new_base = {\n",
        "    'Роман Родимов': 'HR менеджер',\n",
        "    'Ксения Колесниченко': 'data scientist',\n",
        "    'Андрей Рысистов': 'уборщик'\n",
        "}\n",
        "employee_base.update(new_base)\n",
        "employee_base"
      ],
      "execution_count": null,
      "outputs": [
        {
          "output_type": "execute_result",
          "data": {
            "text/plain": [
              "{'Александр Пахомов': 'дизайнер',\n",
              " 'Алина Егорова': 'разработчик',\n",
              " 'Андрей Рысистов': 'уборщик',\n",
              " 'Егор Савичев': 'разработчик',\n",
              " 'Ксения Колесниченко': 'data scientist',\n",
              " 'Мария Никитина': 'менеджер',\n",
              " 'Роман Родимов': 'HR менеджер',\n",
              " 'Руслан Башаров': 'верстальщик'}"
            ]
          },
          "metadata": {},
          "execution_count": 98
        }
      ]
    },
    {
      "cell_type": "code",
      "metadata": {
        "colab": {
          "base_uri": "https://localhost:8080/"
        },
        "id": "poeg8CY37oC_",
        "outputId": "3cdfa386-737c-477f-c607-2cca04039544"
      },
      "source": [
        "employee_base.update({'Андрей Рысистов': 'data scientist'})\n",
        "employee_base"
      ],
      "execution_count": null,
      "outputs": [
        {
          "output_type": "execute_result",
          "data": {
            "text/plain": [
              "{'Александр Пахомов': 'дизайнер',\n",
              " 'Алина Егорова': 'разработчик',\n",
              " 'Андрей Рысистов': 'data scientist',\n",
              " 'Егор Савичев': 'разработчик',\n",
              " 'Ксения Колесниченко': 'data scientist',\n",
              " 'Мария Никитина': 'менеджер',\n",
              " 'Роман Родимов': 'HR менеджер',\n",
              " 'Руслан Башаров': 'верстальщик'}"
            ]
          },
          "metadata": {},
          "execution_count": 99
        }
      ]
    },
    {
      "cell_type": "markdown",
      "metadata": {
        "id": "JxX0xm5m3ySd"
      },
      "source": [
        "Задача:\n",
        "\n",
        "Добавьте в наш словарь `user_dict` логин и пароль от личного кабинета, а также обновите имя и фамилию с помощью метода update "
      ]
    },
    {
      "cell_type": "code",
      "metadata": {
        "id": "niii38bM6sRR",
        "colab": {
          "base_uri": "https://localhost:8080/"
        },
        "outputId": "22061c9d-5eed-4675-9ec4-af43cc995d7d"
      },
      "source": [
        "user_dict = {\n",
        "    'id': 532, \n",
        "    'name': 'Ксения',\n",
        "    'surname': 'Собчак',\n",
        "    'age': 39,\n",
        "    'gender': 'female',\n",
        "    'mail': 'sobchak@yandex.ru',\n",
        "    'count_orders': 1402\n",
        "}\n",
        "\n",
        "new_name = 'Виктория'\n",
        "new_surname = 'Боня'\n",
        "login = '5GisEVIL'\n",
        "password = 'BillGatesEVIL'\n",
        "user_dict.update({'login': login, 'password': password, 'name': new_name, 'surname': new_surname})\n",
        "user_dict"
      ],
      "execution_count": null,
      "outputs": [
        {
          "output_type": "execute_result",
          "data": {
            "text/plain": [
              "{'age': 39,\n",
              " 'count_orders': 1402,\n",
              " 'gender': 'female',\n",
              " 'id': 532,\n",
              " 'login': '5GisEVIL',\n",
              " 'mail': 'sobchak@yandex.ru',\n",
              " 'name': 'Виктория',\n",
              " 'password': 'BillGatesEVIL',\n",
              " 'surname': 'Боня'}"
            ]
          },
          "metadata": {},
          "execution_count": 100
        }
      ]
    },
    {
      "cell_type": "markdown",
      "metadata": {
        "id": "fu5fjjlx7WSt"
      },
      "source": [
        "Удаление по ключу из словаря осуществляется с помощью метода `pop()`"
      ]
    },
    {
      "cell_type": "code",
      "metadata": {
        "colab": {
          "base_uri": "https://localhost:8080/",
          "height": 35
        },
        "id": "Uh8-FAlPm_EH",
        "outputId": "d035aa0c-b25a-4b5a-d68e-e25b99552f8f"
      },
      "source": [
        "deleted = employee_base.pop('Егор Савичев')\n",
        "deleted"
      ],
      "execution_count": null,
      "outputs": [
        {
          "output_type": "execute_result",
          "data": {
            "application/vnd.google.colaboratory.intrinsic+json": {
              "type": "string"
            },
            "text/plain": [
              "'разработчик'"
            ]
          },
          "metadata": {},
          "execution_count": 101
        }
      ]
    },
    {
      "cell_type": "code",
      "source": [
        "{0, 12, 4, 21, 12}"
      ],
      "metadata": {
        "colab": {
          "base_uri": "https://localhost:8080/"
        },
        "id": "4o8bNrcSHgMS",
        "outputId": "9ec327ac-3a70-4b92-a5e7-a1d292b150d4"
      },
      "execution_count": null,
      "outputs": [
        {
          "output_type": "execute_result",
          "data": {
            "text/plain": [
              "{0, 4, 12, 21}"
            ]
          },
          "metadata": {},
          "execution_count": 103
        }
      ]
    },
    {
      "cell_type": "markdown",
      "metadata": {
        "id": "q3noJPlixzWG"
      },
      "source": [
        "**Вопрос**: как вы думаете, имеет ли словарь метод sort()? "
      ]
    },
    {
      "cell_type": "markdown",
      "source": [
        ""
      ],
      "metadata": {
        "id": "O2Hk7bL0tf-C"
      }
    },
    {
      "cell_type": "markdown",
      "metadata": {
        "id": "_u11hK86Mbfm"
      },
      "source": [
        "Помимо перечисленных методов словари так же обладают большим количеством других возможностей. Их основной список можно найти по ссылочке: https://pythonworld.ru/tipy-dannyx-v-python/slovari-dict-funkcii-i-metody-slovarej.html"
      ]
    },
    {
      "cell_type": "markdown",
      "metadata": {
        "id": "a6lyRtrA9J4L"
      },
      "source": [
        "### 4.5 Вложенные словари"
      ]
    },
    {
      "cell_type": "markdown",
      "metadata": {
        "id": "B-s_uvIhm_EI"
      },
      "source": [
        "Как вы уже поняли, сложные вещи в этом мире тяжело описать простыми структурами, поэтому ровно так же как существуют вложенные списки, существуют и вложенные словари.\n",
        "\n",
        "Рассмотрим такую структуру на примере конфигурации сервера"
      ]
    },
    {
      "cell_type": "code",
      "metadata": {
        "id": "pVZJFVYQ9J4N"
      },
      "source": [
        "# Часто встречается при работе с конфигурационными файлами, JSON схемами и не только\n",
        "config = {\n",
        "    \"server\": {\n",
        "        \"host\": \"127.0.0.1\",\n",
        "        \"port\": \"22\"\n",
        "    },\n",
        "    \"configuration\": {\n",
        "        \"ssh\": {\n",
        "            \"access\": True,\n",
        "            \"login\": \"some\",\n",
        "            \"password\": \"some\"\n",
        "        },\n",
        "        \"name\": \"2491Oaaf1414\"\n",
        "    }\n",
        "}"
      ],
      "execution_count": null,
      "outputs": []
    },
    {
      "cell_type": "code",
      "metadata": {
        "colab": {
          "base_uri": "https://localhost:8080/",
          "height": 35
        },
        "id": "8CNbTJeu5nBP",
        "outputId": "f6a57efd-dd38-499b-92f5-48774ab5496a"
      },
      "source": [
        "config['server']['host']"
      ],
      "execution_count": null,
      "outputs": [
        {
          "output_type": "execute_result",
          "data": {
            "application/vnd.google.colaboratory.intrinsic+json": {
              "type": "string"
            },
            "text/plain": [
              "'127.0.0.1'"
            ]
          },
          "metadata": {},
          "execution_count": 107
        }
      ]
    },
    {
      "cell_type": "code",
      "metadata": {
        "colab": {
          "base_uri": "https://localhost:8080/",
          "height": 35
        },
        "id": "ES7hBC0yUbgc",
        "outputId": "e31875d0-ca9e-4e82-e723-d36d7bccf7c8"
      },
      "source": [
        "config['configuration']['ssh']['password']"
      ],
      "execution_count": null,
      "outputs": [
        {
          "output_type": "execute_result",
          "data": {
            "application/vnd.google.colaboratory.intrinsic+json": {
              "type": "string"
            },
            "text/plain": [
              "'some'"
            ]
          },
          "metadata": {},
          "execution_count": 110
        }
      ]
    },
    {
      "cell_type": "markdown",
      "metadata": {
        "id": "TrHhcAyINeV-"
      },
      "source": [
        "Задача: напишите код для получения логина от ssh соединения"
      ]
    },
    {
      "cell_type": "markdown",
      "metadata": {
        "id": "PmLJw37_m_EJ"
      },
      "source": [
        "А теперь совместим две изученные нами структуры"
      ]
    },
    {
      "cell_type": "markdown",
      "metadata": {
        "id": "khxMKXlX9J4k"
      },
      "source": [
        "### 4.6 Практический кейс на словари \n",
        "\n"
      ]
    },
    {
      "cell_type": "markdown",
      "metadata": {
        "id": "b7IWLi3RNpn0"
      },
      "source": [
        "Пусть у нас есть некоторая информация о пабликах в сети ВКонтакте. Необходимо организовать код для получения ссылок на аватарки данных пабликов. Все ссылки необходимо оформить во вложенный список"
      ]
    },
    {
      "cell_type": "code",
      "metadata": {
        "id": "RJs1qB4S9J4l"
      },
      "source": [
        "response = {'response': [{'id': 42565717,\n",
        "   'name': 'Python',\n",
        "   'screen_name': 'club42565717',\n",
        "   'is_closed': 0,\n",
        "   'type': 'group',\n",
        "   'members_count': 37319,\n",
        "   'activity': 'Открытая группа',\n",
        "   'photo_50': 'https://sun9-127.userapi.com/c845524/v845524906/1a71c2/A2r_4JtmiLQ.jpg?ava=1',\n",
        "   'photo_100': 'https://sun9-58.userapi.com/c845524/v845524906/1a71c1/2fBtsS0k8XY.jpg?ava=1',\n",
        "   'photo_200': 'https://sun9-50.userapi.com/c845524/v845524906/1a71c0/Kfo-eQIn0DU.jpg?ava=1'},\n",
        "                         \n",
        "  {'id': 3183750,\n",
        "   'name': 'Веб программист - PHP, JS, Python, Java, HTML 5',\n",
        "   'screen_name': 'php2all',\n",
        "   'is_closed': 0,\n",
        "   'type': 'page',\n",
        "   'members_count': 117833,\n",
        "   'activity': 'Программирование',\n",
        "   'photo_50': 'https://sun9-54.userapi.com/c626421/v626421613/941/HSj4ylRsk8k.jpg?ava=1',\n",
        "   'photo_100': 'https://sun9-5.userapi.com/c626421/v626421613/940/yKaZLxGShkY.jpg?ava=1',\n",
        "   'photo_200': 'https://sun9-49.userapi.com/c626421/v626421613/93f/2EygT_FJKWg.jpg?ava=1'}]}"
      ],
      "execution_count": null,
      "outputs": []
    },
    {
      "cell_type": "code",
      "source": [
        "response['response'][0]['photo_100']"
      ],
      "metadata": {
        "colab": {
          "base_uri": "https://localhost:8080/",
          "height": 35
        },
        "id": "pYrnI5JDJA1x",
        "outputId": "69b701f3-4294-4442-92d3-6d292ddc69e7"
      },
      "execution_count": null,
      "outputs": [
        {
          "output_type": "execute_result",
          "data": {
            "application/vnd.google.colaboratory.intrinsic+json": {
              "type": "string"
            },
            "text/plain": [
              "'https://sun9-58.userapi.com/c845524/v845524906/1a71c1/2fBtsS0k8XY.jpg?ava=1'"
            ]
          },
          "metadata": {},
          "execution_count": 114
        }
      ]
    },
    {
      "cell_type": "code",
      "metadata": {
        "id": "UxFTCVQ6xYrF"
      },
      "source": [
        "[[photo_50, photo_100, photo_200], [photo_50, photo_100, photo_200]]"
      ],
      "execution_count": null,
      "outputs": []
    },
    {
      "cell_type": "markdown",
      "metadata": {
        "id": "dKYHVLLnEbVR"
      },
      "source": [
        "## 5. Спасибо за внимание! Буду рад ответиить на ваши вопросы\n",
        "\n",
        "Форма ОС:\n",
        "https://forms.gle/TAeFKkTMpJCT5zc88  \n",
        "\n"
      ]
    }
  ]
}