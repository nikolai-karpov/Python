{
  "nbformat": 4,
  "nbformat_minor": 0,
  "metadata": {
    "colab": {
      "name": "Получение данных из веб источников.ipynb",
      "provenance": [],
      "collapsed_sections": [
        "q-hVNKYLwmT2"
      ]
    },
    "kernelspec": {
      "display_name": "Python 3 (ipykernel)",
      "language": "python",
      "name": "python3"
    },
    "language_info": {
      "codemirror_mode": {
        "name": "ipython",
        "version": 3
      },
      "file_extension": ".py",
      "mimetype": "text/x-python",
      "name": "python",
      "nbconvert_exporter": "python",
      "pygments_lexer": "ipython3",
      "version": "3.8.8"
    }
  },
  "cells": [
    {
      "cell_type": "markdown",
      "metadata": {
        "id": "GeZHQyA-wmTf"
      },
      "source": [
        "# <center> Парсинг сайтов и основы HTML\n"
      ]
    },
    {
      "cell_type": "markdown",
      "metadata": {
        "id": "xvvXuxHxwnxU"
      },
      "source": [
        "Спикер: Рысистов Андрей\n",
        "\n",
        "Контакты:\n",
        "* Телеграм @Rysistov\n",
        "* Slack @Андрей Рысистов (эксперт)\n",
        "* Почта mr.rysistov@skillfactory.ru\n",
        "\n",
        "\n",
        "\n",
        "[Сообщество по Python](https://yandex.ru/q/loves/pythontalk/) на Кью  \n",
        "[Сообщество по Data Science и анализу данных](https://yandex.ru/q/loves/datatalk/) на Кью "
      ]
    },
    {
      "cell_type": "markdown",
      "metadata": {
        "id": "hZ1OtBQRwmTh"
      },
      "source": [
        "### План занятия\n",
        "0. Что за зверь web scraping?\n",
        "1. Обсудим основы клиент-серверного взаимодействия\n",
        "2. Поговорим о протоколе HTTP и типах его запросов\n",
        "3. Прикоснемся к HTML\n",
        "4. Библиотека requests и простейшие запросы\n",
        "5. Библиотека Beautiful Soup\n",
        "6. Практический пример: напарсим свой датасет"
      ]
    },
    {
      "cell_type": "markdown",
      "metadata": {
        "id": "IxanvYywwmTj"
      },
      "source": [
        "### <center> Web scaping\n",
        "\n",
        "Web scraping — это процесс извлечения информации из Интернета.\n",
        "\n",
        "Когда мы говорим “web scraping” , подразумевается именно автоматизация этого процесса.\n",
        "\n",
        "Зачем нужен web scraping?\n",
        "\n",
        "- можно собирать цены на товары конкурентов для оптимизации своей стратегии ценообразования;\n",
        "- следить за трендами обсуждений в соцмедиа;\n",
        "- собирать отзывы на свои товары/услуги на различных площадках для анализа;\n",
        "- собирать контактные данные пользователей из соцсетей или форумов для дальнейшего взаимодействия с ними;\n",
        "- и еще много всего."
      ]
    },
    {
      "cell_type": "markdown",
      "metadata": {
        "id": "lHrOKmAdwmTk"
      },
      "source": [
        "### <center> Основы клиент-серверного взаимодействия\n",
        "\n",
        "Клиенты и серверы взаимодействуют, обмениваясь одиночными сообщениями \n",
        "(а не потоком данных). \n",
        "\n",
        "Сообщения, отправленные клиентом (например, веб-браузером), называются запросами, а сообщения, отправленные сервером – ответами.\n",
        "\n",
        "Фактически клиент и сервер — это программное обеспечение. \n",
        "\n",
        "Обычно эти программы расположены на разных вычислительных машинах и взаимодействуют между собой через вычислительную сеть посредством сетевых протоколов, но они могут быть расположены также и на одной машине. \n",
        "\n",
        "#### <center> ![Foo](https://raw.githubusercontent.com/alnagaev/reni_land/master/http1-request-response.png)"
      ]
    },
    {
      "cell_type": "markdown",
      "metadata": {
        "id": "8lZV39fIwmTk"
      },
      "source": [
        "### <center> HTTP\n",
        "\n",
        "HTTP — это протокол клиент-серверного взаимодействия, позволяющий получать различные ресурсы, например HTML-документы. Протокол HTTP лежит в основе обмена данными в интернете. \n",
        "    \n",
        "Сердцевиной веб-общения является запрос, который отправляется через Единый указатель ресурсов (URL).\n",
        "\n",
        "Структура URL очень проста и состоит из следующих компонентов\n",
        "\n",
        "![f](https://sitechecker.pro/wp-content/uploads/2017/12/url-structure.jpg)\n",
        "\n",
        "`https://` это протокол. Он отображает, какой протокол браузер должен использовать. Обычно это HTTP-протокол или его безопасная версия - HTTPS. \n",
        "\n",
        "`sitechecker.pro/` это доменное имя. Оно означает, какой веб-сервер должен быть запрошен. В качестве альтернативы может быть использован и IP-адрес, но это делается редко, поскольку запоминать IP сложнее, и это не популярно в интернете.\n",
        "Подробнее про IP и домены https://ru.wikipedia.org/wiki/DNS\n",
        "\n",
        "\n",
        "`/path/to/myfile.html` это адрес ресурса на веб-сервере. В прошлом, адрес отображал местоположение реального файла в реальной директории на веб-сервере. В наши дни это чаще всего абстракция, позволяющая обрабатывать адреса и отображать тот или иной контент из баз данных.\n",
        "\n",
        "`?name=article&topic=seo` это дополнительные параметры, которые браузер сообщает веб-серверу. Эти параметры - список пар ключ/значение, которые разделены символом &. Веб-сервер может использовать эти параметры для исполнения дополнительных команд перед тем как отдать ресурс. \n",
        "\n",
        "`#top` это якорь на другую часть того же самого ресурса. Якорь представляет собой вид \"закладки\" внутри ресурса, которая переадресовывает браузер на \"заложенную\" часть ресурса. В HTML-документе, например, браузер может переместиться в точку, где установлен якорь\n",
        "http://tehnopost.info/html/10-yakor-ankor-na-veb-stranice.html#ssilka_na_drugom_domene\n",
        "    \n",
        "### Методы запросов\n",
        "\n",
        "HTTP методы\n",
        "\n",
        "Для того, чтобы указать серверу на то, какое действие мы хотим произвести с ресурсом, используется тип HTTP-запроса, который также называется HTTP метод. Существует несколько HTTP методов, которые описывают действия с ресурсами. Наиболее часто используемыми являются GET и POST. \n",
        "\n",
        "Подробнее про методы HTTP можно почитать [здесь](https://developer.mozilla.org/ru/docs/Web/HTTP/Methods).\n",
        "\n",
        "### GET — получение ресурса\n",
        "\n",
        "Метод GET запрашивает информацию из указанного источника и не влияет на его содержимое. Запрос доступен для кеширования данных и добавления в закладки. Длина запроса ограничена (макс. длина URL - 2048).\n",
        "\n",
        "Примечание: Строка запроса (имя/значение) отправляется в URL \n",
        "\n",
        "``/login-check.php?argument1=value1&argument2=value2``\n",
        "\n",
        "### POST — создание ресурса\n",
        "\n",
        "Метод POST используется для отправки данных, что может оказывать влияние на содержимое ресурса. В отличие от метода GET запросы POST не могут быть кешированы, они не остаются в истории браузера и их нельзя добавить в закладки. Запросы POST не ограничиваются в объеме.\n",
        "\n",
        "Примечание: Отправляемые данные содержатся в теле запроса. "
      ]
    },
    {
      "cell_type": "markdown",
      "metadata": {
        "id": "opzJqTKbwmTn"
      },
      "source": [
        "### <center> HTML"
      ]
    },
    {
      "cell_type": "markdown",
      "metadata": {
        "id": "f5_nSpgdwmTn"
      },
      "source": [
        "Вот мы получили HTML от сервера. А что это? Это файл, устроенный по определенному принципу.\n",
        "\n",
        "HTML (от англ. HyperText Markup Language — «язык гипертекстовой разметки») —  стандартизированный язык разметки документов в интернете. Большинство веб-страниц содержат описание разметки на языке HTML. Язык HTML интерпретируется браузерами; полученный в результате интерпретации текст отображается на экране монитора компьютера или мобильного устройства.\n",
        "\n",
        "**Тэги**\n",
        "\n",
        "Вся информация о форматировании документа сосредоточена в его фрагментах - тегах - заключенных между знаками «<» и «>».\n",
        "\n",
        "Большинство HTML-тегов — парные, например: `<p> </p>`\n",
        "\n",
        "Между начальным и закрывающим тегами находится содержимое тега — контент.\n",
        "\n",
        "Можно вкладывать элементы внутрь других элементов — это называется вложенностью.\n",
        "`<p><i>Текст</i></p>`\n",
        "\n",
        "При вложении следует соблюдать порядок их закрытия (принцип «матрёшки»), например, следующая запись будет неверной (но все равно рабочей):\n",
        "\n",
        "`<p><i>Текст</p></i>`\n",
        "\n",
        "**Атрибуты тэгов**\n",
        "\n",
        "Атрибуты содержат дополнительную информацию о том, как браузер должен обработать текущий тег.\n",
        "\n",
        "Например, атрибут class позволяет дать элементу идентификационное имя, которое в дальнейшем может быть использовано для обращения к элементу с информацией о стиле и прочими вещами.\n",
        "\n",
        "Каждому элементу можно присвоить несколько значений class и только одно значение id. \n",
        "\n",
        "Множественные значения class записываются через пробел `<div class=\"nav_top\">`\n",
        "\n",
        "Элементы, находящиеся внутри тега `<html>`, \n",
        "образуют дерево документа, так называемую объектную модель документа,\n",
        "DOM (document object model). При этом элемент `<html>` является корневым элементом.\n",
        "\n",
        "\n",
        "#### <center> ![](https://html5book.ru/wp-content/uploads/2014/10/DOM.png)\n",
        "\n",
        "Чтобы разобраться во взаимодействии элементов веб-страницы, необходимо рассмотреть так называемые «родственные отношения» между элементами. Отношения между множественными вложенными элементами подразделяются на родительские, дочерние и сестринские.\n",
        "\n",
        "**Предок** — элемент, который заключает в себе другие элементы. На рисунке 1 предком для всех элементов является `<html>`. В то же время элемент `<body>` является предком для всех содержащихся в нем тегов: `<h1>`, `<p>`, `<span>`, `<nav>` и т.д.\n",
        "\n",
        "**Потомок** — элемент, расположенный внутри одного или более типов элементов. Например, `<body>` является потомком `<html>`, а элемент `<p>` является потомком одновременно для `<body>` и `<html>`"
      ]
    },
    {
      "cell_type": "markdown",
      "metadata": {
        "id": "Dl2itEzAwmTq"
      },
      "source": [
        "### <center> Библиотека requests\n",
        "\n",
        "Requests — это библиотека, которую вы можете использовать для отправки всех видов HTTP-запросов. У нее много функций, начиная от передачи параметров в URL-адресах до отправки пользовательских заголовков и проверки SSL.\n",
        "\n",
        "Документация: https://requests.readthedocs.io/en/master/user/quickstart/"
      ]
    },
    {
      "cell_type": "code",
      "metadata": {
        "id": "ydKBmwp3wmTq"
      },
      "source": [
        "import requests\n",
        "import pprint"
      ],
      "execution_count": null,
      "outputs": []
    },
    {
      "cell_type": "code",
      "metadata": {
        "colab": {
          "base_uri": "https://localhost:8080/"
        },
        "id": "g78jhkTxwmTr",
        "outputId": "751f81c5-c6e4-4297-fad9-d02ebf6e3779"
      },
      "source": [
        "# метод get\n",
        "res = requests.get('https://blog.skillfactory.ru/')\n",
        "# res\n",
        "print(res.status_code)"
      ],
      "execution_count": null,
      "outputs": [
        {
          "output_type": "stream",
          "name": "stdout",
          "text": [
            "200\n"
          ]
        }
      ]
    },
    {
      "cell_type": "code",
      "metadata": {
        "colab": {
          "base_uri": "https://localhost:8080/"
        },
        "id": "2CjyLBo8wmTr",
        "outputId": "299924f7-d048-4036-829c-f120ac294c8b"
      },
      "source": [
        "# браузер отрисовал бы страницу на основе данного текста\n",
        "pprint.pprint(res.text[:1000])"
      ],
      "execution_count": null,
      "outputs": [
        {
          "output_type": "stream",
          "name": "stdout",
          "text": [
            "('<!doctype html><html lang=\"ru-RU\"><head><meta charset=\"UTF-8\"><meta '\n",
            " 'name=\"viewport\" content=\"width=device-width, initial-scale=1\"><link '\n",
            " 'rel=\"stylesheet\" media=\"print\" onload=\"this.onload=null;this.media=\\'all\\';\" '\n",
            " 'id=\"ao_optimized_gfonts\" '\n",
            " 'href=\"https://fonts.googleapis.com/css?family=Rubik%3A400%2C400i%2C500%2C700%7CCommissioner%3A300%2C500%2C600%2C700%2C800%7CMontserrat%3A400%2C400i%2C700&amp;display=swap\" '\n",
            " '/><link href=\"https://api.mindbox.ru\" rel=\"preconnect\" /><link '\n",
            " 'href=\"https://web.popmechanic.ru\" rel=\"preconnect\" /><link '\n",
            " 'href=\"https://static.popmechanic.ru\" rel=\"preconnect\" /><link '\n",
            " 'href=\"https://connect.facebook.net\" rel=\"preconnect\" /><link '\n",
            " 'href=\"https://fonts.googleapis.com\" rel=\"preconnect\" /><meta name=\\'robots\\' '\n",
            " \"content='index, follow, max-image-preview:large, max-snippet:-1, \"\n",
            " 'max-video-preview:-1\\' /><link media=\"all\" '\n",
            " 'href=\"https://blog.skillfactory.ru/wp-content/cache/autoptimize/css/autoptimize_8daf5625ccb451a41e2b62d6a146b19f.css\" '\n",
            " 'rel=\"stylesheet\" /><title>Блог SkillFactory &nd')\n"
          ]
        }
      ]
    },
    {
      "cell_type": "code",
      "metadata": {
        "colab": {
          "base_uri": "https://localhost:8080/"
        },
        "id": "vcEaU8tDwmTs",
        "outputId": "0b0eeb1c-4d20-4cc5-cc10-29dbab5c4983"
      },
      "source": [
        "# получаем плохой статус\n",
        "bad_request = requests.get('https://blog.skillfactory.ru/secret')\n",
        "print(bad_request.status_code)\n",
        "pprint.pprint(res.text[:1000])"
      ],
      "execution_count": null,
      "outputs": [
        {
          "output_type": "stream",
          "name": "stdout",
          "text": [
            "404\n",
            "('<!doctype html><html lang=\"ru-RU\"><head><meta charset=\"UTF-8\"><meta '\n",
            " 'name=\"viewport\" content=\"width=device-width, initial-scale=1\"><link '\n",
            " 'rel=\"stylesheet\" media=\"print\" onload=\"this.onload=null;this.media=\\'all\\';\" '\n",
            " 'id=\"ao_optimized_gfonts\" '\n",
            " 'href=\"https://fonts.googleapis.com/css?family=Rubik%3A400%2C400i%2C500%2C700%7CCommissioner%3A300%2C500%2C600%2C700%2C800%7CMontserrat%3A400%2C400i%2C700&amp;display=swap\" '\n",
            " '/><link href=\"https://api.mindbox.ru\" rel=\"preconnect\" /><link '\n",
            " 'href=\"https://web.popmechanic.ru\" rel=\"preconnect\" /><link '\n",
            " 'href=\"https://static.popmechanic.ru\" rel=\"preconnect\" /><link '\n",
            " 'href=\"https://connect.facebook.net\" rel=\"preconnect\" /><link '\n",
            " 'href=\"https://fonts.googleapis.com\" rel=\"preconnect\" /><meta name=\\'robots\\' '\n",
            " \"content='index, follow, max-image-preview:large, max-snippet:-1, \"\n",
            " 'max-video-preview:-1\\' /><link media=\"all\" '\n",
            " 'href=\"https://blog.skillfactory.ru/wp-content/cache/autoptimize/css/autoptimize_8daf5625ccb451a41e2b62d6a146b19f.css\" '\n",
            " 'rel=\"stylesheet\" /><title>Блог SkillFactory &nd')\n"
          ]
        }
      ]
    },
    {
      "cell_type": "code",
      "metadata": {
        "colab": {
          "base_uri": "https://localhost:8080/",
          "height": 193
        },
        "id": "sL2QZt4xwmTt",
        "outputId": "5971ae1e-4011-4faf-eedd-dfdd93a64a59"
      },
      "source": [
        "# cформируем поисковый запрос, обратите внимание на его формат\n",
        "URL = 'https://blog.skillfactory.ru/?s=python'\n",
        "res = requests.get(URL)\n",
        "print(res.status_code)\n",
        "res.text[:1000]"
      ],
      "execution_count": null,
      "outputs": [
        {
          "output_type": "stream",
          "name": "stdout",
          "text": [
            "200\n"
          ]
        },
        {
          "output_type": "execute_result",
          "data": {
            "application/vnd.google.colaboratory.intrinsic+json": {
              "type": "string"
            },
            "text/plain": [
              "'<!doctype html><html lang=\"ru-RU\"><head><meta charset=\"UTF-8\"><meta name=\"viewport\" content=\"width=device-width, initial-scale=1\"><link rel=\"stylesheet\" media=\"print\" onload=\"this.onload=null;this.media=\\'all\\';\" id=\"ao_optimized_gfonts\" href=\"https://fonts.googleapis.com/css?family=Rubik%3A400%2C400i%2C500%2C700%7CCommissioner%3A300%2C500%2C600%2C700%2C800%7CMontserrat%3A400%2C400i%2C700&amp;display=swap\" /><link href=\"https://api.mindbox.ru\" rel=\"preconnect\" /><link href=\"https://web.popmechanic.ru\" rel=\"preconnect\" /><link href=\"https://static.popmechanic.ru\" rel=\"preconnect\" /><link href=\"https://connect.facebook.net\" rel=\"preconnect\" /><link href=\"https://fonts.googleapis.com\" rel=\"preconnect\" /><meta name=\\'robots\\' content=\\'noindex, follow\\' /><link media=\"all\" href=\"https://blog.skillfactory.ru/wp-content/cache/autoptimize/css/autoptimize_8daf5625ccb451a41e2b62d6a146b19f.css\" rel=\"stylesheet\" /><title>Вы искали python &ndash; Блог SkillFactory</title><meta property=\"og:locale\" conte'"
            ]
          },
          "metadata": {},
          "execution_count": 6
        }
      ]
    },
    {
      "cell_type": "code",
      "metadata": {
        "id": "yI7M0EejwmTt",
        "colab": {
          "base_uri": "https://localhost:8080/",
          "height": 176
        },
        "outputId": "0e626c72-0188-4efd-cd4f-ae313bc4b288"
      },
      "source": [
        "# в request можно передать параметры запроса (для get), данные (для post) и заголовки (headers) в виде словарей. \n",
        "# сегодня не будем рассматривать примеры с необходимостью передачи заголовка, \n",
        "# но в практике вам это точно понадобится\n",
        "URL = 'https://blog.skillfactory.ru/'\n",
        "params = {\n",
        "    's': 'python'\n",
        "}\n",
        "headers = {\n",
        "    'user-agent': 'Mozilla/5.0 (Linux; Android 6.0; Nexus 5 Build/MRA58N) AppleWebKit/537.36 (KHTML, like Gecko) Chrome/88.0.4324.152 Mobile Safari/537.36'\n",
        "}\n",
        "\n",
        "req = requests.get(URL, params=params, headers=headers)\n",
        "\n",
        "req.text[:1000]"
      ],
      "execution_count": null,
      "outputs": [
        {
          "output_type": "execute_result",
          "data": {
            "application/vnd.google.colaboratory.intrinsic+json": {
              "type": "string"
            },
            "text/plain": [
              "'<!doctype html><html lang=\"ru-RU\"><head><meta charset=\"UTF-8\"><meta name=\"viewport\" content=\"width=device-width, initial-scale=1\"><link rel=\"stylesheet\" media=\"print\" onload=\"this.onload=null;this.media=\\'all\\';\" id=\"ao_optimized_gfonts\" href=\"https://fonts.googleapis.com/css?family=Rubik%3A400%2C400i%2C500%2C700%7CCommissioner%3A300%2C500%2C600%2C700%2C800%7CMontserrat%3A400%2C400i%2C700&amp;display=swap\" /><link href=\"https://api.mindbox.ru\" rel=\"preconnect\" /><link href=\"https://web.popmechanic.ru\" rel=\"preconnect\" /><link href=\"https://static.popmechanic.ru\" rel=\"preconnect\" /><link href=\"https://connect.facebook.net\" rel=\"preconnect\" /><link href=\"https://fonts.googleapis.com\" rel=\"preconnect\" /><meta name=\\'robots\\' content=\\'noindex, follow\\' /><link media=\"all\" href=\"https://blog.skillfactory.ru/wp-content/cache/autoptimize/css/autoptimize_8daf5625ccb451a41e2b62d6a146b19f.css\" rel=\"stylesheet\" /><title>Вы искали python &ndash; Блог SkillFactory</title><meta property=\"og:locale\" conte'"
            ]
          },
          "metadata": {},
          "execution_count": 7
        }
      ]
    },
    {
      "cell_type": "markdown",
      "metadata": {
        "id": "_hm8C63hwmTv"
      },
      "source": [
        "### <center> Beautiful Soup\n",
        "\n",
        "Beautiful Soup — это библиотека для извлечения данных из HTML и XML. С ее помощью можно извлечь из сложной структуры разметки нужную информацию. \n",
        "\n",
        "Документация: https://www.crummy.com/software/BeautifulSoup/bs4/doc/"
      ]
    },
    {
      "cell_type": "code",
      "metadata": {
        "id": "fGYwRYYywmTv"
      },
      "source": [
        "# как разбирать всю эту полученнную разметку, чтобы достать из нее нужные данные? Поможет BeautifulSoup.\n",
        "from bs4 import BeautifulSoup"
      ],
      "execution_count": null,
      "outputs": []
    },
    {
      "cell_type": "markdown",
      "metadata": {
        "id": "NW5LopgowmTv"
      },
      "source": [
        "### Практика 1. Напишем скрипт, который будет отбирать посты из нужных хабов на habr.com"
      ]
    },
    {
      "cell_type": "code",
      "metadata": {
        "id": "7AL7_eZgwmTv"
      },
      "source": [
        "# определяем список хабов, которые нам интересны\n",
        "DESIRED_HUBS = 'нейронные'#['нейронные', 'big data', 'звук', 'финансы в it']"
      ],
      "execution_count": null,
      "outputs": []
    },
    {
      "cell_type": "code",
      "metadata": {
        "id": "w2aZ_YScwmTw"
      },
      "source": [
        "# получаем страницу с самыми свежими постами\n",
        "req = requests.get('https://habr.com/ru/all/')\n",
        "\n",
        "# создаем soup-объект и указываем, что работаем с html\n",
        "soup = BeautifulSoup(req.text)"
      ],
      "execution_count": null,
      "outputs": []
    },
    {
      "cell_type": "code",
      "metadata": {
        "colab": {
          "base_uri": "https://localhost:8080/"
        },
        "id": "1D6Q-7uuwmTw",
        "outputId": "2b9a81d8-c5fd-48ca-fea7-c6e8ea29f2b9"
      },
      "source": [
        "# извлекаем посты. find_all находит все указанные тэги и возвращает их список (со всеми вложениями)\n",
        "\n",
        "# ищем блоки со статьями\n",
        "posts = soup.find_all('article', class_='tm-articles-list__item')\n",
        "pprint.pprint(posts[0])"
      ],
      "execution_count": null,
      "outputs": [
        {
          "output_type": "stream",
          "name": "stdout",
          "text": [
            "<article class=\"tm-articles-list__item\" data-navigatable=\"\" id=\"595001\" tabindex=\"0\"><div class=\"tm-article-snippet\"><div class=\"tm-article-snippet__meta-container\"><div class=\"tm-article-snippet__meta\"><span class=\"tm-user-info tm-article-snippet__author\"><a class=\"tm-user-info__userpic\" href=\"/ru/users/MasyGreen/\" title=\"MasyGreen\"><div class=\"tm-entity-image\"><img alt=\"\" class=\"tm-entity-image__pic\" height=\"24\" src=\"//habrastorage.org/r/w32/getpro/habr/avatars/3f3/829/667/3f38296670836500cb47bae16681d105.jpg\" width=\"24\"/></div></a> <span class=\"tm-user-info__user\"><a class=\"tm-user-info__username\" href=\"/ru/users/MasyGreen/\">\n",
            "      MasyGreen\n",
            "    </a> </span></span> <span class=\"tm-article-snippet__datetime-published\"><time datetime=\"2021-12-12T11:27:45.000Z\" title=\"2021-12-12, 14:27\">сегодня в 14:27</time></span></div> <!-- --></div> <h2 class=\"tm-article-snippet__title tm-article-snippet__title_h2\"><a class=\"tm-article-snippet__title-link\" data-article-link=\"\" href=\"/ru/post/595001/\"><span>Скрипт Windows PowerShell архивации RedMine Turnkey Hyper-V по ssh</span></a></h2> <!-- --> <!-- --> <!-- --> <!-- --></div> <div class=\"tm-data-icons\"><!-- --> <div class=\"tm-votes-meter tm-data-icons__item\"><svg class=\"tm-svg-img tm-votes-meter__icon tm-votes-meter__icon_appearance-article\" height=\"24\" width=\"24\"><title>Всего голосов 2: ↑2 и ↓0</title> <use xlink:href=\"/img/megazord-v24.4a410f80.svg#counter-rating\"></use></svg> <span class=\"tm-votes-meter__value tm-votes-meter__value_positive tm-votes-meter__value_appearance-article tm-votes-meter__value_rating\" title=\"Всего голосов 2: ↑2 и ↓0\">+2</span></div> <span class=\"tm-icon-counter tm-data-icons__item\" title=\"Количество просмотров\"><svg class=\"tm-svg-img tm-icon-counter__icon\" height=\"24\" width=\"24\"><title>Просмотры</title> <use xlink:href=\"/img/megazord-v24.4a410f80.svg#counter-views\"></use></svg> <span class=\"tm-icon-counter__value\">116</span></span> <button class=\"bookmarks-button tm-data-icons__item\" title=\"Добавить в закладки\" type=\"button\"><span class=\"tm-svg-icon__wrapper bookmarks-button__icon\" title=\"Добавить в закладки\"><svg class=\"tm-svg-img tm-svg-icon\" height=\"24\" width=\"24\"><title>Добавить в закладки</title> <use xlink:href=\"/img/megazord-v24.4a410f80.svg#counter-favorite\"></use></svg></span> <span class=\"bookmarks-button__counter\" title=\"Количество пользователей, добавивших публикацию в закладки\">\n",
            "    0\n",
            "  </span></button> <div class=\"tm-article-comments-counter-link tm-data-icons__item\" title=\"Читать комментарии\"><a class=\"tm-article-comments-counter-link__link\" href=\"/ru/post/595001/comments/\"><svg class=\"tm-svg-img tm-article-comments-counter-link__icon\" height=\"24\" width=\"24\"><title>Комментарии</title> <use xlink:href=\"/img/megazord-v24.4a410f80.svg#counter-comments\"></use></svg> <span class=\"tm-article-comments-counter-link__value\">\n",
            "      0\n",
            "    </span></a> <!-- --></div> <!-- --> <div class=\"v-portal\" style=\"display:none;\"></div></div></article>\n"
          ]
        }
      ]
    },
    {
      "cell_type": "code",
      "metadata": {
        "id": "LVx-eS4bwmTw",
        "colab": {
          "base_uri": "https://localhost:8080/"
        },
        "outputId": "c48e01dc-fbd6-410f-b239-d3d23c1a17f6"
      },
      "source": [
        "# добавляем извлечение хабов из постов, чтобы отбирать только нужные\n",
        "for post in posts:\n",
        "    hubs = post.find_all('a', class_='tm-article-snippet__title-link')  # ищем список всех хабов в каждой статье\n",
        "    for hub in hubs:\n",
        "        hub_lower = hub.text.lower().replace('*', '').strip()  # при помощи атрибута text обращаемся к содержимому тэга\n",
        "        #print(hub_lower)\n",
        "        # ищем вхождение хотя бы одного желаемого хаба\n",
        "        if DESIRED_HUBS in hub_lower:\n",
        "            # пост нам интересен - делаем с ним все что захотим:\n",
        "            # можно отправит в телеграм уведомление, можно на почту и т.п.\n",
        "            title_element = post.find('a', class_='tm-article-snippet__title-link')\n",
        "            print(title_element.text, title_element.get('href')) # при помощи get достаем содержимое атрибута href\n",
        "            # так как пост уже нам подошел - дальше нет смысла проверять другие его хабы\n",
        "            break"
      ],
      "execution_count": null,
      "outputs": [
        {
          "output_type": "stream",
          "name": "stdout",
          "text": [
            "нейронные сети в кибербезопасности — текстовая модель с низкой задержкой, сохраняющая конфиденциальность\n",
            "Нейронные сети в кибербезопасности — текстовая модель с низкой задержкой, сохраняющая конфиденциальность /ru/post/594951/\n"
          ]
        }
      ]
    },
    {
      "cell_type": "markdown",
      "metadata": {
        "id": "M7nsk5t3wmTx"
      },
      "source": [
        "### Практика 2. Напишем скрипт, который будет собирать новости с сайта Коммерсанта"
      ]
    },
    {
      "cell_type": "code",
      "metadata": {
        "id": "vmFDIORjwmTx"
      },
      "source": [
        "URL = 'https://www.kommersant.ru/search/results'\n",
        "params = {\n",
        "    'search_query': 'data science',\n",
        "    'sort_type': 1, \n",
        "    'search_full': 1,\n",
        "    'time_range': 1\n",
        "}"
      ],
      "execution_count": null,
      "outputs": []
    },
    {
      "cell_type": "code",
      "metadata": {
        "id": "_KWOLfqkwmTx",
        "colab": {
          "base_uri": "https://localhost:8080/"
        },
        "outputId": "ab897efc-177b-4b97-d68d-1d4460a2030e"
      },
      "source": [
        "res = requests.get(URL, params)\n",
        "res.status_code"
      ],
      "execution_count": null,
      "outputs": [
        {
          "output_type": "execute_result",
          "data": {
            "text/plain": [
              "200"
            ]
          },
          "metadata": {},
          "execution_count": 44
        }
      ]
    },
    {
      "cell_type": "code",
      "metadata": {
        "colab": {
          "base_uri": "https://localhost:8080/",
          "height": 176
        },
        "id": "_EcjjTQFwmTy",
        "outputId": "00ae176e-c23e-4697-9252-adc3045fb7c9"
      },
      "source": [
        "res.text[:1000]"
      ],
      "execution_count": null,
      "outputs": [
        {
          "output_type": "execute_result",
          "data": {
            "application/vnd.google.colaboratory.intrinsic+json": {
              "type": "string"
            },
            "text/plain": [
              "'\\r\\n<!DOCTYPE html>\\r\\n<html class=\"no-js\" lang=\"ru\">\\r\\n<head>\\r\\n    <title>Коммерсантъ: последние новости России и мира</title>\\r\\n    <meta http-equiv=\"X-UA-Compatible\" content=\"IE=edge, chrome=1\" />\\r\\n    <meta charset=\"utf-8\" />\\r\\n\\r\\n    <meta name=\"format-detection\" content=\"telephone=no\" />\\r\\n    <meta name=\"title\" content=\"Коммерсантъ: последние новости России и мира\" />\\r\\n    <meta name=\"description\" content=\"Актуальные новости, объективный анализ и эксклюзивные комментарии о важнейших событиях и трендах\" />\\r\\n    <meta name=\"keywords\" content=\"Новости,Политика,Экономика,Бизнес,Финансы,Дело,Биржа,Рынок,Акции,Прогнозы,Критика,Интервью,Рейтинги,Документы,Деньги,Власть,Автопилот,Тематические страницы,Первые лица,Деловые новости,Мировая практика,Культура,Спорт,Weekend,Астрологический прогноз,Погода мира,Курсы валют ЦБ РФ\" />\\r\\n\\r\\n    <meta name=\"yandex-verification\" content=\"50df68945a519dbd\" />\\r\\n\\r\\n    \\r\\n    <meta name=\"viewport\" content=\"width=device-width, initial-scale=1.0\">\\r\\n\\r\\n\\r\\n        <meta '"
            ]
          },
          "metadata": {},
          "execution_count": 45
        }
      ]
    },
    {
      "cell_type": "code",
      "metadata": {
        "id": "sUyiuSAXwmTy"
      },
      "source": [
        "soup = BeautifulSoup(res.text)\n",
        "#soup"
      ],
      "execution_count": null,
      "outputs": []
    },
    {
      "cell_type": "code",
      "metadata": {
        "colab": {
          "base_uri": "https://localhost:8080/"
        },
        "id": "EO8e3xHswmTy",
        "outputId": "05b6b700-6079-488c-c45e-e496bf647fed"
      },
      "source": [
        "# добираемся до блоков с новостями\n",
        "news_blocks = soup.find_all('div', class_='uho__text')\n",
        "len(news_blocks)"
      ],
      "execution_count": null,
      "outputs": [
        {
          "output_type": "execute_result",
          "data": {
            "text/plain": [
              "10"
            ]
          },
          "metadata": {},
          "execution_count": 49
        }
      ]
    },
    {
      "cell_type": "code",
      "metadata": {
        "id": "PzHKMHOV-fJB"
      },
      "source": [
        "#news_blocks"
      ],
      "execution_count": null,
      "outputs": []
    },
    {
      "cell_type": "code",
      "metadata": {
        "colab": {
          "base_uri": "https://localhost:8080/"
        },
        "id": "NVvxp8kfwmTy",
        "outputId": "1c8696dd-6eca-4012-ec9d-630968397216"
      },
      "source": [
        "# добираемся до текста со ссылкой\n",
        "articles_intro = list(map(lambda x: x.find('a', class_='uho__link uho__link--overlay'), news_blocks))\n",
        "articles_intro"
      ],
      "execution_count": null,
      "outputs": [
        {
          "output_type": "execute_result",
          "data": {
            "text/plain": [
              "[<a class=\"uho__link uho__link--overlay\" href=\"/doc/5100393?query=data%20science\" target=\"_blank\">У вас есть все данные</a>,\n",
              " <a class=\"uho__link uho__link--overlay\" href=\"/doc/5041434?query=data%20science\" target=\"_blank\">«Ростелеком» предлагает малому и среднему бизнесу персонифицированные решения на основе <mark>Data</mark> <mark>Science</mark></a>,\n",
              " <a class=\"uho__link uho__link--overlay\" href=\"/doc/5041567?query=data%20science\" target=\"_blank\">«Ростелеком» предлагает малому и среднему бизнесу персонифицированные решения на основе <mark>Data</mark> <mark>Science</mark></a>,\n",
              " <a class=\"uho__link uho__link--overlay\" href=\"/doc/5100397?query=data%20science\" target=\"_blank\">«Дефицит высококлассных айтишников огромный»</a>,\n",
              " <a class=\"uho__link uho__link--overlay\" href=\"/doc/4283670?query=data%20science\" target=\"_blank\">WU Executive Academy</a>,\n",
              " <a class=\"uho__link uho__link--overlay\" href=\"/doc/3712659?query=data%20science\" target=\"_blank\">«М.Видео-Эльдорадо» изучит контакты</a>,\n",
              " <a class=\"uho__link uho__link--overlay\" href=\"/doc/4997267?query=data%20science\" target=\"_blank\">«При изменении кредитной политики в кризис очень важна точность оценки»</a>,\n",
              " <a class=\"uho__link uho__link--overlay\" href=\"/doc/4372673?query=data%20science\" target=\"_blank\">Mail.ru Group потянуло к знаниям</a>,\n",
              " <a class=\"uho__link uho__link--overlay\" href=\"/doc/5100395?query=data%20science\" target=\"_blank\">Обычный рекрутинг тут не работает</a>,\n",
              " <a class=\"uho__link uho__link--overlay\" href=\"/doc/3779060?query=data%20science\" target=\"_blank\">«Мне никогда не нравились поединки с травмированными соперниками»</a>]"
            ]
          },
          "metadata": {},
          "execution_count": 52
        }
      ]
    },
    {
      "cell_type": "code",
      "metadata": {
        "colab": {
          "base_uri": "https://localhost:8080/"
        },
        "id": "VlgxEmH9wmTz",
        "outputId": "2dcf0fb8-20c2-49f4-ac58-3a993beb0174"
      },
      "source": [
        "# добираемся до ссылок\n",
        "a_list = list(map(lambda x: x.get('href'), articles_intro))\n",
        "a_list"
      ],
      "execution_count": null,
      "outputs": [
        {
          "output_type": "execute_result",
          "data": {
            "text/plain": [
              "['/doc/5100393?query=data%20science',\n",
              " '/doc/5041434?query=data%20science',\n",
              " '/doc/5041567?query=data%20science',\n",
              " '/doc/5100397?query=data%20science',\n",
              " '/doc/4283670?query=data%20science',\n",
              " '/doc/3712659?query=data%20science',\n",
              " '/doc/4997267?query=data%20science',\n",
              " '/doc/4372673?query=data%20science',\n",
              " '/doc/5100395?query=data%20science',\n",
              " '/doc/3779060?query=data%20science']"
            ]
          },
          "metadata": {},
          "execution_count": 53
        }
      ]
    },
    {
      "cell_type": "code",
      "metadata": {
        "colab": {
          "base_uri": "https://localhost:8080/"
        },
        "id": "GryyXAfywmTz",
        "outputId": "d6c3e459-e770-49d4-b5b8-d3fcfb82a765"
      },
      "source": [
        "# формируем полноценные ссылки\n",
        "all_refs = list(map(lambda x: 'https://www.kommersant.ru/' + x, a_list))\n",
        "all_refs"
      ],
      "execution_count": null,
      "outputs": [
        {
          "output_type": "execute_result",
          "data": {
            "text/plain": [
              "['https://www.kommersant.ru//doc/5100393?query=data%20science',\n",
              " 'https://www.kommersant.ru//doc/5041434?query=data%20science',\n",
              " 'https://www.kommersant.ru//doc/5041567?query=data%20science',\n",
              " 'https://www.kommersant.ru//doc/5100397?query=data%20science',\n",
              " 'https://www.kommersant.ru//doc/4283670?query=data%20science',\n",
              " 'https://www.kommersant.ru//doc/3712659?query=data%20science',\n",
              " 'https://www.kommersant.ru//doc/4997267?query=data%20science',\n",
              " 'https://www.kommersant.ru//doc/4372673?query=data%20science',\n",
              " 'https://www.kommersant.ru//doc/5100395?query=data%20science',\n",
              " 'https://www.kommersant.ru//doc/3779060?query=data%20science']"
            ]
          },
          "metadata": {},
          "execution_count": 54
        }
      ]
    },
    {
      "cell_type": "code",
      "metadata": {
        "colab": {
          "base_uri": "https://localhost:8080/"
        },
        "id": "0J-l0NpgwmTz",
        "outputId": "03bb984b-d551-48f1-f643-1d83071865b1"
      },
      "source": [
        "# объединим все в одну функцию\n",
        "import time\n",
        "def get_links(url, params, query):\n",
        "    res = requests.get(URL, params)\n",
        "    time.sleep(0.3)\n",
        "    soup = BeautifulSoup(res.text)\n",
        "    news_blocks = soup.find_all('div', class_='uho__text')\n",
        "    articles_intro = list(map(lambda x: x.find('a', class_='uho__link uho__link--overlay'), news_blocks))\n",
        "    a_list = list(map(lambda x: x.get('href'), articles_intro))\n",
        "    all_refs = list(map(lambda x: 'https://www.kommersant.ru/' + x, a_list))\n",
        "\n",
        "    return all_refs\n",
        "\n",
        "URL = 'https://www.kommersant.ru/search/results'\n",
        "params = {\n",
        "    'search_query': 'data science',\n",
        "    'sort_type': 1, \n",
        "    'search_full': 1,\n",
        "    'time_range': 1\n",
        "}\n",
        "all_links = get_links(URL, params, 'data science')\n",
        "all_links"
      ],
      "execution_count": null,
      "outputs": [
        {
          "output_type": "execute_result",
          "data": {
            "text/plain": [
              "['https://www.kommersant.ru//doc/5100393?query=data%20science',\n",
              " 'https://www.kommersant.ru//doc/5041434?query=data%20science',\n",
              " 'https://www.kommersant.ru//doc/5041567?query=data%20science',\n",
              " 'https://www.kommersant.ru//doc/5100397?query=data%20science',\n",
              " 'https://www.kommersant.ru//doc/4283670?query=data%20science',\n",
              " 'https://www.kommersant.ru//doc/3712659?query=data%20science',\n",
              " 'https://www.kommersant.ru//doc/4997267?query=data%20science',\n",
              " 'https://www.kommersant.ru//doc/4372673?query=data%20science',\n",
              " 'https://www.kommersant.ru//doc/5100395?query=data%20science',\n",
              " 'https://www.kommersant.ru//doc/3779060?query=data%20science']"
            ]
          },
          "metadata": {},
          "execution_count": 55
        }
      ]
    },
    {
      "cell_type": "code",
      "metadata": {
        "colab": {
          "base_uri": "https://localhost:8080/"
        },
        "id": "hv-8hJSrwmT0",
        "outputId": "8097790e-670d-4317-cbde-2bb9fa024e2f"
      },
      "source": [
        "# но мы же собрали только одну страницу? Хотим ВСЕ новости\n",
        "def get_links_from_pages(url, query, pages):\n",
        "    all_refs = []\n",
        "    for i in range(1, pages+1):\n",
        "        params['page'] = i\n",
        "        res = requests.get(URL, params)\n",
        "        time.sleep(0.3)\n",
        "        soup = BeautifulSoup(res.text)\n",
        "        news_blocks = soup.find_all('div', class_='uho__text')\n",
        "        articles_intro = list(map(lambda x: x.find('a', class_='uho__link uho__link--overlay'), news_blocks))\n",
        "        a_list = list(map(lambda x: x.get('href'), articles_intro))\n",
        "        all_refs += list(map(lambda x: 'https://www.kommersant.ru/' + x, a_list))\n",
        "    return all_refs\n",
        "\n",
        "URL = 'https://www.kommersant.ru/search/results'\n",
        "params = {\n",
        "    'search_query': 'data science',\n",
        "    'sort_type': 1, \n",
        "    'search_full': 1,\n",
        "    'time_range': 1\n",
        "}\n",
        "all_links = get_links_from_pages(URL, 'data science', 5)\n",
        "all_links[:12]"
      ],
      "execution_count": null,
      "outputs": [
        {
          "output_type": "execute_result",
          "data": {
            "text/plain": [
              "['https://www.kommersant.ru//doc/5100393?query=data%20science',\n",
              " 'https://www.kommersant.ru//doc/5041434?query=data%20science',\n",
              " 'https://www.kommersant.ru//doc/5041567?query=data%20science',\n",
              " 'https://www.kommersant.ru//doc/5100397?query=data%20science',\n",
              " 'https://www.kommersant.ru//doc/4283670?query=data%20science',\n",
              " 'https://www.kommersant.ru//doc/3712659?query=data%20science',\n",
              " 'https://www.kommersant.ru//doc/4997267?query=data%20science',\n",
              " 'https://www.kommersant.ru//doc/4372673?query=data%20science',\n",
              " 'https://www.kommersant.ru//doc/5100395?query=data%20science',\n",
              " 'https://www.kommersant.ru//doc/3779060?query=data%20science',\n",
              " 'https://www.kommersant.ru//doc/3495410?query=data%20science',\n",
              " 'https://www.kommersant.ru//doc/4308832?query=data%20science']"
            ]
          },
          "metadata": {},
          "execution_count": 57
        }
      ]
    },
    {
      "cell_type": "markdown",
      "metadata": {
        "id": "ymNG9skG-fJC"
      },
      "source": [
        "А теперь объединим тексты статей в DataFrame"
      ]
    },
    {
      "cell_type": "code",
      "metadata": {
        "id": "Zuwi0aW3wmT0"
      },
      "source": [
        "import pandas as pd"
      ],
      "execution_count": null,
      "outputs": []
    },
    {
      "cell_type": "code",
      "metadata": {
        "colab": {
          "base_uri": "https://localhost:8080/",
          "height": 1000
        },
        "id": "dxTj79V7wmT0",
        "outputId": "9abb8d21-5b3f-40fd-b339-bc9ce5f90f32"
      },
      "source": [
        "kom_news = pd.DataFrame()\n",
        "for link in all_links:\n",
        "    try:\n",
        "        document = requests.get(link).text\n",
        "        soup = BeautifulSoup(document)\n",
        "        time.sleep(0.3)\n",
        "        date = soup.find('div', class_='doc_header__time').find('time').get('datetime')\n",
        "        date = pd.to_datetime(date, dayfirst=True).date()\n",
        "        #print(date)\n",
        "        title = soup.find('h1', class_='doc_header__name js-search-mark').text\n",
        "        title = title.replace('\\n', '').replace('\\r', '')\n",
        "        #print(title)\n",
        "        text = soup.find('p', class_='doc__text doc__intro').text\n",
        "        #print(text)\n",
        "        text = text.replace('\\n', '').replace('\\r', '')\n",
        "        row = {'date': date, 'title': title, 'text': text}\n",
        "        kom_news = pd.concat([kom_news, pd.DataFrame([row])])  \n",
        "    except AttributeError:\n",
        "        continue\n",
        "kom_news"
      ],
      "execution_count": null,
      "outputs": [
        {
          "output_type": "execute_result",
          "data": {
            "text/html": [
              "<div>\n",
              "<style scoped>\n",
              "    .dataframe tbody tr th:only-of-type {\n",
              "        vertical-align: middle;\n",
              "    }\n",
              "\n",
              "    .dataframe tbody tr th {\n",
              "        vertical-align: top;\n",
              "    }\n",
              "\n",
              "    .dataframe thead th {\n",
              "        text-align: right;\n",
              "    }\n",
              "</style>\n",
              "<table border=\"1\" class=\"dataframe\">\n",
              "  <thead>\n",
              "    <tr style=\"text-align: right;\">\n",
              "      <th></th>\n",
              "      <th>date</th>\n",
              "      <th>title</th>\n",
              "      <th>text</th>\n",
              "    </tr>\n",
              "  </thead>\n",
              "  <tbody>\n",
              "    <tr>\n",
              "      <th>0</th>\n",
              "      <td>2021-12-02</td>\n",
              "      <td>У вас есть все данные</td>\n",
              "      <td>В быстро меняющемся мире точное прогнозировани...</td>\n",
              "    </tr>\n",
              "    <tr>\n",
              "      <th>0</th>\n",
              "      <td>2021-10-21</td>\n",
              "      <td>«Ростелеком» предлагает малому и средн...</td>\n",
              "      <td>На основе интеллектуальной обработки данных (D...</td>\n",
              "    </tr>\n",
              "    <tr>\n",
              "      <th>0</th>\n",
              "      <td>2021-10-21</td>\n",
              "      <td>«Ростелеком» предлагает малому и средн...</td>\n",
              "      <td>На основе интеллектуальной обработки данных (D...</td>\n",
              "    </tr>\n",
              "    <tr>\n",
              "      <th>0</th>\n",
              "      <td>2021-12-02</td>\n",
              "      <td>«Дефицит высококлассных айтишников огр...</td>\n",
              "      <td>Из-за бума цифровой трансформации бизнес ринул...</td>\n",
              "    </tr>\n",
              "    <tr>\n",
              "      <th>0</th>\n",
              "      <td>2018-08-13</td>\n",
              "      <td>«М.Видео-Эльдорадо» изучит контакты</td>\n",
              "      <td>Крупнейший ритейлер бытовой техники и электрон...</td>\n",
              "    </tr>\n",
              "    <tr>\n",
              "      <th>0</th>\n",
              "      <td>2021-09-23</td>\n",
              "      <td>«При изменении кредитной политики в кр...</td>\n",
              "      <td>Ирина Кремлева, член правления «ФК Открытие», ...</td>\n",
              "    </tr>\n",
              "    <tr>\n",
              "      <th>0</th>\n",
              "      <td>2020-06-08</td>\n",
              "      <td>Mail.ru Group потянуло к знаниям</td>\n",
              "      <td>Mail.ru Group получила в залог 40% в образоват...</td>\n",
              "    </tr>\n",
              "    <tr>\n",
              "      <th>0</th>\n",
              "      <td>2021-12-02</td>\n",
              "      <td>Обычный рекрутинг тут не работает</td>\n",
              "      <td>Найти хорошего специалиста по данным сейчас не...</td>\n",
              "    </tr>\n",
              "    <tr>\n",
              "      <th>0</th>\n",
              "      <td>2018-10-24</td>\n",
              "      <td>«Мне никогда не нравились поединки с т...</td>\n",
              "      <td>Конфликт акционеров ГМК «Норильский никель», н...</td>\n",
              "    </tr>\n",
              "    <tr>\n",
              "      <th>0</th>\n",
              "      <td>2017-12-20</td>\n",
              "      <td>«Инфосистемы Джет» озвучила итоги перв...</td>\n",
              "      <td>7 ноября в Москве прошел первый Российский фор...</td>\n",
              "    </tr>\n",
              "    <tr>\n",
              "      <th>0</th>\n",
              "      <td>2019-09-03</td>\n",
              "      <td>Что общего у квантовых технологий и бе...</td>\n",
              "      <td>К 2019 году облачные технологии стали не прост...</td>\n",
              "    </tr>\n",
              "    <tr>\n",
              "      <th>0</th>\n",
              "      <td>2016-05-31</td>\n",
              "      <td>Проворная аналитика</td>\n",
              "      <td>Эффективный бизнес — тот, что успевает за мгно...</td>\n",
              "    </tr>\n",
              "    <tr>\n",
              "      <th>0</th>\n",
              "      <td>2021-10-28</td>\n",
              "      <td>«Сегодня Россия — один из мировых лиде...</td>\n",
              "      <td>Розничная торговля стала одной из тех, кто при...</td>\n",
              "    </tr>\n",
              "    <tr>\n",
              "      <th>0</th>\n",
              "      <td>2018-10-06</td>\n",
              "      <td>Образование готовят к переходу в интер...</td>\n",
              "      <td>В Москве уже в пятый раз прошла международная ...</td>\n",
              "    </tr>\n",
              "    <tr>\n",
              "      <th>0</th>\n",
              "      <td>2019-06-26</td>\n",
              "      <td>ID Finance стала резидентом Сколково</td>\n",
              "      <td>Компания IDF Lab (data science центр ID Financ...</td>\n",
              "    </tr>\n",
              "    <tr>\n",
              "      <th>0</th>\n",
              "      <td>2019-12-10</td>\n",
              "      <td>«Мы берем те же атомы, но строим из ни...</td>\n",
              "      <td>Спустя десятилетие, поработав с тех пор на рук...</td>\n",
              "    </tr>\n",
              "    <tr>\n",
              "      <th>0</th>\n",
              "      <td>2018-09-19</td>\n",
              "      <td>\"Бизнес был прибыльным с первого дня\"</td>\n",
              "      <td>Александр Турилин, основатель SkillFactory, од...</td>\n",
              "    </tr>\n",
              "    <tr>\n",
              "      <th>0</th>\n",
              "      <td>2017-10-19</td>\n",
              "      <td>Системный подход</td>\n",
              "      <td>Однажды начав цифровую трансформацию, уже нель...</td>\n",
              "    </tr>\n",
              "    <tr>\n",
              "      <th>0</th>\n",
              "      <td>2019-06-06</td>\n",
              "      <td>Инвестиционные инъекции</td>\n",
              "      <td>Количество новых проектов в медицине растет ка...</td>\n",
              "    </tr>\n",
              "    <tr>\n",
              "      <th>0</th>\n",
              "      <td>2017-11-25</td>\n",
              "      <td>«Для нашей профессии очень просто найт...</td>\n",
              "      <td>Команда Harbour.Space: Артур Миндияров, 23 год...</td>\n",
              "    </tr>\n",
              "    <tr>\n",
              "      <th>0</th>\n",
              "      <td>2019-06-25</td>\n",
              "      <td>Образование в два клика</td>\n",
              "      <td>400 млн человек по всему миру в ближайшие деся...</td>\n",
              "    </tr>\n",
              "    <tr>\n",
              "      <th>0</th>\n",
              "      <td>2019-09-03</td>\n",
              "      <td>Что важнее — софт или «железо»?</td>\n",
              "      <td>Почти 90% тех данных, что существуют в мире се...</td>\n",
              "    </tr>\n",
              "    <tr>\n",
              "      <th>0</th>\n",
              "      <td>2019-10-31</td>\n",
              "      <td>Искусственный интеллект для немолодого...</td>\n",
              "      <td>Эволюция идей «Индустрии 4.0» продолжается, хо...</td>\n",
              "    </tr>\n",
              "    <tr>\n",
              "      <th>0</th>\n",
              "      <td>2020-12-08</td>\n",
              "      <td>Избежать рутины</td>\n",
              "      <td>Цифровая трансформация от высокотехнологичных ...</td>\n",
              "    </tr>\n",
              "    <tr>\n",
              "      <th>0</th>\n",
              "      <td>2021-05-31</td>\n",
              "      <td>«Не то, не так, не там и не вовремя»</td>\n",
              "      <td>Зачем в эпоху цифровых технологий наращивать с...</td>\n",
              "    </tr>\n",
              "    <tr>\n",
              "      <th>0</th>\n",
              "      <td>2021-10-28</td>\n",
              "      <td>«Мы мыслим не продуктами и услугами, а...</td>\n",
              "      <td>Российский рынок IT продолжает двигаться по пу...</td>\n",
              "    </tr>\n",
              "    <tr>\n",
              "      <th>0</th>\n",
              "      <td>2021-11-30</td>\n",
              "      <td>Metaverse — хайп или реальность?</td>\n",
              "      <td>Социальные медиа, многопользовательские игры, ...</td>\n",
              "    </tr>\n",
              "    <tr>\n",
              "      <th>0</th>\n",
              "      <td>2018-01-25</td>\n",
              "      <td>Нейросети тянутся в будущее</td>\n",
              "      <td>На повестке дня Всемирного экономического фору...</td>\n",
              "    </tr>\n",
              "    <tr>\n",
              "      <th>0</th>\n",
              "      <td>2018-04-17</td>\n",
              "      <td>Главный по трансформации</td>\n",
              "      <td>Российские госкорпорации обяжут нанимать «руко...</td>\n",
              "    </tr>\n",
              "    <tr>\n",
              "      <th>0</th>\n",
              "      <td>2018-04-25</td>\n",
              "      <td>ID Finance вошла в тройку самых быстро...</td>\n",
              "      <td>Финтех-холдинг ID Finance занял 36 место в рей...</td>\n",
              "    </tr>\n",
              "    <tr>\n",
              "      <th>0</th>\n",
              "      <td>2018-04-27</td>\n",
              "      <td>«Нетология» обучит клерков</td>\n",
              "      <td>Образовательный холдинг «Нетология-групп», сре...</td>\n",
              "    </tr>\n",
              "    <tr>\n",
              "      <th>0</th>\n",
              "      <td>2018-05-30</td>\n",
              "      <td>ID Finance стала резидентом Парка высо...</td>\n",
              "      <td>Финтех-компания ID Finance стала резидентом Па...</td>\n",
              "    </tr>\n",
              "    <tr>\n",
              "      <th>0</th>\n",
              "      <td>2018-08-03</td>\n",
              "      <td>Старший по прозрачности</td>\n",
              "      <td>Стратегия развития Счетной палаты (СП) на 2018...</td>\n",
              "    </tr>\n",
              "    <tr>\n",
              "      <th>0</th>\n",
              "      <td>2018-12-04</td>\n",
              "      <td>«Система стремится стать более эффекти...</td>\n",
              "      <td>Национальный проект «Здравоохранение», на реал...</td>\n",
              "    </tr>\n",
              "    <tr>\n",
              "      <th>0</th>\n",
              "      <td>2019-03-18</td>\n",
              "      <td>Процессор пошел</td>\n",
              "      <td>В России предлагается создать совет при презид...</td>\n",
              "    </tr>\n",
              "    <tr>\n",
              "      <th>0</th>\n",
              "      <td>2019-06-06</td>\n",
              "      <td>«Мы разрабатываем платформы, которые р...</td>\n",
              "      <td>Цифровой трансформацией «Почты России» будет з...</td>\n",
              "    </tr>\n",
              "    <tr>\n",
              "      <th>0</th>\n",
              "      <td>2019-07-11</td>\n",
              "      <td>Новая страница в истории отрасли</td>\n",
              "      <td>Впервые в истории нефтегазовой отрасли России ...</td>\n",
              "    </tr>\n",
              "    <tr>\n",
              "      <th>0</th>\n",
              "      <td>2019-07-19</td>\n",
              "      <td>Трансформация Нефтяного саммита Татарс...</td>\n",
              "      <td>Нефтяной саммит Татарстана, имеющий 18-летнюю ...</td>\n",
              "    </tr>\n",
              "    <tr>\n",
              "      <th>0</th>\n",
              "      <td>2019-08-29</td>\n",
              "      <td>От 2 до 25</td>\n",
              "      <td>Российская система образования нуждается в пол...</td>\n",
              "    </tr>\n",
              "    <tr>\n",
              "      <th>0</th>\n",
              "      <td>2019-09-03</td>\n",
              "      <td>Облако, выросшее из банка</td>\n",
              "      <td>Можно констатировать: облачные технологии пере...</td>\n",
              "    </tr>\n",
              "  </tbody>\n",
              "</table>\n",
              "</div>"
            ],
            "text/plain": [
              "         date  ...                                               text\n",
              "0  2021-12-02  ...  В быстро меняющемся мире точное прогнозировани...\n",
              "0  2021-10-21  ...  На основе интеллектуальной обработки данных (D...\n",
              "0  2021-10-21  ...  На основе интеллектуальной обработки данных (D...\n",
              "0  2021-12-02  ...  Из-за бума цифровой трансформации бизнес ринул...\n",
              "0  2018-08-13  ...  Крупнейший ритейлер бытовой техники и электрон...\n",
              "0  2021-09-23  ...  Ирина Кремлева, член правления «ФК Открытие», ...\n",
              "0  2020-06-08  ...  Mail.ru Group получила в залог 40% в образоват...\n",
              "0  2021-12-02  ...  Найти хорошего специалиста по данным сейчас не...\n",
              "0  2018-10-24  ...  Конфликт акционеров ГМК «Норильский никель», н...\n",
              "0  2017-12-20  ...  7 ноября в Москве прошел первый Российский фор...\n",
              "0  2019-09-03  ...  К 2019 году облачные технологии стали не прост...\n",
              "0  2016-05-31  ...  Эффективный бизнес — тот, что успевает за мгно...\n",
              "0  2021-10-28  ...  Розничная торговля стала одной из тех, кто при...\n",
              "0  2018-10-06  ...  В Москве уже в пятый раз прошла международная ...\n",
              "0  2019-06-26  ...  Компания IDF Lab (data science центр ID Financ...\n",
              "0  2019-12-10  ...  Спустя десятилетие, поработав с тех пор на рук...\n",
              "0  2018-09-19  ...  Александр Турилин, основатель SkillFactory, од...\n",
              "0  2017-10-19  ...  Однажды начав цифровую трансформацию, уже нель...\n",
              "0  2019-06-06  ...  Количество новых проектов в медицине растет ка...\n",
              "0  2017-11-25  ...  Команда Harbour.Space: Артур Миндияров, 23 год...\n",
              "0  2019-06-25  ...  400 млн человек по всему миру в ближайшие деся...\n",
              "0  2019-09-03  ...  Почти 90% тех данных, что существуют в мире се...\n",
              "0  2019-10-31  ...  Эволюция идей «Индустрии 4.0» продолжается, хо...\n",
              "0  2020-12-08  ...  Цифровая трансформация от высокотехнологичных ...\n",
              "0  2021-05-31  ...  Зачем в эпоху цифровых технологий наращивать с...\n",
              "0  2021-10-28  ...  Российский рынок IT продолжает двигаться по пу...\n",
              "0  2021-11-30  ...  Социальные медиа, многопользовательские игры, ...\n",
              "0  2018-01-25  ...  На повестке дня Всемирного экономического фору...\n",
              "0  2018-04-17  ...  Российские госкорпорации обяжут нанимать «руко...\n",
              "0  2018-04-25  ...  Финтех-холдинг ID Finance занял 36 место в рей...\n",
              "0  2018-04-27  ...  Образовательный холдинг «Нетология-групп», сре...\n",
              "0  2018-05-30  ...  Финтех-компания ID Finance стала резидентом Па...\n",
              "0  2018-08-03  ...  Стратегия развития Счетной палаты (СП) на 2018...\n",
              "0  2018-12-04  ...  Национальный проект «Здравоохранение», на реал...\n",
              "0  2019-03-18  ...  В России предлагается создать совет при презид...\n",
              "0  2019-06-06  ...  Цифровой трансформацией «Почты России» будет з...\n",
              "0  2019-07-11  ...  Впервые в истории нефтегазовой отрасли России ...\n",
              "0  2019-07-19  ...  Нефтяной саммит Татарстана, имеющий 18-летнюю ...\n",
              "0  2019-08-29  ...  Российская система образования нуждается в пол...\n",
              "0  2019-09-03  ...  Можно констатировать: облачные технологии пере...\n",
              "\n",
              "[40 rows x 3 columns]"
            ]
          },
          "metadata": {},
          "execution_count": 25
        }
      ]
    },
    {
      "cell_type": "markdown",
      "metadata": {
        "id": "q-hVNKYLwmT2"
      },
      "source": [
        "### Проблемы веб-скрапинга\n",
        "\n",
        "1) Огромное многообразие сайтов и у каждого сайта своя структура\n",
        "\n",
        "2) Сайты постоянно меняются\n",
        "\n",
        "3) Контент сайта может формироваться динамически (тогда его содержимое из HTML не достать)\n",
        "\n",
        "4) Сайты могут использовать различные средства для защиты от скрапинга.\n"
      ]
    },
    {
      "cell_type": "markdown",
      "metadata": {
        "id": "7EGuFGDPuVom"
      },
      "source": [
        "### Спасибо за внимание! Буду рад ответить на ваши вопросы\n",
        "Форма ОС: https://forms.gle/y8xaFwJqtbFSjUeG8"
      ]
    }
  ]
}