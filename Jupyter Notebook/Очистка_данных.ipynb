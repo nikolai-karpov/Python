{
  "cells": [
    {
      "cell_type": "markdown",
      "metadata": {
        "id": "TxeY1v8JdaCg"
      },
      "source": [
        ""
      ]
    },
    {
      "cell_type": "code",
      "execution_count": 1,
      "metadata": {
        "id": "XcZW7ZYFdd1w"
      },
      "outputs": [],
      "source": [
        "import pandas as pd\n",
        "import numpy as np\n"
      ]
    },
    {
      "cell_type": "code",
      "execution_count": 2,
      "metadata": {
        "id": "3gM3I7qrVu0C"
      },
      "outputs": [],
      "source": [
        "# читаем данные из csv, который находится в zip-файле на github\n",
        "url = 'https://github.com/nikolai-karpov/sf_data_science/blob/943d3d51c5892ae950f606aa1ebd6249246f8dfb/Jupyter%20Notebook/data/diabetes_data.zip?raw=true'\n",
        "df = pd.read_csv(url, encoding='ISO-8859-1', compression='zip')"
      ]
    },
    {
      "cell_type": "code",
      "execution_count": 3,
      "metadata": {
        "colab": {
          "base_uri": "https://localhost:8080/",
          "height": 459
        },
        "id": "D0oNBoMxdtJY",
        "outputId": "98f48780-a4e7-43bd-fc94-c8c91dfc46f9"
      },
      "outputs": [
        {
          "output_type": "display_data",
          "data": {
            "text/html": [
              "\n",
              "  <div id=\"df-4b3110d8-857a-4d16-9dc4-aa768a9de343\">\n",
              "    <div class=\"colab-df-container\">\n",
              "      <div>\n",
              "<style scoped>\n",
              "    .dataframe tbody tr th:only-of-type {\n",
              "        vertical-align: middle;\n",
              "    }\n",
              "\n",
              "    .dataframe tbody tr th {\n",
              "        vertical-align: top;\n",
              "    }\n",
              "\n",
              "    .dataframe thead th {\n",
              "        text-align: right;\n",
              "    }\n",
              "</style>\n",
              "<table border=\"1\" class=\"dataframe\">\n",
              "  <thead>\n",
              "    <tr style=\"text-align: right;\">\n",
              "      <th></th>\n",
              "      <th>Pregnancies</th>\n",
              "      <th>Glucose</th>\n",
              "      <th>BloodPressure</th>\n",
              "      <th>SkinThickness</th>\n",
              "      <th>Insulin</th>\n",
              "      <th>BMI</th>\n",
              "      <th>DiabetesPedigreeFunction</th>\n",
              "      <th>Age</th>\n",
              "      <th>Outcome</th>\n",
              "      <th>Gender</th>\n",
              "    </tr>\n",
              "  </thead>\n",
              "  <tbody>\n",
              "    <tr>\n",
              "      <th>0</th>\n",
              "      <td>6</td>\n",
              "      <td>98</td>\n",
              "      <td>58</td>\n",
              "      <td>33</td>\n",
              "      <td>190</td>\n",
              "      <td>34.0</td>\n",
              "      <td>0.430</td>\n",
              "      <td>43</td>\n",
              "      <td>0</td>\n",
              "      <td>Female</td>\n",
              "    </tr>\n",
              "    <tr>\n",
              "      <th>1</th>\n",
              "      <td>2</td>\n",
              "      <td>112</td>\n",
              "      <td>75</td>\n",
              "      <td>32</td>\n",
              "      <td>0</td>\n",
              "      <td>35.7</td>\n",
              "      <td>0.148</td>\n",
              "      <td>21</td>\n",
              "      <td>0</td>\n",
              "      <td>Female</td>\n",
              "    </tr>\n",
              "    <tr>\n",
              "      <th>2</th>\n",
              "      <td>2</td>\n",
              "      <td>108</td>\n",
              "      <td>64</td>\n",
              "      <td>0</td>\n",
              "      <td>0</td>\n",
              "      <td>30.8</td>\n",
              "      <td>0.158</td>\n",
              "      <td>21</td>\n",
              "      <td>0</td>\n",
              "      <td>Female</td>\n",
              "    </tr>\n",
              "    <tr>\n",
              "      <th>3</th>\n",
              "      <td>8</td>\n",
              "      <td>107</td>\n",
              "      <td>80</td>\n",
              "      <td>0</td>\n",
              "      <td>0</td>\n",
              "      <td>24.6</td>\n",
              "      <td>0.856</td>\n",
              "      <td>34</td>\n",
              "      <td>0</td>\n",
              "      <td>Female</td>\n",
              "    </tr>\n",
              "    <tr>\n",
              "      <th>4</th>\n",
              "      <td>7</td>\n",
              "      <td>136</td>\n",
              "      <td>90</td>\n",
              "      <td>0</td>\n",
              "      <td>0</td>\n",
              "      <td>29.9</td>\n",
              "      <td>0.210</td>\n",
              "      <td>50</td>\n",
              "      <td>0</td>\n",
              "      <td>Female</td>\n",
              "    </tr>\n",
              "  </tbody>\n",
              "</table>\n",
              "</div>\n",
              "      <button class=\"colab-df-convert\" onclick=\"convertToInteractive('df-4b3110d8-857a-4d16-9dc4-aa768a9de343')\"\n",
              "              title=\"Convert this dataframe to an interactive table.\"\n",
              "              style=\"display:none;\">\n",
              "        \n",
              "  <svg xmlns=\"http://www.w3.org/2000/svg\" height=\"24px\"viewBox=\"0 0 24 24\"\n",
              "       width=\"24px\">\n",
              "    <path d=\"M0 0h24v24H0V0z\" fill=\"none\"/>\n",
              "    <path d=\"M18.56 5.44l.94 2.06.94-2.06 2.06-.94-2.06-.94-.94-2.06-.94 2.06-2.06.94zm-11 1L8.5 8.5l.94-2.06 2.06-.94-2.06-.94L8.5 2.5l-.94 2.06-2.06.94zm10 10l.94 2.06.94-2.06 2.06-.94-2.06-.94-.94-2.06-.94 2.06-2.06.94z\"/><path d=\"M17.41 7.96l-1.37-1.37c-.4-.4-.92-.59-1.43-.59-.52 0-1.04.2-1.43.59L10.3 9.45l-7.72 7.72c-.78.78-.78 2.05 0 2.83L4 21.41c.39.39.9.59 1.41.59.51 0 1.02-.2 1.41-.59l7.78-7.78 2.81-2.81c.8-.78.8-2.07 0-2.86zM5.41 20L4 18.59l7.72-7.72 1.47 1.35L5.41 20z\"/>\n",
              "  </svg>\n",
              "      </button>\n",
              "      \n",
              "  <style>\n",
              "    .colab-df-container {\n",
              "      display:flex;\n",
              "      flex-wrap:wrap;\n",
              "      gap: 12px;\n",
              "    }\n",
              "\n",
              "    .colab-df-convert {\n",
              "      background-color: #E8F0FE;\n",
              "      border: none;\n",
              "      border-radius: 50%;\n",
              "      cursor: pointer;\n",
              "      display: none;\n",
              "      fill: #1967D2;\n",
              "      height: 32px;\n",
              "      padding: 0 0 0 0;\n",
              "      width: 32px;\n",
              "    }\n",
              "\n",
              "    .colab-df-convert:hover {\n",
              "      background-color: #E2EBFA;\n",
              "      box-shadow: 0px 1px 2px rgba(60, 64, 67, 0.3), 0px 1px 3px 1px rgba(60, 64, 67, 0.15);\n",
              "      fill: #174EA6;\n",
              "    }\n",
              "\n",
              "    [theme=dark] .colab-df-convert {\n",
              "      background-color: #3B4455;\n",
              "      fill: #D2E3FC;\n",
              "    }\n",
              "\n",
              "    [theme=dark] .colab-df-convert:hover {\n",
              "      background-color: #434B5C;\n",
              "      box-shadow: 0px 1px 3px 1px rgba(0, 0, 0, 0.15);\n",
              "      filter: drop-shadow(0px 1px 2px rgba(0, 0, 0, 0.3));\n",
              "      fill: #FFFFFF;\n",
              "    }\n",
              "  </style>\n",
              "\n",
              "      <script>\n",
              "        const buttonEl =\n",
              "          document.querySelector('#df-4b3110d8-857a-4d16-9dc4-aa768a9de343 button.colab-df-convert');\n",
              "        buttonEl.style.display =\n",
              "          google.colab.kernel.accessAllowed ? 'block' : 'none';\n",
              "\n",
              "        async function convertToInteractive(key) {\n",
              "          const element = document.querySelector('#df-4b3110d8-857a-4d16-9dc4-aa768a9de343');\n",
              "          const dataTable =\n",
              "            await google.colab.kernel.invokeFunction('convertToInteractive',\n",
              "                                                     [key], {});\n",
              "          if (!dataTable) return;\n",
              "\n",
              "          const docLinkHtml = 'Like what you see? Visit the ' +\n",
              "            '<a target=\"_blank\" href=https://colab.research.google.com/notebooks/data_table.ipynb>data table notebook</a>'\n",
              "            + ' to learn more about interactive tables.';\n",
              "          element.innerHTML = '';\n",
              "          dataTable['output_type'] = 'display_data';\n",
              "          await google.colab.output.renderOutput(dataTable, element);\n",
              "          const docLink = document.createElement('div');\n",
              "          docLink.innerHTML = docLinkHtml;\n",
              "          element.appendChild(docLink);\n",
              "        }\n",
              "      </script>\n",
              "    </div>\n",
              "  </div>\n",
              "  "
            ],
            "text/plain": [
              "   Pregnancies  Glucose  BloodPressure  ...  Age  Outcome  Gender\n",
              "0            6       98             58  ...   43        0  Female\n",
              "1            2      112             75  ...   21        0  Female\n",
              "2            2      108             64  ...   21        0  Female\n",
              "3            8      107             80  ...   34        0  Female\n",
              "4            7      136             90  ...   50        0  Female\n",
              "\n",
              "[5 rows x 10 columns]"
            ]
          },
          "metadata": {}
        },
        {
          "output_type": "display_data",
          "data": {
            "text/html": [
              "\n",
              "  <div id=\"df-9e487013-b676-4867-ac53-87be04cb93f8\">\n",
              "    <div class=\"colab-df-container\">\n",
              "      <div>\n",
              "<style scoped>\n",
              "    .dataframe tbody tr th:only-of-type {\n",
              "        vertical-align: middle;\n",
              "    }\n",
              "\n",
              "    .dataframe tbody tr th {\n",
              "        vertical-align: top;\n",
              "    }\n",
              "\n",
              "    .dataframe thead th {\n",
              "        text-align: right;\n",
              "    }\n",
              "</style>\n",
              "<table border=\"1\" class=\"dataframe\">\n",
              "  <thead>\n",
              "    <tr style=\"text-align: right;\">\n",
              "      <th></th>\n",
              "      <th>Pregnancies</th>\n",
              "      <th>Glucose</th>\n",
              "      <th>BloodPressure</th>\n",
              "      <th>SkinThickness</th>\n",
              "      <th>Insulin</th>\n",
              "      <th>BMI</th>\n",
              "      <th>DiabetesPedigreeFunction</th>\n",
              "      <th>Age</th>\n",
              "      <th>Outcome</th>\n",
              "      <th>Gender</th>\n",
              "    </tr>\n",
              "  </thead>\n",
              "  <tbody>\n",
              "    <tr>\n",
              "      <th>773</th>\n",
              "      <td>6</td>\n",
              "      <td>103</td>\n",
              "      <td>72</td>\n",
              "      <td>32</td>\n",
              "      <td>190</td>\n",
              "      <td>37.7</td>\n",
              "      <td>0.324</td>\n",
              "      <td>55</td>\n",
              "      <td>0</td>\n",
              "      <td>Female</td>\n",
              "    </tr>\n",
              "    <tr>\n",
              "      <th>774</th>\n",
              "      <td>1</td>\n",
              "      <td>71</td>\n",
              "      <td>48</td>\n",
              "      <td>18</td>\n",
              "      <td>76</td>\n",
              "      <td>20.4</td>\n",
              "      <td>0.323</td>\n",
              "      <td>22</td>\n",
              "      <td>0</td>\n",
              "      <td>Female</td>\n",
              "    </tr>\n",
              "    <tr>\n",
              "      <th>775</th>\n",
              "      <td>0</td>\n",
              "      <td>117</td>\n",
              "      <td>0</td>\n",
              "      <td>0</td>\n",
              "      <td>0</td>\n",
              "      <td>33.8</td>\n",
              "      <td>0.932</td>\n",
              "      <td>44</td>\n",
              "      <td>0</td>\n",
              "      <td>Female</td>\n",
              "    </tr>\n",
              "    <tr>\n",
              "      <th>776</th>\n",
              "      <td>4</td>\n",
              "      <td>154</td>\n",
              "      <td>72</td>\n",
              "      <td>29</td>\n",
              "      <td>126</td>\n",
              "      <td>31.3</td>\n",
              "      <td>0.338</td>\n",
              "      <td>37</td>\n",
              "      <td>0</td>\n",
              "      <td>Female</td>\n",
              "    </tr>\n",
              "    <tr>\n",
              "      <th>777</th>\n",
              "      <td>5</td>\n",
              "      <td>147</td>\n",
              "      <td>78</td>\n",
              "      <td>0</td>\n",
              "      <td>0</td>\n",
              "      <td>33.7</td>\n",
              "      <td>0.218</td>\n",
              "      <td>65</td>\n",
              "      <td>0</td>\n",
              "      <td>Female</td>\n",
              "    </tr>\n",
              "  </tbody>\n",
              "</table>\n",
              "</div>\n",
              "      <button class=\"colab-df-convert\" onclick=\"convertToInteractive('df-9e487013-b676-4867-ac53-87be04cb93f8')\"\n",
              "              title=\"Convert this dataframe to an interactive table.\"\n",
              "              style=\"display:none;\">\n",
              "        \n",
              "  <svg xmlns=\"http://www.w3.org/2000/svg\" height=\"24px\"viewBox=\"0 0 24 24\"\n",
              "       width=\"24px\">\n",
              "    <path d=\"M0 0h24v24H0V0z\" fill=\"none\"/>\n",
              "    <path d=\"M18.56 5.44l.94 2.06.94-2.06 2.06-.94-2.06-.94-.94-2.06-.94 2.06-2.06.94zm-11 1L8.5 8.5l.94-2.06 2.06-.94-2.06-.94L8.5 2.5l-.94 2.06-2.06.94zm10 10l.94 2.06.94-2.06 2.06-.94-2.06-.94-.94-2.06-.94 2.06-2.06.94z\"/><path d=\"M17.41 7.96l-1.37-1.37c-.4-.4-.92-.59-1.43-.59-.52 0-1.04.2-1.43.59L10.3 9.45l-7.72 7.72c-.78.78-.78 2.05 0 2.83L4 21.41c.39.39.9.59 1.41.59.51 0 1.02-.2 1.41-.59l7.78-7.78 2.81-2.81c.8-.78.8-2.07 0-2.86zM5.41 20L4 18.59l7.72-7.72 1.47 1.35L5.41 20z\"/>\n",
              "  </svg>\n",
              "      </button>\n",
              "      \n",
              "  <style>\n",
              "    .colab-df-container {\n",
              "      display:flex;\n",
              "      flex-wrap:wrap;\n",
              "      gap: 12px;\n",
              "    }\n",
              "\n",
              "    .colab-df-convert {\n",
              "      background-color: #E8F0FE;\n",
              "      border: none;\n",
              "      border-radius: 50%;\n",
              "      cursor: pointer;\n",
              "      display: none;\n",
              "      fill: #1967D2;\n",
              "      height: 32px;\n",
              "      padding: 0 0 0 0;\n",
              "      width: 32px;\n",
              "    }\n",
              "\n",
              "    .colab-df-convert:hover {\n",
              "      background-color: #E2EBFA;\n",
              "      box-shadow: 0px 1px 2px rgba(60, 64, 67, 0.3), 0px 1px 3px 1px rgba(60, 64, 67, 0.15);\n",
              "      fill: #174EA6;\n",
              "    }\n",
              "\n",
              "    [theme=dark] .colab-df-convert {\n",
              "      background-color: #3B4455;\n",
              "      fill: #D2E3FC;\n",
              "    }\n",
              "\n",
              "    [theme=dark] .colab-df-convert:hover {\n",
              "      background-color: #434B5C;\n",
              "      box-shadow: 0px 1px 3px 1px rgba(0, 0, 0, 0.15);\n",
              "      filter: drop-shadow(0px 1px 2px rgba(0, 0, 0, 0.3));\n",
              "      fill: #FFFFFF;\n",
              "    }\n",
              "  </style>\n",
              "\n",
              "      <script>\n",
              "        const buttonEl =\n",
              "          document.querySelector('#df-9e487013-b676-4867-ac53-87be04cb93f8 button.colab-df-convert');\n",
              "        buttonEl.style.display =\n",
              "          google.colab.kernel.accessAllowed ? 'block' : 'none';\n",
              "\n",
              "        async function convertToInteractive(key) {\n",
              "          const element = document.querySelector('#df-9e487013-b676-4867-ac53-87be04cb93f8');\n",
              "          const dataTable =\n",
              "            await google.colab.kernel.invokeFunction('convertToInteractive',\n",
              "                                                     [key], {});\n",
              "          if (!dataTable) return;\n",
              "\n",
              "          const docLinkHtml = 'Like what you see? Visit the ' +\n",
              "            '<a target=\"_blank\" href=https://colab.research.google.com/notebooks/data_table.ipynb>data table notebook</a>'\n",
              "            + ' to learn more about interactive tables.';\n",
              "          element.innerHTML = '';\n",
              "          dataTable['output_type'] = 'display_data';\n",
              "          await google.colab.output.renderOutput(dataTable, element);\n",
              "          const docLink = document.createElement('div');\n",
              "          docLink.innerHTML = docLinkHtml;\n",
              "          element.appendChild(docLink);\n",
              "        }\n",
              "      </script>\n",
              "    </div>\n",
              "  </div>\n",
              "  "
            ],
            "text/plain": [
              "     Pregnancies  Glucose  BloodPressure  ...  Age  Outcome  Gender\n",
              "773            6      103             72  ...   55        0  Female\n",
              "774            1       71             48  ...   22        0  Female\n",
              "775            0      117              0  ...   44        0  Female\n",
              "776            4      154             72  ...   37        0  Female\n",
              "777            5      147             78  ...   65        0  Female\n",
              "\n",
              "[5 rows x 10 columns]"
            ]
          },
          "metadata": {}
        }
      ],
      "source": [
        "# смотрим первые 5 строк таблицы\n",
        "display(df.head())\n",
        "# смотрим последние 5 строк таблицы\n",
        "display(df.tail())"
      ]
    },
    {
      "cell_type": "markdown",
      "metadata": {
        "id": "ut4KpjUvJf7m"
      },
      "source": [
        "Признаки данных\n",
        "---\n",
        "*   Pregnancies — количество беременностей.\n",
        "*   Glucose — концентрация глюкозы в плазме через два часа при пероральном тесте на толерантность к глюкозе\n",
        "*   BloodPressure — диастолическое артериальное давление (мм рт. ст.).\n",
        "*   SkinThickness — толщина кожной складки трицепса (мм).\n",
        "*   Insulin — двухчасовой сывороточный инсулин (ме Ед/мл).\n",
        "*   BMI — индекс массы тела\n",
        "*   DiabetesPedigreeFunction — функция родословной диабета (чем она выше, тем выше шанс наследственной заболеваемости).\n",
        "*   Age — возраст.\n",
        "*   Outcome — наличие диабета (0 — нет, 1 — да).\n"
      ]
    },
    {
      "cell_type": "markdown",
      "metadata": {
        "id": "Kp6Y0wl0KGcu"
      },
      "source": [
        "Задание 8.1 Найти все повторяющиеся строки в данных и удалить их"
      ]
    },
    {
      "cell_type": "code",
      "execution_count": 4,
      "metadata": {
        "colab": {
          "base_uri": "https://localhost:8080/"
        },
        "id": "3qMJYDYgPdUV",
        "outputId": "7e77e6fe-9ca4-4f12-8c9b-506b2be872eb"
      },
      "outputs": [
        {
          "output_type": "stream",
          "name": "stdout",
          "text": [
            "Число дубликтов: 10\n",
            "Результирующее число записей: 768\n"
          ]
        }
      ],
      "source": [
        "duplicates = df[df.duplicated()]\n",
        "print('Число дубликтов: {}'.format(duplicates.shape[0]))\n",
        "df = df.drop_duplicates()\n",
        "print('Результирующее число записей: {}'.format(df.shape[0]))"
      ]
    },
    {
      "cell_type": "markdown",
      "metadata": {
        "id": "LVCBBdmdQICC"
      },
      "source": [
        "Задание 8.2 найдите все неинформативные признаки в данных и избавьтесь от них\n",
        "---\n",
        "В качестве порога информативности возьмите 0.99: \n",
        "удалите все признаки, для которых 99 % значений повторяются или 99 % записей уникальны."
      ]
    },
    {
      "cell_type": "code",
      "execution_count": 5,
      "metadata": {
        "colab": {
          "base_uri": "https://localhost:8080/"
        },
        "id": "SMkAu0EhJ_go",
        "outputId": "d1120eea-298a-48b3-e410-fbf5121e2f15"
      },
      "outputs": [
        {
          "output_type": "stream",
          "name": "stdout",
          "text": [
            "Gender: 100.0% одинаковых значений\n"
          ]
        }
      ],
      "source": [
        "# список неинформативных признаков\n",
        "low_information_cols = [] \n",
        "\n",
        "# цикл по всем столбцам\n",
        "for col in df.columns:\n",
        "    # Доля от общих данных, которую занимает каждое уникальное значение в признаке \n",
        "    top_freq = df[col].value_counts(normalize=True).max()      # наибольшая относительная частота повторений\n",
        "    # Отношение числа уникальных значений в столбце к размеру всего столбца\n",
        "    nunique_ratio = df[col].nunique() / df[col].count() # Делим число уникальных значений на кол-во (1 все уникально, или есть дубликаты)\n",
        "    # сравниваем наибольшую частоту с порогом\n",
        "    if top_freq > 0.99:\n",
        "        low_information_cols.append(col)                              # Если кол-во дубликатов выше указанного порога (0.99) заносим название столбца в список\n",
        "        print(f'{col}: {round(top_freq*100, 2)}% одинаковых значений')\n",
        "    # сравниваем долю уникальных значений с порогом\n",
        "    if nunique_ratio > 0.99:\n",
        "        low_information_cols.append(col)                              # Если уникальность выше указанного порога (0.99) заносим название столбца в список\n",
        "        print(f'{col}: {round(nunique_ratio*100, 2)}% уникальных значений')"
      ]
    },
    {
      "cell_type": "code",
      "execution_count": 6,
      "metadata": {
        "colab": {
          "base_uri": "https://localhost:8080/"
        },
        "id": "AR5p7ORZLrvb",
        "outputId": "0a38d17d-f55e-4f44-eedb-19d6d9585f36"
      },
      "outputs": [
        {
          "output_type": "stream",
          "name": "stdout",
          "text": [
            "Результирующее число признаков: 9\n"
          ]
        }
      ],
      "source": [
        "cleaned_df = df.drop(low_information_cols, axis=1)\n",
        "print(f'Результирующее число признаков: {cleaned_df.shape[1]}')"
      ]
    },
    {
      "cell_type": "markdown",
      "metadata": {
        "id": "8q2QDuYcRKV8"
      },
      "source": [
        "Задание 8.3\n",
        "---\n",
        "Попробуйте найти пропуски в данных с помощью метода isnull()."
      ]
    },
    {
      "cell_type": "markdown",
      "metadata": {
        "id": "_KEI6KF8Tebk"
      },
      "source": [
        "Замените все записи, равные 0, в столбцах Glucose, BloodPressure, SkinThickness, Insulin и BMI на символ пропуска"
      ]
    },
    {
      "cell_type": "code",
      "execution_count": 7,
      "metadata": {
        "id": "QegTGl0KYYjm"
      },
      "outputs": [],
      "source": [
        "def zero_replace(arg):\n",
        "  return np.nan if arg == 0 else arg\n",
        "\n",
        "\n",
        "cleaned_df['Glucose'] = cleaned_df['Glucose'].apply(zero_replace)\n",
        "cleaned_df['BloodPressure'] = cleaned_df['BloodPressure'].apply(zero_replace)\n",
        "cleaned_df['SkinThickness'] = cleaned_df['SkinThickness'].apply(zero_replace)\n",
        "cleaned_df['Insulin'] = cleaned_df['Insulin'].apply(zero_replace)\n",
        "cleaned_df['BMI'] = cleaned_df['BMI'].apply(zero_replace)"
      ]
    },
    {
      "cell_type": "code",
      "execution_count": 8,
      "metadata": {
        "colab": {
          "base_uri": "https://localhost:8080/",
          "height": 35
        },
        "id": "q_Z4_I7BROTH",
        "outputId": "3e62f950-dda8-4a7d-9541-bf7f4b78b7ba"
      },
      "outputs": [
        {
          "output_type": "display_data",
          "data": {
            "text/plain": [
              "Series([], dtype: float64)"
            ]
          },
          "metadata": {}
        }
      ],
      "source": [
        "cols_null_percent = df.isnull().mean() * 100\n",
        "cols_with_null = cols_null_percent[cols_null_percent>0].sort_values(ascending=False)\n",
        "display(cols_with_null) # вывести на экран названия столбцов, где число пропусков больше 0."
      ]
    },
    {
      "cell_type": "code",
      "execution_count": 9,
      "metadata": {
        "colab": {
          "base_uri": "https://localhost:8080/"
        },
        "id": "I1H9LmsmXenH",
        "outputId": "8146dac0-aecc-49a9-cfd1-6e358cdefdf0"
      },
      "outputs": [
        {
          "output_type": "execute_result",
          "data": {
            "text/plain": [
              "Insulin                     0.49\n",
              "SkinThickness               0.30\n",
              "BloodPressure               0.05\n",
              "BMI                         0.01\n",
              "Glucose                     0.01\n",
              "Outcome                     0.00\n",
              "Age                         0.00\n",
              "DiabetesPedigreeFunction    0.00\n",
              "Pregnancies                 0.00\n",
              "dtype: float64"
            ]
          },
          "metadata": {},
          "execution_count": 9
        }
      ],
      "source": [
        "#выводим результирующую долю пропусков\n",
        "cleaned_df.isnull().mean().round(2).sort_values(ascending=False)"
      ]
    },
    {
      "cell_type": "markdown",
      "source": [
        "Задание 8.4\n",
        "---\n",
        "Удалите из данных признаки, где число пропусков составляет более 30 %. "
      ],
      "metadata": {
        "id": "17Xu1YM1ag-p"
      }
    },
    {
      "cell_type": "code",
      "source": [
        "#задаем минимальный порог: вычисляем 70% от числа строк\n",
        "thresh = df.shape[0]*0.7\n",
        "#удаляем столбцы, в которых более 30% (100-70) пропусков\n",
        "cleaned_df = cleaned_df.dropna(thresh=thresh, axis=1)\n",
        "#отображаем результирующую долю пропусков\n",
        "cleaned_df.isnull().mean()\n"
      ],
      "metadata": {
        "colab": {
          "base_uri": "https://localhost:8080/"
        },
        "id": "64QXdqGMaks-",
        "outputId": "ce45c752-c02a-4bdf-b58d-b0b3eb30a805"
      },
      "execution_count": 10,
      "outputs": [
        {
          "output_type": "execute_result",
          "data": {
            "text/plain": [
              "Pregnancies                 0.000000\n",
              "Glucose                     0.006510\n",
              "BloodPressure               0.045573\n",
              "SkinThickness               0.295573\n",
              "BMI                         0.014323\n",
              "DiabetesPedigreeFunction    0.000000\n",
              "Age                         0.000000\n",
              "Outcome                     0.000000\n",
              "dtype: float64"
            ]
          },
          "metadata": {},
          "execution_count": 10
        }
      ]
    },
    {
      "cell_type": "markdown",
      "source": [
        "Задание 8.5\n",
        "---\n",
        "Удалите из данных только те строки, в которых содержится более двух пропусков одновременно."
      ],
      "metadata": {
        "id": "LPh7B0n1dJQ2"
      }
    },
    {
      "cell_type": "code",
      "source": [
        "cleaned_df"
      ],
      "metadata": {
        "colab": {
          "base_uri": "https://localhost:8080/",
          "height": 467
        },
        "id": "h_LIYa8MdbOc",
        "outputId": "9009667b-4c89-4ba2-e244-cd175a92617a"
      },
      "execution_count": 11,
      "outputs": [
        {
          "output_type": "execute_result",
          "data": {
            "text/html": [
              "\n",
              "  <div id=\"df-7f77250a-09a4-476c-b6dd-95a031ae4195\">\n",
              "    <div class=\"colab-df-container\">\n",
              "      <div>\n",
              "<style scoped>\n",
              "    .dataframe tbody tr th:only-of-type {\n",
              "        vertical-align: middle;\n",
              "    }\n",
              "\n",
              "    .dataframe tbody tr th {\n",
              "        vertical-align: top;\n",
              "    }\n",
              "\n",
              "    .dataframe thead th {\n",
              "        text-align: right;\n",
              "    }\n",
              "</style>\n",
              "<table border=\"1\" class=\"dataframe\">\n",
              "  <thead>\n",
              "    <tr style=\"text-align: right;\">\n",
              "      <th></th>\n",
              "      <th>Pregnancies</th>\n",
              "      <th>Glucose</th>\n",
              "      <th>BloodPressure</th>\n",
              "      <th>SkinThickness</th>\n",
              "      <th>BMI</th>\n",
              "      <th>DiabetesPedigreeFunction</th>\n",
              "      <th>Age</th>\n",
              "      <th>Outcome</th>\n",
              "    </tr>\n",
              "  </thead>\n",
              "  <tbody>\n",
              "    <tr>\n",
              "      <th>0</th>\n",
              "      <td>6</td>\n",
              "      <td>98.0</td>\n",
              "      <td>58.0</td>\n",
              "      <td>33.0</td>\n",
              "      <td>34.0</td>\n",
              "      <td>0.430</td>\n",
              "      <td>43</td>\n",
              "      <td>0</td>\n",
              "    </tr>\n",
              "    <tr>\n",
              "      <th>1</th>\n",
              "      <td>2</td>\n",
              "      <td>112.0</td>\n",
              "      <td>75.0</td>\n",
              "      <td>32.0</td>\n",
              "      <td>35.7</td>\n",
              "      <td>0.148</td>\n",
              "      <td>21</td>\n",
              "      <td>0</td>\n",
              "    </tr>\n",
              "    <tr>\n",
              "      <th>2</th>\n",
              "      <td>2</td>\n",
              "      <td>108.0</td>\n",
              "      <td>64.0</td>\n",
              "      <td>NaN</td>\n",
              "      <td>30.8</td>\n",
              "      <td>0.158</td>\n",
              "      <td>21</td>\n",
              "      <td>0</td>\n",
              "    </tr>\n",
              "    <tr>\n",
              "      <th>3</th>\n",
              "      <td>8</td>\n",
              "      <td>107.0</td>\n",
              "      <td>80.0</td>\n",
              "      <td>NaN</td>\n",
              "      <td>24.6</td>\n",
              "      <td>0.856</td>\n",
              "      <td>34</td>\n",
              "      <td>0</td>\n",
              "    </tr>\n",
              "    <tr>\n",
              "      <th>4</th>\n",
              "      <td>7</td>\n",
              "      <td>136.0</td>\n",
              "      <td>90.0</td>\n",
              "      <td>NaN</td>\n",
              "      <td>29.9</td>\n",
              "      <td>0.210</td>\n",
              "      <td>50</td>\n",
              "      <td>0</td>\n",
              "    </tr>\n",
              "    <tr>\n",
              "      <th>...</th>\n",
              "      <td>...</td>\n",
              "      <td>...</td>\n",
              "      <td>...</td>\n",
              "      <td>...</td>\n",
              "      <td>...</td>\n",
              "      <td>...</td>\n",
              "      <td>...</td>\n",
              "      <td>...</td>\n",
              "    </tr>\n",
              "    <tr>\n",
              "      <th>763</th>\n",
              "      <td>5</td>\n",
              "      <td>139.0</td>\n",
              "      <td>64.0</td>\n",
              "      <td>35.0</td>\n",
              "      <td>28.6</td>\n",
              "      <td>0.411</td>\n",
              "      <td>26</td>\n",
              "      <td>0</td>\n",
              "    </tr>\n",
              "    <tr>\n",
              "      <th>764</th>\n",
              "      <td>1</td>\n",
              "      <td>96.0</td>\n",
              "      <td>122.0</td>\n",
              "      <td>NaN</td>\n",
              "      <td>22.4</td>\n",
              "      <td>0.207</td>\n",
              "      <td>27</td>\n",
              "      <td>0</td>\n",
              "    </tr>\n",
              "    <tr>\n",
              "      <th>765</th>\n",
              "      <td>10</td>\n",
              "      <td>101.0</td>\n",
              "      <td>86.0</td>\n",
              "      <td>37.0</td>\n",
              "      <td>45.6</td>\n",
              "      <td>1.136</td>\n",
              "      <td>38</td>\n",
              "      <td>1</td>\n",
              "    </tr>\n",
              "    <tr>\n",
              "      <th>766</th>\n",
              "      <td>0</td>\n",
              "      <td>141.0</td>\n",
              "      <td>NaN</td>\n",
              "      <td>NaN</td>\n",
              "      <td>42.4</td>\n",
              "      <td>0.205</td>\n",
              "      <td>29</td>\n",
              "      <td>1</td>\n",
              "    </tr>\n",
              "    <tr>\n",
              "      <th>767</th>\n",
              "      <td>0</td>\n",
              "      <td>125.0</td>\n",
              "      <td>96.0</td>\n",
              "      <td>NaN</td>\n",
              "      <td>22.5</td>\n",
              "      <td>0.262</td>\n",
              "      <td>21</td>\n",
              "      <td>0</td>\n",
              "    </tr>\n",
              "  </tbody>\n",
              "</table>\n",
              "<p>768 rows × 8 columns</p>\n",
              "</div>\n",
              "      <button class=\"colab-df-convert\" onclick=\"convertToInteractive('df-7f77250a-09a4-476c-b6dd-95a031ae4195')\"\n",
              "              title=\"Convert this dataframe to an interactive table.\"\n",
              "              style=\"display:none;\">\n",
              "        \n",
              "  <svg xmlns=\"http://www.w3.org/2000/svg\" height=\"24px\"viewBox=\"0 0 24 24\"\n",
              "       width=\"24px\">\n",
              "    <path d=\"M0 0h24v24H0V0z\" fill=\"none\"/>\n",
              "    <path d=\"M18.56 5.44l.94 2.06.94-2.06 2.06-.94-2.06-.94-.94-2.06-.94 2.06-2.06.94zm-11 1L8.5 8.5l.94-2.06 2.06-.94-2.06-.94L8.5 2.5l-.94 2.06-2.06.94zm10 10l.94 2.06.94-2.06 2.06-.94-2.06-.94-.94-2.06-.94 2.06-2.06.94z\"/><path d=\"M17.41 7.96l-1.37-1.37c-.4-.4-.92-.59-1.43-.59-.52 0-1.04.2-1.43.59L10.3 9.45l-7.72 7.72c-.78.78-.78 2.05 0 2.83L4 21.41c.39.39.9.59 1.41.59.51 0 1.02-.2 1.41-.59l7.78-7.78 2.81-2.81c.8-.78.8-2.07 0-2.86zM5.41 20L4 18.59l7.72-7.72 1.47 1.35L5.41 20z\"/>\n",
              "  </svg>\n",
              "      </button>\n",
              "      \n",
              "  <style>\n",
              "    .colab-df-container {\n",
              "      display:flex;\n",
              "      flex-wrap:wrap;\n",
              "      gap: 12px;\n",
              "    }\n",
              "\n",
              "    .colab-df-convert {\n",
              "      background-color: #E8F0FE;\n",
              "      border: none;\n",
              "      border-radius: 50%;\n",
              "      cursor: pointer;\n",
              "      display: none;\n",
              "      fill: #1967D2;\n",
              "      height: 32px;\n",
              "      padding: 0 0 0 0;\n",
              "      width: 32px;\n",
              "    }\n",
              "\n",
              "    .colab-df-convert:hover {\n",
              "      background-color: #E2EBFA;\n",
              "      box-shadow: 0px 1px 2px rgba(60, 64, 67, 0.3), 0px 1px 3px 1px rgba(60, 64, 67, 0.15);\n",
              "      fill: #174EA6;\n",
              "    }\n",
              "\n",
              "    [theme=dark] .colab-df-convert {\n",
              "      background-color: #3B4455;\n",
              "      fill: #D2E3FC;\n",
              "    }\n",
              "\n",
              "    [theme=dark] .colab-df-convert:hover {\n",
              "      background-color: #434B5C;\n",
              "      box-shadow: 0px 1px 3px 1px rgba(0, 0, 0, 0.15);\n",
              "      filter: drop-shadow(0px 1px 2px rgba(0, 0, 0, 0.3));\n",
              "      fill: #FFFFFF;\n",
              "    }\n",
              "  </style>\n",
              "\n",
              "      <script>\n",
              "        const buttonEl =\n",
              "          document.querySelector('#df-7f77250a-09a4-476c-b6dd-95a031ae4195 button.colab-df-convert');\n",
              "        buttonEl.style.display =\n",
              "          google.colab.kernel.accessAllowed ? 'block' : 'none';\n",
              "\n",
              "        async function convertToInteractive(key) {\n",
              "          const element = document.querySelector('#df-7f77250a-09a4-476c-b6dd-95a031ae4195');\n",
              "          const dataTable =\n",
              "            await google.colab.kernel.invokeFunction('convertToInteractive',\n",
              "                                                     [key], {});\n",
              "          if (!dataTable) return;\n",
              "\n",
              "          const docLinkHtml = 'Like what you see? Visit the ' +\n",
              "            '<a target=\"_blank\" href=https://colab.research.google.com/notebooks/data_table.ipynb>data table notebook</a>'\n",
              "            + ' to learn more about interactive tables.';\n",
              "          element.innerHTML = '';\n",
              "          dataTable['output_type'] = 'display_data';\n",
              "          await google.colab.output.renderOutput(dataTable, element);\n",
              "          const docLink = document.createElement('div');\n",
              "          docLink.innerHTML = docLinkHtml;\n",
              "          element.appendChild(docLink);\n",
              "        }\n",
              "      </script>\n",
              "    </div>\n",
              "  </div>\n",
              "  "
            ],
            "text/plain": [
              "     Pregnancies  Glucose  ...  Age  Outcome\n",
              "0              6     98.0  ...   43        0\n",
              "1              2    112.0  ...   21        0\n",
              "2              2    108.0  ...   21        0\n",
              "3              8    107.0  ...   34        0\n",
              "4              7    136.0  ...   50        0\n",
              "..           ...      ...  ...  ...      ...\n",
              "763            5    139.0  ...   26        0\n",
              "764            1     96.0  ...   27        0\n",
              "765           10    101.0  ...   38        1\n",
              "766            0    141.0  ...   29        1\n",
              "767            0    125.0  ...   21        0\n",
              "\n",
              "[768 rows x 8 columns]"
            ]
          },
          "metadata": {},
          "execution_count": 11
        }
      ]
    },
    {
      "cell_type": "code",
      "source": [
        "m = cleaned_df.shape[1]\n",
        "cleaned_df = cleaned_df.dropna(thresh=m-2, axis=0)\n",
        "print(cleaned_df.shape[0])"
      ],
      "metadata": {
        "colab": {
          "base_uri": "https://localhost:8080/"
        },
        "id": "ywYlee2QdMUI",
        "outputId": "fe2931f2-5122-435e-9169-d90d9b609b95"
      },
      "execution_count": 12,
      "outputs": [
        {
          "output_type": "stream",
          "name": "stdout",
          "text": [
            "761\n"
          ]
        }
      ]
    },
    {
      "cell_type": "markdown",
      "source": [
        "Задание 8.6\n",
        "---\n",
        "В оставшихся записях замените пропуски на медиану. "
      ],
      "metadata": {
        "id": "JNLxFlZUeTPO"
      }
    },
    {
      "cell_type": "code",
      "source": [
        "\"\"\"Решение из подсказки\n",
        "null_data = cleaned_df.isnull().sum()\n",
        "cols = null_data[null_data>0].index\n",
        "for col in cols:\n",
        "    cleaned_df[col] = cleaned_df[col].fillna(cleaned_df[col].median())\n",
        "print(round(cleaned_df['SkinThickness'].mean()))\"\"\""
      ],
      "metadata": {
        "colab": {
          "base_uri": "https://localhost:8080/"
        },
        "id": "1__cx5BUhmxE",
        "outputId": "a6869e43-3f2e-4f61-be32-4d3da39c637c"
      },
      "execution_count": 14,
      "outputs": [
        {
          "output_type": "stream",
          "name": "stdout",
          "text": [
            "29\n"
          ]
        },
        {
          "output_type": "stream",
          "name": "stderr",
          "text": [
            "/usr/local/lib/python3.7/dist-packages/ipykernel_launcher.py:4: SettingWithCopyWarning: \n",
            "A value is trying to be set on a copy of a slice from a DataFrame.\n",
            "Try using .loc[row_indexer,col_indexer] = value instead\n",
            "\n",
            "See the caveats in the documentation: https://pandas.pydata.org/pandas-docs/stable/user_guide/indexing.html#returning-a-view-versus-a-copy\n",
            "  after removing the cwd from sys.path.\n"
          ]
        }
      ]
    },
    {
      "cell_type": "code",
      "source": [
        "#создаем словарь имя столбца: число(признак) на который надо заменить пропуски\n",
        "values = {\n",
        "    'Pregnancies': cleaned_df['Pregnancies'].median(),\n",
        "    'Glucose': cleaned_df['Glucose'].median(),\n",
        "    'BloodPressure': cleaned_df['BloodPressure'].median(),\n",
        "    'SkinThickness': cleaned_df['SkinThickness'].median(),\n",
        "    'BMI': cleaned_df['BMI'].median(),\n",
        "    'DiabetesPedigreeFunction': cleaned_df['DiabetesPedigreeFunction'].median(),\n",
        "    'Age': cleaned_df['Age'].median(),\n",
        "    'Outcome': cleaned_df['Outcome'].median()\n",
        "}\n",
        "#заполняем пропуски в соответствии с заявленным словарем\n",
        "cleaned_df = cleaned_df.fillna(values)"
      ],
      "metadata": {
        "id": "gU5v9Jmkddba"
      },
      "execution_count": 15,
      "outputs": []
    },
    {
      "cell_type": "code",
      "source": [
        "cleaned_df['SkinThickness'].median()"
      ],
      "metadata": {
        "colab": {
          "base_uri": "https://localhost:8080/"
        },
        "id": "ANvOikTOeNYN",
        "outputId": "9cf6676c-084d-4f6a-9686-7fae2d6c658b"
      },
      "execution_count": 16,
      "outputs": [
        {
          "output_type": "execute_result",
          "data": {
            "text/plain": [
              "29.0"
            ]
          },
          "metadata": {},
          "execution_count": 16
        }
      ]
    },
    {
      "cell_type": "markdown",
      "source": [
        "Задание 8.7\n",
        "---\n",
        "Сколько выбросов найдёт классический метод межквартильного размаха в признаке SkinThickness?"
      ],
      "metadata": {
        "id": "KNBmxoZejR0Q"
      }
    },
    {
      "cell_type": "code",
      "source": [
        "def outliers_iqr_mod(data, feature, left=1.5, right=1.5, log_scale=False):\n",
        "    if log_scale:\n",
        "        x = np.log(data[feature])\n",
        "    else:\n",
        "        x= data[feature]\n",
        "    quartile_1, quartile_3 = x.quantile(0.25), x.quantile(0.75),\n",
        "    iqr = quartile_3 - quartile_1\n",
        "    lower_bound = quartile_1 - (iqr * left)\n",
        "    upper_bound = quartile_3 + (iqr * right)\n",
        "    outliers = data[(x<lower_bound) | (x > upper_bound)]\n",
        "    cleaned = data[(x>lower_bound) & (x < upper_bound)]\n",
        "    return outliers, cleaned\n",
        "\n",
        "    \n",
        "outliers, _ = outliers_iqr_mod(cleaned_df, 'SkinThickness')\n",
        "print(outliers.shape[0])"
      ],
      "metadata": {
        "colab": {
          "base_uri": "https://localhost:8080/"
        },
        "id": "eBNnmGXhjRII",
        "outputId": "4307eb83-7277-44c0-e0fa-a64df42e419d"
      },
      "execution_count": 24,
      "outputs": [
        {
          "output_type": "stream",
          "name": "stdout",
          "text": [
            "87\n"
          ]
        }
      ]
    },
    {
      "cell_type": "markdown",
      "source": [
        "Задание 8.8\n",
        "---\n",
        "Сколько выбросов найдёт классический метод z-отклонения в признаке SkinThickness?"
      ],
      "metadata": {
        "id": "zHBUWZBTk4Ee"
      }
    },
    {
      "cell_type": "code",
      "source": [
        "def outliers_z_score(data, feature, log_scale=False):\n",
        "    if log_scale:\n",
        "        x = np.log(data[feature]+1)\n",
        "    else:\n",
        "        x = data[feature]\n",
        "    mu = x.mean()\n",
        "    sigma = x.std()\n",
        "    lower_bound = mu - 3 * sigma\n",
        "    upper_bound = mu + 3 * sigma\n",
        "    outliers = data[(x < lower_bound) | (x > upper_bound)]\n",
        "    cleaned = data[(x > lower_bound) & (x < upper_bound)]\n",
        "    return outliers, cleaned\n",
        "\n",
        "\n",
        "outliers, cleaned = outliers_z_score(cleaned_df, 'SkinThickness')\n",
        "print(f'Число выбросов по методу z-отклонения: {outliers.shape[0]}')\n",
        "print(f'Результирующее число записей: {cleaned.shape[0]}')"
      ],
      "metadata": {
        "colab": {
          "base_uri": "https://localhost:8080/"
        },
        "id": "XRUOWAfXk70U",
        "outputId": "3d9bc791-06c9-412e-e526-6bac2f538282"
      },
      "execution_count": 27,
      "outputs": [
        {
          "output_type": "stream",
          "name": "stdout",
          "text": [
            "Число выбросов по методу z-отклонения: 4\n",
            "Результирующее число записей: 757\n"
          ]
        }
      ]
    },
    {
      "cell_type": "markdown",
      "source": [
        "Задание 8.9\n",
        "---\n",
        "Найдите число выбросов в признаке DiabetesPedigreeFunction с помощью классического метода межквартильного размаха."
      ],
      "metadata": {
        "id": "puIoauJumeC9"
      }
    },
    {
      "cell_type": "code",
      "source": [
        "def outliers_iqr_mod(data, feature, left=1.5, right=1.5, log_scale=False):\n",
        "    if log_scale:\n",
        "        x = np.log(data[feature])\n",
        "    else:\n",
        "        x= data[feature]\n",
        "    quartile_1, quartile_3 = x.quantile(0.25), x.quantile(0.75),\n",
        "    iqr = quartile_3 - quartile_1\n",
        "    lower_bound = quartile_1 - (iqr * left)\n",
        "    upper_bound = quartile_3 + (iqr * right)\n",
        "    outliers = data[(x<lower_bound) | (x > upper_bound)]\n",
        "    cleaned = data[(x>lower_bound) & (x < upper_bound)]\n",
        "    return outliers, cleaned\n",
        "\n",
        "\n",
        "outliers, cleaned = outliers_iqr_mod(cleaned_df, 'DiabetesPedigreeFunction')\n",
        "print(f'Число выбросов по методу z-отклонения: {outliers.shape[0]}')\n",
        "print(f'Результирующее число записей: {cleaned.shape[0]}')"
      ],
      "metadata": {
        "colab": {
          "base_uri": "https://localhost:8080/"
        },
        "id": "ZUQO7mTxmjAl",
        "outputId": "d39ac22a-ba39-4ef0-a9f1-aba96fc9d40e"
      },
      "execution_count": 28,
      "outputs": [
        {
          "output_type": "stream",
          "name": "stdout",
          "text": [
            "Число выбросов по методу z-отклонения: 29\n",
            "Результирующее число записей: 732\n"
          ]
        }
      ]
    },
    {
      "cell_type": "code",
      "source": [
        "def outliers_iqr_mod(data, feature, left=1.5, right=1.5, log_scale=False):\n",
        "    if log_scale:\n",
        "        x = np.log(data[feature])\n",
        "    else:\n",
        "        x= data[feature]\n",
        "    quartile_1, quartile_3 = x.quantile(0.25), x.quantile(0.75),\n",
        "    iqr = quartile_3 - quartile_1\n",
        "    lower_bound = quartile_1 - (iqr * left)\n",
        "    upper_bound = quartile_3 + (iqr * right)\n",
        "    outliers = data[(x<lower_bound) | (x > upper_bound)]\n",
        "    cleaned = data[(x>lower_bound) & (x < upper_bound)]\n",
        "    return outliers, cleaned\n",
        "\n",
        "\n",
        "outliers, cleaned = outliers_iqr_mod(cleaned_df, 'DiabetesPedigreeFunction', log_scale=True)\n",
        "print(f'Число выбросов по методу z-отклонения: {outliers.shape[0]}')\n",
        "print(f'Результирующее число записей: {cleaned.shape[0]}')"
      ],
      "metadata": {
        "colab": {
          "base_uri": "https://localhost:8080/"
        },
        "id": "8_WYLGIznSj4",
        "outputId": "36970c4e-bed3-48fe-d08b-2bb75b4c5e14"
      },
      "execution_count": 29,
      "outputs": [
        {
          "output_type": "stream",
          "name": "stdout",
          "text": [
            "Число выбросов по методу z-отклонения: 0\n",
            "Результирующее число записей: 761\n"
          ]
        }
      ]
    }
  ],
  "metadata": {
    "colab": {
      "collapsed_sections": [],
      "name": "Очистка данных.ipynb",
      "provenance": []
    },
    "kernelspec": {
      "display_name": "Python 3",
      "name": "python3"
    },
    "language_info": {
      "name": "python"
    }
  },
  "nbformat": 4,
  "nbformat_minor": 0
}